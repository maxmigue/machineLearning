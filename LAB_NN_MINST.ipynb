{
  "cells": [
    {
      "cell_type": "markdown",
      "metadata": {
        "id": "view-in-github",
        "colab_type": "text"
      },
      "source": [
        "<a href=\"https://colab.research.google.com/github/maxmigue/machineLearning/blob/main/LAB_NN_MINST.ipynb\" target=\"_parent\"><img src=\"https://colab.research.google.com/assets/colab-badge.svg\" alt=\"Open In Colab\"/></a>"
      ]
    },
    {
      "cell_type": "markdown",
      "id": "0e566d1d",
      "metadata": {
        "id": "0e566d1d"
      },
      "source": [
        "\n",
        "# Laboratorio: Red Neuronal con MNIST  \n",
        "**Curso:** Machine Learning  \n",
        "**Total puntos:** 10\n",
        "\n",
        "**Objetivo:** Implementar una red neuronal simple para clasificar dígitos escritos a mano del conjunto de datos MNIST utilizando Python y Keras.\n"
      ]
    },
    {
      "cell_type": "markdown",
      "id": "d6ff2177",
      "metadata": {
        "id": "d6ff2177"
      },
      "source": [
        "\n",
        "## Paso 1: Cargar el conjunto de datos MNIST (1 punto)\n",
        "\n",
        "Ejecuta el siguiente bloque para descargar y explorar el conjunto de datos.\n"
      ]
    },
    {
      "cell_type": "code",
      "execution_count": 30,
      "id": "7c659575",
      "metadata": {
        "id": "7c659575",
        "colab": {
          "base_uri": "https://localhost:8080/"
        },
        "outputId": "4d125462-ddd9-4e4d-b3fe-98eb91d81728"
      },
      "outputs": [
        {
          "output_type": "stream",
          "name": "stdout",
          "text": [
            "Tamaño del set de entrenamiento: (60000, 28, 28)\n",
            "Tamaño del set de test: (10000, 28, 28)\n"
          ]
        }
      ],
      "source": [
        "\n",
        "from tensorflow.keras.datasets import mnist\n",
        "\n",
        "# Cargar datos\n",
        "(train_images, train_labels), (test_images, test_labels) = mnist.load_data()\n",
        "\n",
        "print(\"Tamaño del set de entrenamiento:\", train_images.shape)\n",
        "print(\"Tamaño del set de test:\", test_images.shape)\n"
      ]
    },
    {
      "cell_type": "markdown",
      "id": "8c2895d0",
      "metadata": {
        "id": "8c2895d0"
      },
      "source": [
        "\n",
        "## Paso 2: Visualizar ejemplos del dataset (1 punto)\n",
        "\n",
        "✏️ **Slot para completar:** Visualiza al menos 5 imágenes con sus etiquetas utilizando `matplotlib.pyplot.imshow()`.\n"
      ]
    },
    {
      "cell_type": "code",
      "execution_count": 31,
      "id": "1fab1a72",
      "metadata": {
        "id": "1fab1a72",
        "colab": {
          "base_uri": "https://localhost:8080/",
          "height": 168
        },
        "outputId": "f44eeaee-5141-44f0-ae4a-39c809a8b011"
      },
      "outputs": [
        {
          "output_type": "display_data",
          "data": {
            "text/plain": [
              "<Figure size 640x480 with 5 Axes>"
            ],
            "image/png": "[encoded data removed]"
          },
          "metadata": {}
        }
      ],
      "source": [
        "# COMPLETA AQUÍ: Visualización de imágenes con sus etiquetas\n",
        "\n",
        "import matplotlib.pyplot as plt\n",
        "\n",
        "for i in range(5):\n",
        "    plt.subplot(1, 5, i + 1)\n",
        "    plt.imshow(train_images[i], cmap='gray')\n",
        "    plt.title(f\"Etiqueta: {train_labels[i]}\")\n"
      ]
    },
    {
      "cell_type": "markdown",
      "id": "9e5bc3a8",
      "metadata": {
        "id": "9e5bc3a8"
      },
      "source": [
        "\n",
        "## Paso 3: Preprocesamiento (1 punto)\n",
        "\n",
        "✏️ **Slot para completar:**\n",
        "- Normaliza las imágenes (divide por 255.0).\n",
        "- Aplana cada imagen a un vector de 784 valores.\n",
        "- Codifica las etiquetas con `to_categorical`.\n"
      ]
    },
    {
      "cell_type": "code",
      "execution_count": 32,
      "id": "40757ea1",
      "metadata": {
        "id": "40757ea1"
      },
      "outputs": [],
      "source": [
        "# COMPLETA AQUÍ: Normalización, flattening y codificación one-hot\n",
        "\n",
        "# Normalización\n",
        "train_images = train_images / 255.0\n",
        "test_images = test_images / 255.0\n",
        "\n",
        "# Flattening\n",
        "train_images_fl = train_images.reshape(-1, 784)\n",
        "test_images_fl = test_images.reshape(-1, 784)\n",
        "\n",
        "# One-hot encoding\n",
        "from tensorflow.keras.utils import to_categorical\n",
        "\n",
        "train_labels = to_categorical(train_labels)\n",
        "test_labels = to_categorical(test_labels)"
      ]
    },
    {
      "cell_type": "code",
      "source": [
        "# Visualización de primeros 25 datos de test\n",
        "plt.figure(figsize=(10,10))\n",
        "for i in range(25):\n",
        "    plt.subplot(5,5,i+1)\n",
        "    plt.xticks([])\n",
        "    plt.yticks([])\n",
        "    plt.grid(False)\n",
        "    plt.imshow(train_images[i], cmap=plt.cm.binary)\n",
        "    plt.xlabel(train_labels[i])\n",
        "plt.show()"
      ],
      "metadata": {
        "colab": {
          "base_uri": "https://localhost:8080/",
          "height": 826
        },
        "id": "rLQCBQ9f9wHN",
        "outputId": "a0fbfe8c-dcac-4ae1-9818-ffad8ef02c4c"
      },
      "id": "rLQCBQ9f9wHN",
      "execution_count": 33,
      "outputs": [
        {
          "output_type": "display_data",
          "data": {
            "text/plain": [
              "<Figure size 1000x1000 with 25 Axes>"
            ],
            "image/png": "[encoded data removed]"
          },
          "metadata": {}
        }
      ]
    },
    {
      "cell_type": "markdown",
      "id": "36e5006d",
      "metadata": {
        "id": "36e5006d"
      },
      "source": [
        "\n",
        "## Paso 4: Definir la red neuronal (2 puntos)\n",
        "\n",
        "✏️ **Slot para completar:**\n",
        "- Crea un modelo `Sequential`.\n",
        "- Agrega una capa oculta con activación ReLU.\n",
        "- Agrega una capa de salida con activación Softmax.\n",
        "- Compila el modelo con `adam` y `categorical_crossentropy`.\n"
      ]
    },
    {
      "cell_type": "code",
      "source": [
        "!pip install keras\n"
      ],
      "metadata": {
        "colab": {
          "base_uri": "https://localhost:8080/"
        },
        "collapsed": true,
        "id": "HFu1g8N8C022",
        "outputId": "16bdf3e5-29f4-4b1d-c3a2-351612177b1d"
      },
      "id": "HFu1g8N8C022",
      "execution_count": null,
      "outputs": [
        {
          "output_type": "stream",
          "name": "stdout",
          "text": [
            "Requirement already satisfied: keras in /usr/local/lib/python3.11/dist-packages (3.8.0)\n",
            "Requirement already satisfied: absl-py in /usr/local/lib/python3.11/dist-packages (from keras) (1.4.0)\n",
            "Requirement already satisfied: numpy in /usr/local/lib/python3.11/dist-packages (from keras) (2.0.2)\n",
            "Requirement already satisfied: rich in /usr/local/lib/python3.11/dist-packages (from keras) (13.9.4)\n",
            "Requirement already satisfied: namex in /usr/local/lib/python3.11/dist-packages (from keras) (0.0.9)\n",
            "Requirement already satisfied: h5py in /usr/local/lib/python3.11/dist-packages (from keras) (3.13.0)\n",
            "Requirement already satisfied: optree in /usr/local/lib/python3.11/dist-packages (from keras) (0.15.0)\n",
            "Requirement already satisfied: ml-dtypes in /usr/local/lib/python3.11/dist-packages (from keras) (0.4.1)\n",
            "Requirement already satisfied: packaging in /usr/local/lib/python3.11/dist-packages (from keras) (24.2)\n",
            "Requirement already satisfied: typing-extensions>=4.5.0 in /usr/local/lib/python3.11/dist-packages (from optree->keras) (4.13.2)\n",
            "Requirement already satisfied: markdown-it-py>=2.2.0 in /usr/local/lib/python3.11/dist-packages (from rich->keras) (3.0.0)\n",
            "Requirement already satisfied: pygments<3.0.0,>=2.13.0 in /usr/local/lib/python3.11/dist-packages (from rich->keras) (2.19.1)\n",
            "Requirement already satisfied: mdurl~=0.1 in /usr/local/lib/python3.11/dist-packages (from markdown-it-py>=2.2.0->rich->keras) (0.1.2)\n"
          ]
        }
      ]
    },
    {
      "cell_type": "code",
      "source": [
        "!pip install keras.utils"
      ],
      "metadata": {
        "collapsed": true,
        "colab": {
          "base_uri": "https://localhost:8080/"
        },
        "id": "9CHAC1-tDXAc",
        "outputId": "0f6c0846-8710-495e-dc1e-6c29c3eff783"
      },
      "id": "9CHAC1-tDXAc",
      "execution_count": null,
      "outputs": [
        {
          "output_type": "stream",
          "name": "stdout",
          "text": [
            "Collecting keras.utils\n",
            "  Downloading keras-utils-1.0.13.tar.gz (2.4 kB)\n",
            "  Preparing metadata (setup.py) ... \u001b[?25l\u001b[?25hdone\n",
            "Requirement already satisfied: Keras>=2.1.5 in /usr/local/lib/python3.11/dist-packages (from keras.utils) (3.8.0)\n",
            "Requirement already satisfied: absl-py in /usr/local/lib/python3.11/dist-packages (from Keras>=2.1.5->keras.utils) (1.4.0)\n",
            "Requirement already satisfied: numpy in /usr/local/lib/python3.11/dist-packages (from Keras>=2.1.5->keras.utils) (2.0.2)\n",
            "Requirement already satisfied: rich in /usr/local/lib/python3.11/dist-packages (from Keras>=2.1.5->keras.utils) (13.9.4)\n",
            "Requirement already satisfied: namex in /usr/local/lib/python3.11/dist-packages (from Keras>=2.1.5->keras.utils) (0.0.9)\n",
            "Requirement already satisfied: h5py in /usr/local/lib/python3.11/dist-packages (from Keras>=2.1.5->keras.utils) (3.13.0)\n",
            "Requirement already satisfied: optree in /usr/local/lib/python3.11/dist-packages (from Keras>=2.1.5->keras.utils) (0.15.0)\n",
            "Requirement already satisfied: ml-dtypes in /usr/local/lib/python3.11/dist-packages (from Keras>=2.1.5->keras.utils) (0.4.1)\n",
            "Requirement already satisfied: packaging in /usr/local/lib/python3.11/dist-packages (from Keras>=2.1.5->keras.utils) (24.2)\n",
            "Requirement already satisfied: typing-extensions>=4.5.0 in /usr/local/lib/python3.11/dist-packages (from optree->Keras>=2.1.5->keras.utils) (4.13.2)\n",
            "Requirement already satisfied: markdown-it-py>=2.2.0 in /usr/local/lib/python3.11/dist-packages (from rich->Keras>=2.1.5->keras.utils) (3.0.0)\n",
            "Requirement already satisfied: pygments<3.0.0,>=2.13.0 in /usr/local/lib/python3.11/dist-packages (from rich->Keras>=2.1.5->keras.utils) (2.19.1)\n",
            "Requirement already satisfied: mdurl~=0.1 in /usr/local/lib/python3.11/dist-packages (from markdown-it-py>=2.2.0->rich->Keras>=2.1.5->keras.utils) (0.1.2)\n",
            "Building wheels for collected packages: keras.utils\n",
            "  Building wheel for keras.utils (setup.py) ... \u001b[?25l\u001b[?25hdone\n",
            "  Created wheel for keras.utils: filename=keras_utils-1.0.13-py3-none-any.whl size=2630 sha256=7d119397862ef3370485ed0450f604054b0481e877368032f0fa0ec429c93ca2\n",
            "  Stored in directory: /root/.cache/pip/wheels/84/04/c8/f3d21e09aa3a1e25bc4a4fc07341ca073d7372f33dbd344a06\n",
            "Successfully built keras.utils\n",
            "Installing collected packages: keras.utils\n",
            "Successfully installed keras.utils-1.0.13\n"
          ]
        }
      ]
    },
    {
      "cell_type": "code",
      "execution_count": 45,
      "id": "9256bacd",
      "metadata": {
        "id": "9256bacd",
        "colab": {
          "base_uri": "https://localhost:8080/"
        },
        "outputId": "299843ce-bd49-4fee-b251-a376833f3ca7"
      },
      "outputs": [
        {
          "output_type": "stream",
          "name": "stderr",
          "text": [
            "/usr/local/lib/python3.11/dist-packages/keras/src/layers/reshaping/flatten.py:37: UserWarning: Do not pass an `input_shape`/`input_dim` argument to a layer. When using Sequential models, prefer using an `Input(shape)` object as the first layer in the model instead.\n",
            "  super().__init__(**kwargs)\n"
          ]
        }
      ],
      "source": [
        "# COMPLETA AQUÍ: Definición y compilación del modelo\n",
        "import tensorflow as tf\n",
        "\n",
        "model = tf.keras.Sequential([\n",
        "    tf.keras.layers.Flatten(input_shape=(784,)),\n",
        "    tf.keras.layers.Dense(128, activation='relu'),\n",
        "    tf.keras.layers.Dense(10, activation='softmax')\n",
        "])"
      ]
    },
    {
      "cell_type": "code",
      "source": [
        "# Compilación del modelo\n",
        "model.compile(optimizer='adam',\n",
        "              loss='categorical_crossentropy',\n",
        "              metrics=['accuracy'])"
      ],
      "metadata": {
        "id": "AEWOTtp5DdIX"
      },
      "id": "AEWOTtp5DdIX",
      "execution_count": 46,
      "outputs": []
    },
    {
      "cell_type": "markdown",
      "id": "32fa8560",
      "metadata": {
        "id": "32fa8560"
      },
      "source": [
        "\n",
        "## Paso 5: Entrenar el modelo (1 punto)\n",
        "\n",
        "✏️ **Slot para completar:** Entrena el modelo con `fit` durante 5 épocas y batch size 32.\n"
      ]
    },
    {
      "cell_type": "code",
      "execution_count": 47,
      "id": "df8023c2",
      "metadata": {
        "id": "df8023c2",
        "colab": {
          "base_uri": "https://localhost:8080/"
        },
        "outputId": "aaf7fc49-3218-4248-a685-33de309dd89d"
      },
      "outputs": [
        {
          "output_type": "stream",
          "name": "stdout",
          "text": [
            "Epoch 1/5\n",
            "\u001b[1m1875/1875\u001b[0m \u001b[32m━━━━━━━━━━━━━━━━━━━━\u001b[0m\u001b[37m\u001b[0m \u001b[1m9s\u001b[0m 4ms/step - accuracy: 0.8756 - loss: 0.4314\n",
            "Epoch 2/5\n",
            "\u001b[1m1875/1875\u001b[0m \u001b[32m━━━━━━━━━━━━━━━━━━━━\u001b[0m\u001b[37m\u001b[0m \u001b[1m11s\u001b[0m 4ms/step - accuracy: 0.9618 - loss: 0.1252\n",
            "Epoch 3/5\n",
            "\u001b[1m1875/1875\u001b[0m \u001b[32m━━━━━━━━━━━━━━━━━━━━\u001b[0m\u001b[37m\u001b[0m \u001b[1m12s\u001b[0m 5ms/step - accuracy: 0.9752 - loss: 0.0809\n",
            "Epoch 4/5\n",
            "\u001b[1m1875/1875\u001b[0m \u001b[32m━━━━━━━━━━━━━━━━━━━━\u001b[0m\u001b[37m\u001b[0m \u001b[1m9s\u001b[0m 5ms/step - accuracy: 0.9821 - loss: 0.0599\n",
            "Epoch 5/5\n",
            "\u001b[1m1875/1875\u001b[0m \u001b[32m━━━━━━━━━━━━━━━━━━━━\u001b[0m\u001b[37m\u001b[0m \u001b[1m9s\u001b[0m 4ms/step - accuracy: 0.9868 - loss: 0.0431\n"
          ]
        },
        {
          "output_type": "execute_result",
          "data": {
            "text/plain": [
              "<keras.src.callbacks.history.History at 0x7fe668407510>"
            ]
          },
          "metadata": {},
          "execution_count": 47
        }
      ],
      "source": [
        "\n",
        "# COMPLETA AQUÍ: Entrenamiento del modelo\n",
        "model.fit(train_images_fl, train_labels, epochs=5, batch_size=32)"
      ]
    },
    {
      "cell_type": "markdown",
      "id": "abd4ea81",
      "metadata": {
        "id": "abd4ea81"
      },
      "source": [
        "\n",
        "## Paso 6: Evaluar el modelo (1 punto)\n",
        "\n",
        "✏️ **Slot para completar:** Evalúa el modelo con `evaluate()` en el conjunto de prueba.\n"
      ]
    },
    {
      "cell_type": "code",
      "execution_count": 50,
      "id": "fed31d1c",
      "metadata": {
        "id": "fed31d1c",
        "colab": {
          "base_uri": "https://localhost:8080/"
        },
        "outputId": "271e6ee2-806b-44b9-c193-37a5ed9ddaa5"
      },
      "outputs": [
        {
          "output_type": "stream",
          "name": "stdout",
          "text": [
            "313/313 - 1s - 4ms/step - accuracy: 0.9774 - loss: 0.0762\n",
            "\n",
            "Test accuracy: 0.977400004863739\n"
          ]
        }
      ],
      "source": [
        "# COMPLETA AQUÍ: Evaluación del modelo\n",
        "\n",
        "test_loss, test_acc = model.evaluate(test_images_fl,  test_labels, verbose=2)\n",
        "\n",
        "print('\\nTest accuracy:', test_acc)"
      ]
    },
    {
      "cell_type": "markdown",
      "id": "7b5a1fd0",
      "metadata": {
        "id": "7b5a1fd0"
      },
      "source": [
        "## Preguntas de Reflexión (3 puntos en total)"
      ]
    },
    {
      "cell_type": "markdown",
      "id": "7455c9fb",
      "metadata": {
        "id": "7455c9fb"
      },
      "source": [
        "### 1. ¿Qué ventaja observas al usar codificación one-hot para las etiquetas? (0.5 punto)"
      ]
    },
    {
      "cell_type": "code",
      "execution_count": null,
      "id": "d7940958",
      "metadata": {
        "id": "d7940958"
      },
      "outputs": [],
      "source": [
        "# Tu respuesta aquí\n",
        "# Permite representar variables categóricas como numéricas, lo cual facilita al modelo\n",
        "# para predecir (capa de salida), ya que facilita la representación de todas las clases y una\n",
        "# como la correcta."
      ]
    },
    {
      "cell_type": "markdown",
      "id": "dbd9f5f9",
      "metadata": {
        "id": "dbd9f5f9"
      },
      "source": [
        "### 2. ¿Qué ocurre si aumentas o disminuyes el número de neuronas ocultas? (0.5 punto)"
      ]
    },
    {
      "cell_type": "code",
      "execution_count": null,
      "id": "998b05b8",
      "metadata": {
        "id": "998b05b8"
      },
      "outputs": [],
      "source": [
        "# Tu respuesta aquí\n",
        "# Un aumento en el número de neuronas puede generar sobreajuste con los datos\n",
        "# de entrada, dependiendo si la cantidad de datos no es lo suficientemente mayor\n",
        "# a la cantidad de neuronas.\n",
        "# Si no existe sobreajuste, este aumento puede llevar a un mejor rendimiento en la\n",
        "# solución de problemas con mayor complejidad."
      ]
    },
    {
      "cell_type": "markdown",
      "id": "2a1bf432",
      "metadata": {
        "id": "2a1bf432"
      },
      "source": [
        "### 3. ¿Qué alternativa propondrías al optimizador `adam` y por qué? (0.5 punto)"
      ]
    },
    {
      "cell_type": "code",
      "execution_count": null,
      "id": "d57b11e7",
      "metadata": {
        "id": "d57b11e7"
      },
      "outputs": [],
      "source": [
        "# Tu respuesta aquí"
      ]
    },
    {
      "cell_type": "markdown",
      "id": "c56b32ea",
      "metadata": {
        "id": "c56b32ea"
      },
      "source": [
        "### 4. ¿Cómo cambia el desempeño si entrenas más épocas? ¿Cuál es el riesgo? (0.5 punto)"
      ]
    },
    {
      "cell_type": "code",
      "execution_count": null,
      "id": "424e5803",
      "metadata": {
        "id": "424e5803"
      },
      "outputs": [],
      "source": [
        "# Tu respuesta aquí\n",
        "# Aumenta la precisión del modelo, pero se corre el riesgo de que, al llegar a un\n",
        "# número muy elevado de épocas, se realice un sobreajuste con los datos de entrada."
      ]
    },
    {
      "cell_type": "markdown",
      "id": "d79eea4a",
      "metadata": {
        "id": "d79eea4a"
      },
      "source": [
        "### 5. ¿Por qué es importante dividir en conjuntos de entrenamiento y prueba? (1 punto)"
      ]
    },
    {
      "cell_type": "code",
      "execution_count": null,
      "id": "7e37c659",
      "metadata": {
        "id": "7e37c659"
      },
      "outputs": [],
      "source": [
        "# Tu respuesta aquí\n",
        "# Es importante tener datos de prueba para evaluar el rendimiento del modelo entrenado con\n",
        "# los datos de entrada, es vital que se divida el dataset en entrenamiento y prueba ya\n",
        "# que si utilizamos muchos datos, el modelo se puede sobreajustar, además, necesitamos\n",
        "# una cantidad no menor de datos para realizar una correcta evaluación del modelo."
      ]
    }
  ],
  "metadata": {
    "colab": {
      "provenance": [],
      "include_colab_link": true
    },
    "language_info": {
      "name": "python"
    },
    "kernelspec": {
      "name": "python3",
      "display_name": "Python 3"
    }
  },
  "nbformat": 4,
  "nbformat_minor": 5
}