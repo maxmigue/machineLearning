{
  "nbformat": 4,
  "nbformat_minor": 0,
  "metadata": {
    "colab": {
      "provenance": [],
      "include_colab_link": true
    },
    "kernelspec": {
      "name": "python3",
      "display_name": "Python 3"
    },
    "language_info": {
      "name": "python"
    }
  },
  "cells": [
    {
      "cell_type": "markdown",
      "metadata": {
        "id": "view-in-github",
        "colab_type": "text"
      },
      "source": [
        "<a href=\"https://colab.research.google.com/github/castudil/Machine-Learning/blob/main/Proyecto%20Final%20ML/%20Entrega%2005%20-%20Interpret/%20Entrega_05_Interpret_wine.ipynb\" target=\"_parent\"><img src=\"https://colab.research.google.com/assets/colab-badge.svg\" alt=\"Open In Colab\"/></a>"
      ]
    },
    {
      "cell_type": "markdown",
      "source": [
        "El siguiente notebook muestra el ciclo completo del método OSEMN. Éste método involucra la obtención, limpieza, exploración, modelamiento, e interpretación de los datos. \n",
        "\n",
        "En esta ocasión se procesan datos correspondientes a evaluaciones de vinos."
      ],
      "metadata": {
        "id": "nU9T6FM8qFI6"
      }
    },
    {
      "cell_type": "markdown",
      "source": [
        "###PASO 1: OBTAIN\n"
      ],
      "metadata": {
        "id": "bmBAtRbu3lCy"
      }
    },
    {
      "cell_type": "code",
      "execution_count": 34,
      "metadata": {
        "id": "0QJ6-0DB3eaa"
      },
      "outputs": [],
      "source": [
        "# Imports\n",
        "# Data import and manipulation\n",
        "import pandas as pd\n",
        "\n",
        "# Math\n",
        "import numpy as np\n",
        "# Seeding the whole notebook (although in general I also always set my random\n",
        "# state manually when it is an option)\n",
        "np.random.seed(543)\n",
        "\n",
        "# Some statistics, including some checks for normality and skew\n",
        "from scipy import stats\n",
        "from scipy.stats import norm, skew\n",
        "from scipy.stats import kurtosis, skew\n",
        "\n",
        "# Create a train-test split, so we reserve some data for testing\n",
        "from sklearn.model_selection import train_test_split\n",
        "from sklearn.metrics import confusion_matrix, classification_report\n",
        "from sklearn.ensemble import RandomForestClassifier\n",
        "from sklearn.model_selection import KFold\n",
        "from sklearn.model_selection import GridSearchCV\n",
        "from sklearn.metrics import confusion_matrix, classification_report\n",
        "from sklearn.impute import SimpleImputer\n",
        "from sklearn.metrics import accuracy_score,precision_score,recall_score,f1_score\n",
        "import warnings\n",
        "warnings.filterwarnings(\"ignore\")\n",
        "\n",
        "# Visualization\n",
        "import matplotlib.pyplot as plt\n",
        "%matplotlib inline\n",
        "# Prettier visualizations\n",
        "import seaborn as sns\n",
        "# Sets the default style for seaborn, adding the nice darkgrid background\n",
        "sns.set()\n",
        "from wordcloud import WordCloud, STOPWORDS \n"
      ]
    },
    {
      "cell_type": "markdown",
      "source": [
        " almacenamos en una variable la dirección URL donde se encuentran los datos."
      ],
      "metadata": {
        "id": "1e-uxrT2qlYY"
      }
    },
    {
      "cell_type": "code",
      "source": [
        "URL = \"https://raw.githubusercontent.com/castudil/Machine-Learning/main/Proyecto%20Final%20ML/%20Entrega%2005%20-%20Interpret/winemag-data-130k-v2.csv\"\n"
      ],
      "metadata": {
        "id": "6YELHHramWGE"
      },
      "execution_count": 33,
      "outputs": []
    },
    {
      "cell_type": "code",
      "source": [
        "df = pd.read_csv(URL, index_col=0)\n",
        "df.head()\n"
      ],
      "metadata": {
        "colab": {
          "base_uri": "https://localhost:8080/",
          "height": 503
        },
        "id": "bWRmhP_EmyC-",
        "outputId": "418e36e4-c86c-4b9b-ebb5-51e6342dea04"
      },
      "execution_count": 35,
      "outputs": [
        {
          "output_type": "execute_result",
          "data": {
            "text/plain": [
              "    country                                        description  \\\n",
              "0     Italy  Aromas include tropical fruit, broom, brimston...   \n",
              "1  Portugal  This is ripe and fruity, a wine that is smooth...   \n",
              "2        US  Tart and snappy, the flavors of lime flesh and...   \n",
              "3        US  Pineapple rind, lemon pith and orange blossom ...   \n",
              "4        US  Much like the regular bottling from 2012, this...   \n",
              "\n",
              "                          designation  points  price           province  \\\n",
              "0                        Vulkà Bianco      87    NaN  Sicily & Sardinia   \n",
              "1                            Avidagos      87   15.0              Douro   \n",
              "2                                 NaN      87   14.0             Oregon   \n",
              "3                Reserve Late Harvest      87   13.0           Michigan   \n",
              "4  Vintner's Reserve Wild Child Block      87   65.0             Oregon   \n",
              "\n",
              "              region_1           region_2         taster_name  \\\n",
              "0                 Etna                NaN       Kerin O’Keefe   \n",
              "1                  NaN                NaN          Roger Voss   \n",
              "2    Willamette Valley  Willamette Valley        Paul Gregutt   \n",
              "3  Lake Michigan Shore                NaN  Alexander Peartree   \n",
              "4    Willamette Valley  Willamette Valley        Paul Gregutt   \n",
              "\n",
              "  taster_twitter_handle                                              title  \\\n",
              "0          @kerinokeefe                  Nicosia 2013 Vulkà Bianco  (Etna)   \n",
              "1            @vossroger      Quinta dos Avidagos 2011 Avidagos Red (Douro)   \n",
              "2           @paulgwine       Rainstorm 2013 Pinot Gris (Willamette Valley)   \n",
              "3                   NaN  St. Julian 2013 Reserve Late Harvest Riesling ...   \n",
              "4           @paulgwine   Sweet Cheeks 2012 Vintner's Reserve Wild Child...   \n",
              "\n",
              "          variety               winery  \n",
              "0     White Blend              Nicosia  \n",
              "1  Portuguese Red  Quinta dos Avidagos  \n",
              "2      Pinot Gris            Rainstorm  \n",
              "3        Riesling           St. Julian  \n",
              "4      Pinot Noir         Sweet Cheeks  "
            ],
            "text/html": [
              "\n",
              "  <div id=\"df-a9098c1b-9f82-41e9-bb22-50843bebebaa\">\n",
              "    <div class=\"colab-df-container\">\n",
              "      <div>\n",
              "<style scoped>\n",
              "    .dataframe tbody tr th:only-of-type {\n",
              "        vertical-align: middle;\n",
              "    }\n",
              "\n",
              "    .dataframe tbody tr th {\n",
              "        vertical-align: top;\n",
              "    }\n",
              "\n",
              "    .dataframe thead th {\n",
              "        text-align: right;\n",
              "    }\n",
              "</style>\n",
              "<table border=\"1\" class=\"dataframe\">\n",
              "  <thead>\n",
              "    <tr style=\"text-align: right;\">\n",
              "      <th></th>\n",
              "      <th>country</th>\n",
              "      <th>description</th>\n",
              "      <th>designation</th>\n",
              "      <th>points</th>\n",
              "      <th>price</th>\n",
              "      <th>province</th>\n",
              "      <th>region_1</th>\n",
              "      <th>region_2</th>\n",
              "      <th>taster_name</th>\n",
              "      <th>taster_twitter_handle</th>\n",
              "      <th>title</th>\n",
              "      <th>variety</th>\n",
              "      <th>winery</th>\n",
              "    </tr>\n",
              "  </thead>\n",
              "  <tbody>\n",
              "    <tr>\n",
              "      <th>0</th>\n",
              "      <td>Italy</td>\n",
              "      <td>Aromas include tropical fruit, broom, brimston...</td>\n",
              "      <td>Vulkà Bianco</td>\n",
              "      <td>87</td>\n",
              "      <td>NaN</td>\n",
              "      <td>Sicily &amp; Sardinia</td>\n",
              "      <td>Etna</td>\n",
              "      <td>NaN</td>\n",
              "      <td>Kerin O’Keefe</td>\n",
              "      <td>@kerinokeefe</td>\n",
              "      <td>Nicosia 2013 Vulkà Bianco  (Etna)</td>\n",
              "      <td>White Blend</td>\n",
              "      <td>Nicosia</td>\n",
              "    </tr>\n",
              "    <tr>\n",
              "      <th>1</th>\n",
              "      <td>Portugal</td>\n",
              "      <td>This is ripe and fruity, a wine that is smooth...</td>\n",
              "      <td>Avidagos</td>\n",
              "      <td>87</td>\n",
              "      <td>15.0</td>\n",
              "      <td>Douro</td>\n",
              "      <td>NaN</td>\n",
              "      <td>NaN</td>\n",
              "      <td>Roger Voss</td>\n",
              "      <td>@vossroger</td>\n",
              "      <td>Quinta dos Avidagos 2011 Avidagos Red (Douro)</td>\n",
              "      <td>Portuguese Red</td>\n",
              "      <td>Quinta dos Avidagos</td>\n",
              "    </tr>\n",
              "    <tr>\n",
              "      <th>2</th>\n",
              "      <td>US</td>\n",
              "      <td>Tart and snappy, the flavors of lime flesh and...</td>\n",
              "      <td>NaN</td>\n",
              "      <td>87</td>\n",
              "      <td>14.0</td>\n",
              "      <td>Oregon</td>\n",
              "      <td>Willamette Valley</td>\n",
              "      <td>Willamette Valley</td>\n",
              "      <td>Paul Gregutt</td>\n",
              "      <td>@paulgwine</td>\n",
              "      <td>Rainstorm 2013 Pinot Gris (Willamette Valley)</td>\n",
              "      <td>Pinot Gris</td>\n",
              "      <td>Rainstorm</td>\n",
              "    </tr>\n",
              "    <tr>\n",
              "      <th>3</th>\n",
              "      <td>US</td>\n",
              "      <td>Pineapple rind, lemon pith and orange blossom ...</td>\n",
              "      <td>Reserve Late Harvest</td>\n",
              "      <td>87</td>\n",
              "      <td>13.0</td>\n",
              "      <td>Michigan</td>\n",
              "      <td>Lake Michigan Shore</td>\n",
              "      <td>NaN</td>\n",
              "      <td>Alexander Peartree</td>\n",
              "      <td>NaN</td>\n",
              "      <td>St. Julian 2013 Reserve Late Harvest Riesling ...</td>\n",
              "      <td>Riesling</td>\n",
              "      <td>St. Julian</td>\n",
              "    </tr>\n",
              "    <tr>\n",
              "      <th>4</th>\n",
              "      <td>US</td>\n",
              "      <td>Much like the regular bottling from 2012, this...</td>\n",
              "      <td>Vintner's Reserve Wild Child Block</td>\n",
              "      <td>87</td>\n",
              "      <td>65.0</td>\n",
              "      <td>Oregon</td>\n",
              "      <td>Willamette Valley</td>\n",
              "      <td>Willamette Valley</td>\n",
              "      <td>Paul Gregutt</td>\n",
              "      <td>@paulgwine</td>\n",
              "      <td>Sweet Cheeks 2012 Vintner's Reserve Wild Child...</td>\n",
              "      <td>Pinot Noir</td>\n",
              "      <td>Sweet Cheeks</td>\n",
              "    </tr>\n",
              "  </tbody>\n",
              "</table>\n",
              "</div>\n",
              "      <button class=\"colab-df-convert\" onclick=\"convertToInteractive('df-a9098c1b-9f82-41e9-bb22-50843bebebaa')\"\n",
              "              title=\"Convert this dataframe to an interactive table.\"\n",
              "              style=\"display:none;\">\n",
              "        \n",
              "  <svg xmlns=\"http://www.w3.org/2000/svg\" height=\"24px\"viewBox=\"0 0 24 24\"\n",
              "       width=\"24px\">\n",
              "    <path d=\"M0 0h24v24H0V0z\" fill=\"none\"/>\n",
              "    <path d=\"M18.56 5.44l.94 2.06.94-2.06 2.06-.94-2.06-.94-.94-2.06-.94 2.06-2.06.94zm-11 1L8.5 8.5l.94-2.06 2.06-.94-2.06-.94L8.5 2.5l-.94 2.06-2.06.94zm10 10l.94 2.06.94-2.06 2.06-.94-2.06-.94-.94-2.06-.94 2.06-2.06.94z\"/><path d=\"M17.41 7.96l-1.37-1.37c-.4-.4-.92-.59-1.43-.59-.52 0-1.04.2-1.43.59L10.3 9.45l-7.72 7.72c-.78.78-.78 2.05 0 2.83L4 21.41c.39.39.9.59 1.41.59.51 0 1.02-.2 1.41-.59l7.78-7.78 2.81-2.81c.8-.78.8-2.07 0-2.86zM5.41 20L4 18.59l7.72-7.72 1.47 1.35L5.41 20z\"/>\n",
              "  </svg>\n",
              "      </button>\n",
              "      \n",
              "  <style>\n",
              "    .colab-df-container {\n",
              "      display:flex;\n",
              "      flex-wrap:wrap;\n",
              "      gap: 12px;\n",
              "    }\n",
              "\n",
              "    .colab-df-convert {\n",
              "      background-color: #E8F0FE;\n",
              "      border: none;\n",
              "      border-radius: 50%;\n",
              "      cursor: pointer;\n",
              "      display: none;\n",
              "      fill: #1967D2;\n",
              "      height: 32px;\n",
              "      padding: 0 0 0 0;\n",
              "      width: 32px;\n",
              "    }\n",
              "\n",
              "    .colab-df-convert:hover {\n",
              "      background-color: #E2EBFA;\n",
              "      box-shadow: 0px 1px 2px rgba(60, 64, 67, 0.3), 0px 1px 3px 1px rgba(60, 64, 67, 0.15);\n",
              "      fill: #174EA6;\n",
              "    }\n",
              "\n",
              "    [theme=dark] .colab-df-convert {\n",
              "      background-color: #3B4455;\n",
              "      fill: #D2E3FC;\n",
              "    }\n",
              "\n",
              "    [theme=dark] .colab-df-convert:hover {\n",
              "      background-color: #434B5C;\n",
              "      box-shadow: 0px 1px 3px 1px rgba(0, 0, 0, 0.15);\n",
              "      filter: drop-shadow(0px 1px 2px rgba(0, 0, 0, 0.3));\n",
              "      fill: #FFFFFF;\n",
              "    }\n",
              "  </style>\n",
              "\n",
              "      <script>\n",
              "        const buttonEl =\n",
              "          document.querySelector('#df-a9098c1b-9f82-41e9-bb22-50843bebebaa button.colab-df-convert');\n",
              "        buttonEl.style.display =\n",
              "          google.colab.kernel.accessAllowed ? 'block' : 'none';\n",
              "\n",
              "        async function convertToInteractive(key) {\n",
              "          const element = document.querySelector('#df-a9098c1b-9f82-41e9-bb22-50843bebebaa');\n",
              "          const dataTable =\n",
              "            await google.colab.kernel.invokeFunction('convertToInteractive',\n",
              "                                                     [key], {});\n",
              "          if (!dataTable) return;\n",
              "\n",
              "          const docLinkHtml = 'Like what you see? Visit the ' +\n",
              "            '<a target=\"_blank\" href=https://colab.research.google.com/notebooks/data_table.ipynb>data table notebook</a>'\n",
              "            + ' to learn more about interactive tables.';\n",
              "          element.innerHTML = '';\n",
              "          dataTable['output_type'] = 'display_data';\n",
              "          await google.colab.output.renderOutput(dataTable, element);\n",
              "          const docLink = document.createElement('div');\n",
              "          docLink.innerHTML = docLinkHtml;\n",
              "          element.appendChild(docLink);\n",
              "        }\n",
              "      </script>\n",
              "    </div>\n",
              "  </div>\n",
              "  "
            ]
          },
          "metadata": {},
          "execution_count": 35
        }
      ]
    },
    {
      "cell_type": "markdown",
      "source": [
        "Los datos son de naturaleza diversa incluyendo códigos de países, texto que describen al vino, designación, puntaje, lugar de origen, etc."
      ],
      "metadata": {
        "id": "ySBBlHbOAr_D"
      }
    },
    {
      "cell_type": "markdown",
      "source": [
        "### PASO 2: SCRUB"
      ],
      "metadata": {
        "id": "TRoX9hhp5EJb"
      }
    },
    {
      "cell_type": "code",
      "source": [
        "df.describe()"
      ],
      "metadata": {
        "colab": {
          "base_uri": "https://localhost:8080/",
          "height": 297
        },
        "id": "APTkdGbyol4L",
        "outputId": "aca73026-a003-4502-ccc2-b9f054a84673"
      },
      "execution_count": 36,
      "outputs": [
        {
          "output_type": "execute_result",
          "data": {
            "text/plain": [
              "             points         price\n",
              "count  65499.000000  60829.000000\n",
              "mean      88.434037     35.232932\n",
              "std        3.030310     39.477858\n",
              "min       80.000000      4.000000\n",
              "25%       86.000000     17.000000\n",
              "50%       88.000000     25.000000\n",
              "75%       91.000000     42.000000\n",
              "max      100.000000   2500.000000"
            ],
            "text/html": [
              "\n",
              "  <div id=\"df-6e1c3416-ea54-473d-ae24-7280f6f261dc\">\n",
              "    <div class=\"colab-df-container\">\n",
              "      <div>\n",
              "<style scoped>\n",
              "    .dataframe tbody tr th:only-of-type {\n",
              "        vertical-align: middle;\n",
              "    }\n",
              "\n",
              "    .dataframe tbody tr th {\n",
              "        vertical-align: top;\n",
              "    }\n",
              "\n",
              "    .dataframe thead th {\n",
              "        text-align: right;\n",
              "    }\n",
              "</style>\n",
              "<table border=\"1\" class=\"dataframe\">\n",
              "  <thead>\n",
              "    <tr style=\"text-align: right;\">\n",
              "      <th></th>\n",
              "      <th>points</th>\n",
              "      <th>price</th>\n",
              "    </tr>\n",
              "  </thead>\n",
              "  <tbody>\n",
              "    <tr>\n",
              "      <th>count</th>\n",
              "      <td>65499.000000</td>\n",
              "      <td>60829.000000</td>\n",
              "    </tr>\n",
              "    <tr>\n",
              "      <th>mean</th>\n",
              "      <td>88.434037</td>\n",
              "      <td>35.232932</td>\n",
              "    </tr>\n",
              "    <tr>\n",
              "      <th>std</th>\n",
              "      <td>3.030310</td>\n",
              "      <td>39.477858</td>\n",
              "    </tr>\n",
              "    <tr>\n",
              "      <th>min</th>\n",
              "      <td>80.000000</td>\n",
              "      <td>4.000000</td>\n",
              "    </tr>\n",
              "    <tr>\n",
              "      <th>25%</th>\n",
              "      <td>86.000000</td>\n",
              "      <td>17.000000</td>\n",
              "    </tr>\n",
              "    <tr>\n",
              "      <th>50%</th>\n",
              "      <td>88.000000</td>\n",
              "      <td>25.000000</td>\n",
              "    </tr>\n",
              "    <tr>\n",
              "      <th>75%</th>\n",
              "      <td>91.000000</td>\n",
              "      <td>42.000000</td>\n",
              "    </tr>\n",
              "    <tr>\n",
              "      <th>max</th>\n",
              "      <td>100.000000</td>\n",
              "      <td>2500.000000</td>\n",
              "    </tr>\n",
              "  </tbody>\n",
              "</table>\n",
              "</div>\n",
              "      <button class=\"colab-df-convert\" onclick=\"convertToInteractive('df-6e1c3416-ea54-473d-ae24-7280f6f261dc')\"\n",
              "              title=\"Convert this dataframe to an interactive table.\"\n",
              "              style=\"display:none;\">\n",
              "        \n",
              "  <svg xmlns=\"http://www.w3.org/2000/svg\" height=\"24px\"viewBox=\"0 0 24 24\"\n",
              "       width=\"24px\">\n",
              "    <path d=\"M0 0h24v24H0V0z\" fill=\"none\"/>\n",
              "    <path d=\"M18.56 5.44l.94 2.06.94-2.06 2.06-.94-2.06-.94-.94-2.06-.94 2.06-2.06.94zm-11 1L8.5 8.5l.94-2.06 2.06-.94-2.06-.94L8.5 2.5l-.94 2.06-2.06.94zm10 10l.94 2.06.94-2.06 2.06-.94-2.06-.94-.94-2.06-.94 2.06-2.06.94z\"/><path d=\"M17.41 7.96l-1.37-1.37c-.4-.4-.92-.59-1.43-.59-.52 0-1.04.2-1.43.59L10.3 9.45l-7.72 7.72c-.78.78-.78 2.05 0 2.83L4 21.41c.39.39.9.59 1.41.59.51 0 1.02-.2 1.41-.59l7.78-7.78 2.81-2.81c.8-.78.8-2.07 0-2.86zM5.41 20L4 18.59l7.72-7.72 1.47 1.35L5.41 20z\"/>\n",
              "  </svg>\n",
              "      </button>\n",
              "      \n",
              "  <style>\n",
              "    .colab-df-container {\n",
              "      display:flex;\n",
              "      flex-wrap:wrap;\n",
              "      gap: 12px;\n",
              "    }\n",
              "\n",
              "    .colab-df-convert {\n",
              "      background-color: #E8F0FE;\n",
              "      border: none;\n",
              "      border-radius: 50%;\n",
              "      cursor: pointer;\n",
              "      display: none;\n",
              "      fill: #1967D2;\n",
              "      height: 32px;\n",
              "      padding: 0 0 0 0;\n",
              "      width: 32px;\n",
              "    }\n",
              "\n",
              "    .colab-df-convert:hover {\n",
              "      background-color: #E2EBFA;\n",
              "      box-shadow: 0px 1px 2px rgba(60, 64, 67, 0.3), 0px 1px 3px 1px rgba(60, 64, 67, 0.15);\n",
              "      fill: #174EA6;\n",
              "    }\n",
              "\n",
              "    [theme=dark] .colab-df-convert {\n",
              "      background-color: #3B4455;\n",
              "      fill: #D2E3FC;\n",
              "    }\n",
              "\n",
              "    [theme=dark] .colab-df-convert:hover {\n",
              "      background-color: #434B5C;\n",
              "      box-shadow: 0px 1px 3px 1px rgba(0, 0, 0, 0.15);\n",
              "      filter: drop-shadow(0px 1px 2px rgba(0, 0, 0, 0.3));\n",
              "      fill: #FFFFFF;\n",
              "    }\n",
              "  </style>\n",
              "\n",
              "      <script>\n",
              "        const buttonEl =\n",
              "          document.querySelector('#df-6e1c3416-ea54-473d-ae24-7280f6f261dc button.colab-df-convert');\n",
              "        buttonEl.style.display =\n",
              "          google.colab.kernel.accessAllowed ? 'block' : 'none';\n",
              "\n",
              "        async function convertToInteractive(key) {\n",
              "          const element = document.querySelector('#df-6e1c3416-ea54-473d-ae24-7280f6f261dc');\n",
              "          const dataTable =\n",
              "            await google.colab.kernel.invokeFunction('convertToInteractive',\n",
              "                                                     [key], {});\n",
              "          if (!dataTable) return;\n",
              "\n",
              "          const docLinkHtml = 'Like what you see? Visit the ' +\n",
              "            '<a target=\"_blank\" href=https://colab.research.google.com/notebooks/data_table.ipynb>data table notebook</a>'\n",
              "            + ' to learn more about interactive tables.';\n",
              "          element.innerHTML = '';\n",
              "          dataTable['output_type'] = 'display_data';\n",
              "          await google.colab.output.renderOutput(dataTable, element);\n",
              "          const docLink = document.createElement('div');\n",
              "          docLink.innerHTML = docLinkHtml;\n",
              "          element.appendChild(docLink);\n",
              "        }\n",
              "      </script>\n",
              "    </div>\n",
              "  </div>\n",
              "  "
            ]
          },
          "metadata": {},
          "execution_count": 36
        }
      ]
    },
    {
      "cell_type": "markdown",
      "source": [
        "oslo nos muestra detalles estadísticos de las variables numéricas, en este caso son sólo dos columnas, ya que las otras son categóricas\n",
        "\n"
      ],
      "metadata": {
        "id": "PDPGONntBNgq"
      }
    },
    {
      "cell_type": "code",
      "source": [
        "#Comprobando las dimensiones\n",
        "df.shape"
      ],
      "metadata": {
        "colab": {
          "base_uri": "https://localhost:8080/"
        },
        "id": "w_n9K8y6CiGB",
        "outputId": "d2c7f0e1-1ea8-4e1e-9708-7e7098e1c65b"
      },
      "execution_count": 37,
      "outputs": [
        {
          "output_type": "execute_result",
          "data": {
            "text/plain": [
              "(65499, 13)"
            ]
          },
          "metadata": {},
          "execution_count": 37
        }
      ]
    },
    {
      "cell_type": "markdown",
      "source": [
        "En total hay 13 columnas de naturaleza diversa y ~65K filas."
      ],
      "metadata": {
        "id": "fr6zXQL3Bf2p"
      }
    },
    {
      "cell_type": "code",
      "source": [
        "#comprobando si hay alguna inconsistencia en el tipo de datos\n",
        "df.info()"
      ],
      "metadata": {
        "colab": {
          "base_uri": "https://localhost:8080/"
        },
        "id": "XF4Lsb0yDBlC",
        "outputId": "9597fb14-e5da-4d55-a37f-6893c49910de"
      },
      "execution_count": 38,
      "outputs": [
        {
          "output_type": "stream",
          "name": "stdout",
          "text": [
            "<class 'pandas.core.frame.DataFrame'>\n",
            "Int64Index: 65499 entries, 0 to 65498\n",
            "Data columns (total 13 columns):\n",
            " #   Column                 Non-Null Count  Dtype  \n",
            "---  ------                 --------------  -----  \n",
            " 0   country                65467 non-null  object \n",
            " 1   description            65499 non-null  object \n",
            " 2   designation            46588 non-null  object \n",
            " 3   points                 65499 non-null  int64  \n",
            " 4   price                  60829 non-null  float64\n",
            " 5   province               65467 non-null  object \n",
            " 6   region_1               54744 non-null  object \n",
            " 7   region_2               25170 non-null  object \n",
            " 8   taster_name            51856 non-null  object \n",
            " 9   taster_twitter_handle  49467 non-null  object \n",
            " 10  title                  65499 non-null  object \n",
            " 11  variety                65499 non-null  object \n",
            " 12  winery                 65499 non-null  object \n",
            "dtypes: float64(1), int64(1), object(11)\n",
            "memory usage: 7.0+ MB\n"
          ]
        }
      ]
    },
    {
      "cell_type": "code",
      "source": [
        "\n",
        "# función para investigar los valores faltantes en el conjunto de datos de vino\n",
        "def MissingValues(df): #creating the function\n",
        "    total = df.isnull().sum().sort_values(ascending = False) # getting the sum of null values and ordering\n",
        "    percent = (df.isnull().sum() / df.isnull().count() * 100 ).sort_values(ascending = False) #getting the percent and order of null\n",
        "    df = pd.concat([total, percent], axis=1, keys=['Total', 'Percent']) # Concatenating the total and percent\n",
        "    print(df[~(df['Total'] == 0)])# Returning values of nulls different of 0\n",
        "    \n",
        "    return\n",
        "\n",
        "MissingValues(df)\n"
      ],
      "metadata": {
        "colab": {
          "base_uri": "https://localhost:8080/"
        },
        "id": "Gsot2-E-psAS",
        "outputId": "80742948-60d2-4970-8457-a8f043bdedf4"
      },
      "execution_count": 39,
      "outputs": [
        {
          "output_type": "stream",
          "name": "stdout",
          "text": [
            "                       Total    Percent\n",
            "region_2               40329  61.571932\n",
            "designation            18911  28.872197\n",
            "taster_twitter_handle  16032  24.476710\n",
            "taster_name            13643  20.829326\n",
            "region_1               10755  16.420098\n",
            "price                   4670   7.129880\n",
            "country                   32   0.048856\n",
            "province                  32   0.048856\n"
          ]
        }
      ]
    },
    {
      "cell_type": "markdown",
      "source": [
        "Se muestran exclusivamente aquellas columnas que contienen datos faltantes. En este caso hay siete columnas que contienen datos faltantes."
      ],
      "metadata": {
        "id": "-YM5iiIXB74H"
      }
    },
    {
      "cell_type": "code",
      "source": [
        "#Lista completa de funciones, con o sin datos faltantes\n",
        "df.isna().sum()\n"
      ],
      "metadata": {
        "colab": {
          "base_uri": "https://localhost:8080/"
        },
        "id": "02JMg_LYpzJZ",
        "outputId": "1f3c57f5-c7e6-4f57-d5fc-f9a135dcd619"
      },
      "execution_count": 40,
      "outputs": [
        {
          "output_type": "execute_result",
          "data": {
            "text/plain": [
              "country                     32\n",
              "description                  0\n",
              "designation              18911\n",
              "points                       0\n",
              "price                     4670\n",
              "province                    32\n",
              "region_1                 10755\n",
              "region_2                 40329\n",
              "taster_name              13643\n",
              "taster_twitter_handle    16032\n",
              "title                        0\n",
              "variety                      0\n",
              "winery                       0\n",
              "dtype: int64"
            ]
          },
          "metadata": {},
          "execution_count": 40
        }
      ]
    },
    {
      "cell_type": "markdown",
      "source": [
        "Aquí se hace una lista completa de las columnas incluyendo aquellas que no contienen datos faltantes."
      ],
      "metadata": {
        "id": "5hLa0b8OCD-V"
      }
    },
    {
      "cell_type": "code",
      "source": [
        "#Reduzca los datos a mis dos características de interés y la variable de destino, datos limpios\n",
        "winedf = df[['points', 'price', 'description']].copy()\n",
        "winedf = df.dropna().reset_index(drop=True)"
      ],
      "metadata": {
        "id": "d8wct4Gup6nO"
      },
      "execution_count": 41,
      "outputs": []
    },
    {
      "cell_type": "markdown",
      "source": [
        "En este caso sólo vamos a considerar tres columnas del conjunto de datos: el puntaje, precio y la descripción.\n",
        "\n",
        "Simplemente se eliminaron aquellas instancias que contienen datos faltantes\n",
        "\n",
        "Se creó un nuevo data frame para almacenar estos datos filtrados y limpios."
      ],
      "metadata": {
        "id": "9ZKJVKhWCOBk"
      }
    },
    {
      "cell_type": "code",
      "source": [
        "len(winedf)"
      ],
      "metadata": {
        "colab": {
          "base_uri": "https://localhost:8080/"
        },
        "id": "4pH6fIQ2qCIY",
        "outputId": "c22f6762-f058-40fa-94dc-b55640f42b59"
      },
      "execution_count": 42,
      "outputs": [
        {
          "output_type": "execute_result",
          "data": {
            "text/plain": [
              "11020"
            ]
          },
          "metadata": {},
          "execution_count": 42
        }
      ]
    },
    {
      "cell_type": "markdown",
      "source": [
        "El conjunto de datos se redujo a 11.000 instancias"
      ],
      "metadata": {
        "id": "lRDxNyvRCSw7"
      }
    },
    {
      "cell_type": "code",
      "source": [
        "# Compruebo si hay duplicados, lo que a menudo es valioso, pero en este caso reduce el conjunto de datos en un factor de 5\n",
        "# Esto elimina demasiados valores, volverá si hay tiempo\n",
        "# df = df[df.duplicated('description', keep=False)]\n",
        "\n",
        "# len(winedf) después de duplicado eliminado = 20026, no vale la pena realizar esta operación"
      ],
      "metadata": {
        "id": "MGuYqMwTqDU4"
      },
      "execution_count": null,
      "outputs": []
    },
    {
      "cell_type": "markdown",
      "source": [
        "###EXPLORE\n",
        "\n",
        "La etapa de exploración a veces se conoce con el nombre de análisis exploratorio de datos (EDA)."
      ],
      "metadata": {
        "id": "KLMWX2CPCLtx"
      }
    },
    {
      "cell_type": "code",
      "source": [
        "#Algunos valores atípicos a tener en cuenta\n",
        "plt.figure(figsize=(10,4))\n",
        "\n",
        "g = sns.regplot(x='points', y='price', data=winedf, x_jitter=True, fit_reg=False)\n",
        "g.set_title(\"Points/Price Distribution\", fontsize=20)\n",
        "g.set_xlabel(\"Points\", fontsize= 15)\n",
        "g.set_ylabel(\"Price\", fontsize= 15)\n",
        "\n",
        "plt.show()"
      ],
      "metadata": {
        "colab": {
          "base_uri": "https://localhost:8080/",
          "height": 308
        },
        "id": "wnAgUqwEqRSb",
        "outputId": "52e38f67-ee4f-479c-9835-73893723858f"
      },
      "execution_count": 43,
      "outputs": [
        {
          "output_type": "display_data",
          "data": {
            "text/plain": [
              "<Figure size 720x288 with 1 Axes>"
            ],
            "image/png": "[encoded data removed]"
          },
          "metadata": {}
        }
      ]
    },
    {
      "cell_type": "markdown",
      "source": [
        "No se percibe un patrón claro al realizar un gráfico de dispersión entre el puntaje y el precio del vino"
      ],
      "metadata": {
        "id": "CZ2ZlFF5sUil"
      }
    },
    {
      "cell_type": "code",
      "source": [
        "#Crea una nueva columna que se usará en el modelado\n",
        "#obteniendo el recuento de palabras de cada descripción de vino como una variable\n",
        "winedf2 = winedf.assign(desc_length = winedf['description'].apply(len))\n",
        "winedf2.head()\n"
      ],
      "metadata": {
        "colab": {
          "base_uri": "https://localhost:8080/",
          "height": 625
        },
        "id": "C6zXzCquqXdA",
        "outputId": "2b225b73-261f-48ac-9d36-c665f5884287"
      },
      "execution_count": 44,
      "outputs": [
        {
          "output_type": "execute_result",
          "data": {
            "text/plain": [
              "  country                                        description  \\\n",
              "0      US  Much like the regular bottling from 2012, this...   \n",
              "1      US  Soft, supple plum envelopes an oaky structure ...   \n",
              "2      US  This wine from the Geneseo district offers aro...   \n",
              "3      US  Oak and earth intermingle around robust aromas...   \n",
              "4      US  As with many of the Erath 2010 vineyard design...   \n",
              "\n",
              "                          designation  points  price    province  \\\n",
              "0  Vintner's Reserve Wild Child Block      87   65.0      Oregon   \n",
              "1                      Mountain Cuvée      87   19.0  California   \n",
              "2                 Signature Selection      87   22.0  California   \n",
              "3                 King Ridge Vineyard      87   69.0  California   \n",
              "4                              Hyland      86   50.0      Oregon   \n",
              "\n",
              "            region_1           region_2     taster_name taster_twitter_handle  \\\n",
              "0  Willamette Valley  Willamette Valley    Paul Gregutt           @paulgwine    \n",
              "1        Napa Valley               Napa  Virginie Boone               @vboone   \n",
              "2        Paso Robles      Central Coast   Matt Kettmann         @mattkettmann   \n",
              "3       Sonoma Coast             Sonoma  Virginie Boone               @vboone   \n",
              "4        McMinnville  Willamette Valley    Paul Gregutt           @paulgwine    \n",
              "\n",
              "                                               title             variety  \\\n",
              "0  Sweet Cheeks 2012 Vintner's Reserve Wild Child...          Pinot Noir   \n",
              "1  Kirkland Signature 2011 Mountain Cuvée Caberne...  Cabernet Sauvignon   \n",
              "2  Bianchi 2011 Signature Selection Merlot (Paso ...              Merlot   \n",
              "3  Castello di Amorosa 2011 King Ridge Vineyard P...          Pinot Noir   \n",
              "4         Erath 2010 Hyland Pinot Noir (McMinnville)          Pinot Noir   \n",
              "\n",
              "                winery  desc_length  \n",
              "0         Sweet Cheeks          249  \n",
              "1   Kirkland Signature          243  \n",
              "2              Bianchi          251  \n",
              "3  Castello di Amorosa          259  \n",
              "4                Erath          242  "
            ],
            "text/html": [
              "\n",
              "  <div id=\"df-fcafc2b6-5e0a-4c52-acd3-ff4036f5e831\">\n",
              "    <div class=\"colab-df-container\">\n",
              "      <div>\n",
              "<style scoped>\n",
              "    .dataframe tbody tr th:only-of-type {\n",
              "        vertical-align: middle;\n",
              "    }\n",
              "\n",
              "    .dataframe tbody tr th {\n",
              "        vertical-align: top;\n",
              "    }\n",
              "\n",
              "    .dataframe thead th {\n",
              "        text-align: right;\n",
              "    }\n",
              "</style>\n",
              "<table border=\"1\" class=\"dataframe\">\n",
              "  <thead>\n",
              "    <tr style=\"text-align: right;\">\n",
              "      <th></th>\n",
              "      <th>country</th>\n",
              "      <th>description</th>\n",
              "      <th>designation</th>\n",
              "      <th>points</th>\n",
              "      <th>price</th>\n",
              "      <th>province</th>\n",
              "      <th>region_1</th>\n",
              "      <th>region_2</th>\n",
              "      <th>taster_name</th>\n",
              "      <th>taster_twitter_handle</th>\n",
              "      <th>title</th>\n",
              "      <th>variety</th>\n",
              "      <th>winery</th>\n",
              "      <th>desc_length</th>\n",
              "    </tr>\n",
              "  </thead>\n",
              "  <tbody>\n",
              "    <tr>\n",
              "      <th>0</th>\n",
              "      <td>US</td>\n",
              "      <td>Much like the regular bottling from 2012, this...</td>\n",
              "      <td>Vintner's Reserve Wild Child Block</td>\n",
              "      <td>87</td>\n",
              "      <td>65.0</td>\n",
              "      <td>Oregon</td>\n",
              "      <td>Willamette Valley</td>\n",
              "      <td>Willamette Valley</td>\n",
              "      <td>Paul Gregutt</td>\n",
              "      <td>@paulgwine</td>\n",
              "      <td>Sweet Cheeks 2012 Vintner's Reserve Wild Child...</td>\n",
              "      <td>Pinot Noir</td>\n",
              "      <td>Sweet Cheeks</td>\n",
              "      <td>249</td>\n",
              "    </tr>\n",
              "    <tr>\n",
              "      <th>1</th>\n",
              "      <td>US</td>\n",
              "      <td>Soft, supple plum envelopes an oaky structure ...</td>\n",
              "      <td>Mountain Cuvée</td>\n",
              "      <td>87</td>\n",
              "      <td>19.0</td>\n",
              "      <td>California</td>\n",
              "      <td>Napa Valley</td>\n",
              "      <td>Napa</td>\n",
              "      <td>Virginie Boone</td>\n",
              "      <td>@vboone</td>\n",
              "      <td>Kirkland Signature 2011 Mountain Cuvée Caberne...</td>\n",
              "      <td>Cabernet Sauvignon</td>\n",
              "      <td>Kirkland Signature</td>\n",
              "      <td>243</td>\n",
              "    </tr>\n",
              "    <tr>\n",
              "      <th>2</th>\n",
              "      <td>US</td>\n",
              "      <td>This wine from the Geneseo district offers aro...</td>\n",
              "      <td>Signature Selection</td>\n",
              "      <td>87</td>\n",
              "      <td>22.0</td>\n",
              "      <td>California</td>\n",
              "      <td>Paso Robles</td>\n",
              "      <td>Central Coast</td>\n",
              "      <td>Matt Kettmann</td>\n",
              "      <td>@mattkettmann</td>\n",
              "      <td>Bianchi 2011 Signature Selection Merlot (Paso ...</td>\n",
              "      <td>Merlot</td>\n",
              "      <td>Bianchi</td>\n",
              "      <td>251</td>\n",
              "    </tr>\n",
              "    <tr>\n",
              "      <th>3</th>\n",
              "      <td>US</td>\n",
              "      <td>Oak and earth intermingle around robust aromas...</td>\n",
              "      <td>King Ridge Vineyard</td>\n",
              "      <td>87</td>\n",
              "      <td>69.0</td>\n",
              "      <td>California</td>\n",
              "      <td>Sonoma Coast</td>\n",
              "      <td>Sonoma</td>\n",
              "      <td>Virginie Boone</td>\n",
              "      <td>@vboone</td>\n",
              "      <td>Castello di Amorosa 2011 King Ridge Vineyard P...</td>\n",
              "      <td>Pinot Noir</td>\n",
              "      <td>Castello di Amorosa</td>\n",
              "      <td>259</td>\n",
              "    </tr>\n",
              "    <tr>\n",
              "      <th>4</th>\n",
              "      <td>US</td>\n",
              "      <td>As with many of the Erath 2010 vineyard design...</td>\n",
              "      <td>Hyland</td>\n",
              "      <td>86</td>\n",
              "      <td>50.0</td>\n",
              "      <td>Oregon</td>\n",
              "      <td>McMinnville</td>\n",
              "      <td>Willamette Valley</td>\n",
              "      <td>Paul Gregutt</td>\n",
              "      <td>@paulgwine</td>\n",
              "      <td>Erath 2010 Hyland Pinot Noir (McMinnville)</td>\n",
              "      <td>Pinot Noir</td>\n",
              "      <td>Erath</td>\n",
              "      <td>242</td>\n",
              "    </tr>\n",
              "  </tbody>\n",
              "</table>\n",
              "</div>\n",
              "      <button class=\"colab-df-convert\" onclick=\"convertToInteractive('df-fcafc2b6-5e0a-4c52-acd3-ff4036f5e831')\"\n",
              "              title=\"Convert this dataframe to an interactive table.\"\n",
              "              style=\"display:none;\">\n",
              "        \n",
              "  <svg xmlns=\"http://www.w3.org/2000/svg\" height=\"24px\"viewBox=\"0 0 24 24\"\n",
              "       width=\"24px\">\n",
              "    <path d=\"M0 0h24v24H0V0z\" fill=\"none\"/>\n",
              "    <path d=\"M18.56 5.44l.94 2.06.94-2.06 2.06-.94-2.06-.94-.94-2.06-.94 2.06-2.06.94zm-11 1L8.5 8.5l.94-2.06 2.06-.94-2.06-.94L8.5 2.5l-.94 2.06-2.06.94zm10 10l.94 2.06.94-2.06 2.06-.94-2.06-.94-.94-2.06-.94 2.06-2.06.94z\"/><path d=\"M17.41 7.96l-1.37-1.37c-.4-.4-.92-.59-1.43-.59-.52 0-1.04.2-1.43.59L10.3 9.45l-7.72 7.72c-.78.78-.78 2.05 0 2.83L4 21.41c.39.39.9.59 1.41.59.51 0 1.02-.2 1.41-.59l7.78-7.78 2.81-2.81c.8-.78.8-2.07 0-2.86zM5.41 20L4 18.59l7.72-7.72 1.47 1.35L5.41 20z\"/>\n",
              "  </svg>\n",
              "      </button>\n",
              "      \n",
              "  <style>\n",
              "    .colab-df-container {\n",
              "      display:flex;\n",
              "      flex-wrap:wrap;\n",
              "      gap: 12px;\n",
              "    }\n",
              "\n",
              "    .colab-df-convert {\n",
              "      background-color: #E8F0FE;\n",
              "      border: none;\n",
              "      border-radius: 50%;\n",
              "      cursor: pointer;\n",
              "      display: none;\n",
              "      fill: #1967D2;\n",
              "      height: 32px;\n",
              "      padding: 0 0 0 0;\n",
              "      width: 32px;\n",
              "    }\n",
              "\n",
              "    .colab-df-convert:hover {\n",
              "      background-color: #E2EBFA;\n",
              "      box-shadow: 0px 1px 2px rgba(60, 64, 67, 0.3), 0px 1px 3px 1px rgba(60, 64, 67, 0.15);\n",
              "      fill: #174EA6;\n",
              "    }\n",
              "\n",
              "    [theme=dark] .colab-df-convert {\n",
              "      background-color: #3B4455;\n",
              "      fill: #D2E3FC;\n",
              "    }\n",
              "\n",
              "    [theme=dark] .colab-df-convert:hover {\n",
              "      background-color: #434B5C;\n",
              "      box-shadow: 0px 1px 3px 1px rgba(0, 0, 0, 0.15);\n",
              "      filter: drop-shadow(0px 1px 2px rgba(0, 0, 0, 0.3));\n",
              "      fill: #FFFFFF;\n",
              "    }\n",
              "  </style>\n",
              "\n",
              "      <script>\n",
              "        const buttonEl =\n",
              "          document.querySelector('#df-fcafc2b6-5e0a-4c52-acd3-ff4036f5e831 button.colab-df-convert');\n",
              "        buttonEl.style.display =\n",
              "          google.colab.kernel.accessAllowed ? 'block' : 'none';\n",
              "\n",
              "        async function convertToInteractive(key) {\n",
              "          const element = document.querySelector('#df-fcafc2b6-5e0a-4c52-acd3-ff4036f5e831');\n",
              "          const dataTable =\n",
              "            await google.colab.kernel.invokeFunction('convertToInteractive',\n",
              "                                                     [key], {});\n",
              "          if (!dataTable) return;\n",
              "\n",
              "          const docLinkHtml = 'Like what you see? Visit the ' +\n",
              "            '<a target=\"_blank\" href=https://colab.research.google.com/notebooks/data_table.ipynb>data table notebook</a>'\n",
              "            + ' to learn more about interactive tables.';\n",
              "          element.innerHTML = '';\n",
              "          dataTable['output_type'] = 'display_data';\n",
              "          await google.colab.output.renderOutput(dataTable, element);\n",
              "          const docLink = document.createElement('div');\n",
              "          docLink.innerHTML = docLinkHtml;\n",
              "          element.appendChild(docLink);\n",
              "        }\n",
              "      </script>\n",
              "    </div>\n",
              "  </div>\n",
              "  "
            ]
          },
          "metadata": {},
          "execution_count": 44
        }
      ]
    },
    {
      "cell_type": "code",
      "source": [
        "# Comparar Descripción Longitud con Precio\n",
        "plt.figure(figsize=(14,6))\n",
        "g = sns.regplot(x='desc_length', y='price', data=winedf2, fit_reg=False)\n",
        "g.set_title('Price by Description Length', fontsize=20)\n",
        "g.set_ylabel('Price(USD)', fontsize = 16) \n",
        "g.set_xlabel('Description Length', fontsize = 16)\n",
        "g.set_xticklabels(g.get_xticklabels(),rotation=45)\n",
        "plt.show()"
      ],
      "metadata": {
        "colab": {
          "base_uri": "https://localhost:8080/",
          "height": 407
        },
        "id": "RuTDKRFzqfyU",
        "outputId": "cb191801-31f2-46a5-a597-b0b76de44006"
      },
      "execution_count": 45,
      "outputs": [
        {
          "output_type": "display_data",
          "data": {
            "text/plain": [
              "<Figure size 1008x432 with 1 Axes>"
            ],
            "image/png": "[encoded data removed]"
          },
          "metadata": {}
        }
      ]
    },
    {
      "cell_type": "markdown",
      "source": [
        "A partir del gráfico de dispersión, es difícil argumentar que existe un patrón que vincule el largo de palabras en la descripción con el precio del vino"
      ],
      "metadata": {
        "id": "NqmWc-VC1Dzi"
      }
    },
    {
      "cell_type": "code",
      "source": [
        "#Esto presagia que la clasificación puede no ser el mejor modelo aquí.\n",
        "#Una regresión lineal probablemente sería un modelo más preciso,\n",
        "#pero sometámoslo a una prueba de clasificación para estar seguros\n",
        "plt.figure(figsize=(14,6))\n",
        "g = sns.boxplot(x='points', y='desc_length', data=winedf2)\n",
        "g.set_title('Description Length by Points', fontsize=20)\n",
        "g.set_ylabel('Description Length', fontsize = 16) # Y label\n",
        "g.set_xlabel('Points', fontsize = 16) # X label\n",
        "plt.show()\n"
      ],
      "metadata": {
        "colab": {
          "base_uri": "https://localhost:8080/",
          "height": 417
        },
        "id": "caVwU2aFqtYP",
        "outputId": "c46bd58f-98eb-4288-b937-fbf3f8d057d3"
      },
      "execution_count": null,
      "outputs": [
        {
          "output_type": "display_data",
          "data": {
            "text/plain": [
              "<Figure size 1008x432 with 1 Axes>"
            ],
            "image/png": "[encoded data removed]"
          },
          "metadata": {}
        }
      ]
    },
    {
      "cell_type": "markdown",
      "source": [
        "En otro intento, construimos gráficos de caja que vinculen el puntaje del vino con el largo de la descripción. Aquí aparece un patrón lineal que podríamos interpretar de la siguiente manera: existe una relación lineal entre el puntaje del vino y el largo de la decripción en términos de la media.\n",
        "\n",
        "Vemos algunas diferencias en el patrón en los extremos, esto es cuando el puntaje es demasiado alto o demasiado bajo. Una alternativa sería truncar esta situación en esos datos extremos y analizarlos de manera independiente"
      ],
      "metadata": {
        "id": "K6UUmYXE1N_l"
      }
    },
    {
      "cell_type": "code",
      "source": [
        "#grafico de barras para visualizar cómo se distribuyen los puntos visualmente, para tener una mejor idea de cómo agruparlos al simplificar\n",
        "plt.figure(figsize=(16,6))\n",
        "g = sns.countplot(x='points', data=winedf)\n",
        "g.set_title(\"Points Distribution by Appearance in Dataset\", fontsize=20) \n",
        "g.set_xlabel(\"Points\", fontsize=15) \n",
        "g.set_ylabel(\"Count\", fontsize=15)\n"
      ],
      "metadata": {
        "colab": {
          "base_uri": "https://localhost:8080/",
          "height": 434
        },
        "id": "YZzQyMdurBNP",
        "outputId": "a3de68a0-ca3a-4108-efe7-51f6a863022d"
      },
      "execution_count": null,
      "outputs": [
        {
          "output_type": "execute_result",
          "data": {
            "text/plain": [
              "Text(0, 0.5, 'Count')"
            ]
          },
          "metadata": {},
          "execution_count": 18
        },
        {
          "output_type": "display_data",
          "data": {
            "text/plain": [
              "<Figure size 1152x432 with 1 Axes>"
            ],
            "image/png": "[encoded data removed]"
          },
          "metadata": {}
        }
      ]
    },
    {
      "cell_type": "markdown",
      "source": [
        "la distribucion es muy parecida a una Gaussiana. Es posible que se usa un histograma con un bin un poco más ancho se podrá ver la distribución Gaussiana con mucha más claridad. En promedio los puntajes de los Pinos se concentran entre los 88 y 90 puntos. También observamos que hay una leve baja exactamente cuando existen 89 puntos. el impacto de tener una distribucion normal es que podríamos generar un modelo paramétrico. Esto quiere decir que podríamos usar una función analítica y estimar el valor de la media y la desviación estándar para modelar este fenómeno."
      ],
      "metadata": {
        "id": "Akh06kiQC9W4"
      }
    },
    {
      "cell_type": "code",
      "source": [
        "#Trabajar con tantos puntos y precios puede dificultar el modelado. voy a demostrar esto\n",
        "#con mi primera entrada en la siguiente sección, pero por ahora crearé algunas funciones que me ayuden\n",
        "#restringir los puntos y precios\n",
        "\n",
        "#Método tomando puntos como parámetro y simplificándolos en 5 categorías\n",
        "def points_simplified(points):\n",
        "    if points < 84:\n",
        "        return 1\n",
        "    elif points >= 84 and points < 88:\n",
        "        return 2 \n",
        "    elif points >= 88 and points < 92:\n",
        "        return 3 \n",
        "    elif points >= 92 and points < 96:\n",
        "        return 4 \n",
        "    else:\n",
        "        return 5\n",
        "\n",
        "#Método tomando el precio como parámetro, haciendo una división binaria en 100, ya que este es un importante\n",
        "#umbral en la industria del vino en precio versus calidad\n",
        "def price_simplified(price):\n",
        "    if price < 100:\n",
        "        return 0\n",
        "    else:\n",
        "        return 1\n",
        "    \n",
        "#Aplicando el método de transformación y asignando el resultado a la nueva columna \"points_simplified\"\n",
        "winedf2 = winedf2.assign(points_simplified = winedf2['points'].apply(points_simplified))\n",
        "#Aplicar otro método de transformación, asignando el resultado a la nueva columna \"price_simplified\"\n",
        "winedf2 = winedf2.assign(price_simplified = winedf2['price'].apply(price_simplified))\n"
      ],
      "metadata": {
        "id": "jRXpIp0PrNXu"
      },
      "execution_count": 46,
      "outputs": []
    },
    {
      "cell_type": "code",
      "source": [
        "#Visualiza nuestras dos variables recién transformadas\n",
        "\n",
        "#Primero, la longitud de la descripción y los puntos agrupados en 5 categorías\n",
        "fig, ax = plt.subplots(figsize=(10,7))\n",
        "sns.boxplot(x='points_simplified', y='desc_length', data=winedf2)\n",
        "plt.xticks(fontsize=10) # X Ticks\n",
        "plt.yticks(fontsize=10) # Y Ticks\n",
        "ax.set_title('Description Length per Points', fontweight=\"bold\", size=15) \n",
        "ax.set_ylabel('Description Length', fontsize = 15)\n",
        "ax.set_xlabel('Points', fontsize = 15) \n",
        "plt.show()\n"
      ],
      "metadata": {
        "colab": {
          "base_uri": "https://localhost:8080/",
          "height": 468
        },
        "id": "85XNA99krfQS",
        "outputId": "e8e29e66-a773-450b-b18b-9e678abef379"
      },
      "execution_count": 50,
      "outputs": [
        {
          "output_type": "display_data",
          "data": {
            "text/plain": [
              "<Figure size 720x504 with 1 Axes>"
            ],
            "image/png": "[encoded data removed]"
          },
          "metadata": {}
        }
      ]
    },
    {
      "cell_type": "markdown",
      "source": [
        "En este caso aparece un patrón clarísimo en el gráfico de caja. Es posible apreciar una tendencia lineal en las medias de los gráficos de caja al discretizar puntaje del vino en cinco categorías distintas"
      ],
      "metadata": {
        "id": "xfgTF98U3OOq"
      }
    },
    {
      "cell_type": "code",
      "source": [
        "#Entonces, el precio binario\n",
        "fig, ax = plt.subplots(figsize=(10,5))\n",
        "sns.boxplot(x='price_simplified', y='desc_length', data=winedf2)\n",
        "plt.xticks(fontsize=10) # X Ticks\n",
        "plt.yticks(fontsize=10) # Y Ticks\n",
        "ax.set_title('Description Length per Price', fontweight=\"bold\", size=15) \n",
        "ax.set_ylabel('Description Length', fontsize = 15)\n",
        "ax.set_xlabel('Price', fontsize = 15) \n",
        "plt.show()"
      ],
      "metadata": {
        "colab": {
          "base_uri": "https://localhost:8080/",
          "height": 359
        },
        "id": "m1IP-B66rkyX",
        "outputId": "a1d40bed-697c-459e-fe45-d98e7e4c9db1"
      },
      "execution_count": 51,
      "outputs": [
        {
          "output_type": "display_data",
          "data": {
            "text/plain": [
              "<Figure size 720x360 with 1 Axes>"
            ],
            "image/png": "[encoded data removed]"
          },
          "metadata": {}
        }
      ]
    },
    {
      "cell_type": "markdown",
      "source": [
        "###MODEL"
      ],
      "metadata": {
        "id": "QpcjqXGPqn8K"
      }
    },
    {
      "cell_type": "markdown",
      "source": [
        "Points/Description Length"
      ],
      "metadata": {
        "id": "HYWE-xE7qn2a"
      }
    },
    {
      "cell_type": "code",
      "source": [
        "#Primero, pruebo el modelo Random Forest Classifier sin ningún tipo de escalado simplemente para demostrar\n",
        "#la necesidad tanto de escalar como de crear las simplificaciones que hice en mi sección EDA anterior\n",
        "\n",
        "from sklearn.ensemble import RandomForestClassifier\n",
        "\n",
        "# Entrenando al modelo\n",
        "X = winedf2.iloc[:,-1:] # This is the last column I created above, desc_length for description length\n",
        "y = winedf2['points']\n",
        "X_train, X_test, y_train, y_test = train_test_split(X, y, test_size=0.25, random_state=101)\n",
        "rfc = RandomForestClassifier()\n",
        "rfc.fit(np.array(X_train).reshape(-1,1), np.array(y_train).reshape(-1,1))\n",
        "\n",
        "# Testing the model\n",
        "predictions = rfc.predict(np.array(X_test).reshape(-1,1))\n",
        "# Very imprecise.\n",
        "print(classification_report(y_test, predictions))\n",
        "#Very inaccurate\n",
        "print('Overall Accuracy: ', accuracy_score(y_test, predictions))"
      ],
      "metadata": {
        "colab": {
          "base_uri": "https://localhost:8080/"
        },
        "id": "JfHl_VAIrqdg",
        "outputId": "91f2c903-9087-4623-901a-9a3f29c41dea"
      },
      "execution_count": 52,
      "outputs": [
        {
          "output_type": "stream",
          "name": "stdout",
          "text": [
            "              precision    recall  f1-score   support\n",
            "\n",
            "          80       0.00      0.00      0.00         4\n",
            "          81       0.00      0.00      0.00         3\n",
            "          82       0.00      0.00      0.00        14\n",
            "          83       0.00      0.00      0.00        29\n",
            "          84       0.00      0.00      0.00        52\n",
            "          85       0.00      0.00      0.00       110\n",
            "          86       0.00      0.00      0.00       173\n",
            "          87       0.00      0.00      0.00       281\n",
            "          88       0.00      0.00      0.00       373\n",
            "          89       0.00      0.00      0.00       240\n",
            "          90       0.15      0.99      0.26       406\n",
            "          91       0.00      0.00      0.00       389\n",
            "          92       0.00      0.00      0.00       291\n",
            "          93       0.23      0.08      0.12       221\n",
            "          94       0.00      0.00      0.00       117\n",
            "          95       0.00      0.00      0.00        27\n",
            "          96       0.00      0.00      0.00        16\n",
            "          97       0.00      0.00      0.00         5\n",
            "          98       0.00      0.00      0.00         3\n",
            "          99       0.00      0.00      0.00         1\n",
            "\n",
            "    accuracy                           0.15      2755\n",
            "   macro avg       0.02      0.05      0.02      2755\n",
            "weighted avg       0.04      0.15      0.05      2755\n",
            "\n",
            "Overall Accuracy:  0.15172413793103448\n"
          ]
        }
      ]
    },
    {
      "cell_type": "code",
      "source": [
        "# Training the model\n",
        "# X = desc_length \n",
        "#(our same X from before)\n",
        "y = winedf2['points_simplified'] # and simplified points\n",
        "X_train, X_test, y_train, y_test = train_test_split(X, y, test_size=0.25, random_state=101)\n",
        "rfc = RandomForestClassifier()\n",
        "rfc.fit(np.array(X_train).reshape(-1,1), np.array(y_train).reshape(-1,1))\n",
        "\n",
        "# Testing the model\n",
        "predictions = rfc.predict(np.array(X_test).reshape(-1,1))\n",
        "print(classification_report(y_test, predictions))\n",
        "print('Overall Accuracy: ', accuracy_score(y_test, predictions))\n"
      ],
      "metadata": {
        "colab": {
          "base_uri": "https://localhost:8080/"
        },
        "id": "CKm9_1DAr5KK",
        "outputId": "310b69df-7f7c-4689-fecd-50d1a45939ad"
      },
      "execution_count": 53,
      "outputs": [
        {
          "output_type": "stream",
          "name": "stdout",
          "text": [
            "              precision    recall  f1-score   support\n",
            "\n",
            "           1       0.00      0.00      0.00        50\n",
            "           2       0.00      0.00      0.00       616\n",
            "           3       0.52      0.99      0.68      1408\n",
            "           4       0.65      0.08      0.14       656\n",
            "           5       0.00      0.00      0.00        25\n",
            "\n",
            "    accuracy                           0.52      2755\n",
            "   macro avg       0.23      0.21      0.16      2755\n",
            "weighted avg       0.42      0.52      0.38      2755\n",
            "\n",
            "Overall Accuracy:  0.523049001814882\n"
          ]
        }
      ]
    },
    {
      "cell_type": "code",
      "source": [
        "from sklearn.preprocessing import MinMaxScaler\n",
        "\n",
        "#Escalar la longitud de la descripción del vino\n",
        "scaler=MinMaxScaler()\n",
        "scaled_wine=scaler.fit_transform(winedf2[['desc_length']])\n",
        "foo=pd.DataFrame(scaled_wine)\n",
        "X=foo[0]\n",
        "y=winedf2.points_simplified"
      ],
      "metadata": {
        "id": "j34GobH9r8kt"
      },
      "execution_count": 54,
      "outputs": []
    },
    {
      "cell_type": "code",
      "source": [
        "#Scaling the wine description length gives a negligible performance boost\n",
        "scaler=MinMaxScaler()\n",
        "scaled_wine=scaler.fit_transform(winedf2[['desc_length']])\n",
        "newdf=pd.DataFrame(scaled_wine)\n",
        "X=newdf[0]\n",
        "y=winedf2.points_simplified\n",
        "\n",
        "# Training the model\n",
        "X_train, X_test, y_train, y_test = train_test_split(X, y, test_size=0.25, random_state=101)\n",
        "rfc = RandomForestClassifier()\n",
        "rfc.fit(np.array(X_train).reshape(-1,1), np.array(y_train).reshape(-1,1))\n",
        "\n",
        "# Testing the model\n",
        "predictions = rfc.predict(np.array(X_test).reshape(-1,1))\n",
        "print(classification_report(y_test, predictions))\n",
        "print('Overall Accuracy: ', accuracy_score(y_test, predictions))\n"
      ],
      "metadata": {
        "colab": {
          "base_uri": "https://localhost:8080/"
        },
        "id": "oxommzt9sDK5",
        "outputId": "837b06f9-a6b8-487f-b424-ce15f140d53a"
      },
      "execution_count": 55,
      "outputs": [
        {
          "output_type": "stream",
          "name": "stdout",
          "text": [
            "              precision    recall  f1-score   support\n",
            "\n",
            "           1       0.31      0.10      0.15        50\n",
            "           2       0.46      0.26      0.33       616\n",
            "           3       0.55      0.76      0.64      1408\n",
            "           4       0.48      0.31      0.38       656\n",
            "           5       0.00      0.00      0.00        25\n",
            "\n",
            "    accuracy                           0.52      2755\n",
            "   macro avg       0.36      0.29      0.30      2755\n",
            "weighted avg       0.50      0.52      0.49      2755\n",
            "\n",
            "Overall Accuracy:  0.523049001814882\n"
          ]
        }
      ]
    },
    {
      "cell_type": "markdown",
      "source": [
        "Price/Description Length"
      ],
      "metadata": {
        "id": "0SIOWjvHsIJr"
      }
    },
    {
      "cell_type": "code",
      "source": [
        "#Mientras prediga vinos por debajo de $100, este es un clasificador excelente\n",
        "X = winedf2.desc_length\n",
        "y = winedf2.price_simplified\n",
        "# Training the model\n",
        "X_train, X_test, y_train, y_test = train_test_split(X, y, test_size=0.25, random_state=101)\n",
        "rfc = RandomForestClassifier()\n",
        "rfc.fit(np.array(X_train).reshape(-1,1), np.array(y_train).reshape(-1,1))\n",
        "\n",
        "# Testing the model\n",
        "predictions = rfc.predict(np.array(X_test).reshape(-1,1))\n",
        "print(classification_report(np.array(y_test).reshape(-1,1), predictions))\n",
        "print('Overall Accuracy: ', accuracy_score(y_test, predictions))\n"
      ],
      "metadata": {
        "colab": {
          "base_uri": "https://localhost:8080/"
        },
        "id": "WqKhY8qgsIoL",
        "outputId": "1edaada9-073b-4a25-cfc8-a7f02296bece"
      },
      "execution_count": 56,
      "outputs": [
        {
          "output_type": "stream",
          "name": "stdout",
          "text": [
            "              precision    recall  f1-score   support\n",
            "\n",
            "           0       0.97      1.00      0.99      2677\n",
            "           1       0.00      0.00      0.00        78\n",
            "\n",
            "    accuracy                           0.97      2755\n",
            "   macro avg       0.49      0.50      0.49      2755\n",
            "weighted avg       0.94      0.97      0.96      2755\n",
            "\n",
            "Overall Accuracy:  0.9709618874773139\n"
          ]
        }
      ]
    },
    {
      "cell_type": "code",
      "source": [
        "#Uso el escalado MinMax en mi análisis aquí, pero el escalado Estándar ofrece resultados comparables\n",
        "#aunque con un poco menos de exactitud/precisión en el entrenamiento/pruebas realizadas fuera de este portátil\n",
        "scaler=MinMaxScaler()\n",
        "scaled_wine=scaler.fit_transform(winedf2[['desc_length']])\n",
        "newdf=pd.DataFrame(scaled_wine)\n",
        "X=newdf[0]\n",
        "y=winedf2.price_simplified\n",
        "# Training the model\n",
        "X_train, X_test, y_train, y_test = train_test_split(X, y, test_size=0.25, random_state=101)\n",
        "rfc = RandomForestClassifier()\n",
        "rfc.fit(np.array(X_train).reshape(-1,1), np.array(y_train).reshape(-1,1))\n",
        "\n",
        "# Testing the model\n",
        "predictions = rfc.predict(np.array(X_test).reshape(-1,1))\n",
        "print(classification_report(np.array(y_test).reshape(-1,1), predictions))\n",
        "print('Overall Accuracy: ', accuracy_score(y_test, predictions))\n"
      ],
      "metadata": {
        "colab": {
          "base_uri": "https://localhost:8080/"
        },
        "id": "-dod1KhHsTRZ",
        "outputId": "20e63134-916d-474a-fac2-040729f438b3"
      },
      "execution_count": 57,
      "outputs": [
        {
          "output_type": "stream",
          "name": "stdout",
          "text": [
            "              precision    recall  f1-score   support\n",
            "\n",
            "           0       0.97      1.00      0.99      2677\n",
            "           1       0.00      0.00      0.00        78\n",
            "\n",
            "    accuracy                           0.97      2755\n",
            "   macro avg       0.49      0.50      0.49      2755\n",
            "weighted avg       0.94      0.97      0.96      2755\n",
            "\n",
            "Overall Accuracy:  0.9716878402903811\n"
          ]
        }
      ]
    },
    {
      "cell_type": "code",
      "source": [
        "#Tratando de excluir algunos de los valores atípicos superiores extremos para el precio\n",
        "#Esto hace que el modelo sea mucho menos preciso. Reflexionaré sobre las posibles razones en la siguiente sección.\n",
        "y = winedf2[winedf2['price'] <= 500]['price']\n",
        "X = winedf2[winedf2['price'] <= 500]['desc_length']\n",
        "# Training the model\n",
        "X_train, X_test, y_train, y_test = train_test_split(X, y, test_size=0.25, random_state=101)\n",
        "rfc = RandomForestClassifier()\n",
        "rfc.fit(np.array(X_train).reshape(-1,1), np.array(y_train).reshape(-1,1))\n",
        "\n",
        "# Testing the model\n",
        "predictions = rfc.predict(np.array(X_test).reshape(-1,1))\n",
        "print('Overall Accuracy: ', accuracy_score(y_test, predictions))"
      ],
      "metadata": {
        "colab": {
          "base_uri": "https://localhost:8080/"
        },
        "id": "vthVXz22sZwu",
        "outputId": "acf90a72-54f9-4da8-a9a2-eea4b9e946d7"
      },
      "execution_count": 58,
      "outputs": [
        {
          "output_type": "stream",
          "name": "stdout",
          "text": [
            "Overall Accuracy:  0.038112522686025406\n"
          ]
        }
      ]
    },
    {
      "cell_type": "markdown",
      "source": [
        "###Interpret"
      ],
      "metadata": {
        "id": "EntVY8CjshUK"
      }
    },
    {
      "cell_type": "markdown",
      "source": [
        "**Descripción Longitud para Clasificar Puntos:**\n",
        "\n",
        "\n",
        "Una posible explicación para los puntos no simplificados versus el modelo de longitud de descripción podría ser que estoy usando un modelo de clasificación, Random Forest, versus Regresión lineal. Los datos siguen siendo algo lineales después de la simplificación de los puntos en 5 categorías, pero creo que la clasificación se mantiene mejor porque hay menos ruido por la presencia de menos categorías en la variable dependiente.\n",
        "\n",
        "Dicho esto, esta mejora en el rendimiento solo llevó al modelo a un nivel de precisión y precisión solo ligeramente superior al azar. Mantendría que la regresión lineal es probablemente el camino a seguir aquí, pero esto, por supuesto, merece más pruebas para asegurarlo.\n"
      ],
      "metadata": {
        "id": "63fSw4j-skdf"
      }
    },
    {
      "cell_type": "markdown",
      "source": [
        "**Descripción Largo a Clasificar Precio:**\n",
        "\n",
        "Pasando a una interpretación de mi precio como modelo de variable dependiente, lo más notable a mencionar es que el modelo es muy preciso para vinos por debajo de \n",
        "$\n",
        "100\n",
        "\n",
        "No es exacto por encima de eso, algo que traté de abordar volviendo a mi EDA y determinando dónde sería un buen límite para los valores atípicos. Elegí \n",
        "$\n",
        "500 en la sección anterior como ese límite. Este no fue un refinamiento exitoso del modelo y produjo una precisión muy baja.\n",
        "\n",
        "Esto fue algo que probé y traté de hacer funcionar fuera de este cuaderno final para el proyecto, y no encontré que eliminar los valores atípicos a otros precios produjera mejores resultados. El modelo funciona razonablemente bien, pero solo cuando se trata de todo el conjunto de datos y todavía no estoy seguro de cómo interpretarlo.\n",
        "\n",
        "Afortunadamente, afirmé que la gran mayoría de los bebedores de vino nunca buscan gastar más de \n",
        "$\n",
        "100 en una botella, o lo hacen con muy poca frecuencia. Este modelo muestra que los vinos de cierta longitud de descripción de este conjunto de datos pueden clasificarse con alta precisión y exactitud a través del algoritmo Random Forest."
      ],
      "metadata": {
        "id": "efDwqNBDs4ve"
      }
    },
    {
      "cell_type": "markdown",
      "source": [
        "**Conclusiones:**\n",
        "\n",
        "En conjunto, sostengo que estos dos resultados deben interpretarse en el sentido de que comprar vino con una descripción más larga que aún cuesta menos de $ 100 por botella es el mejor enfoque. Dado que era el modelo más débil, la calificación por puntos solo debe usarse como una forma secundaria de clasificar cuáles son realmente los mejores vinos."
      ],
      "metadata": {
        "id": "rEabybtxtOWf"
      }
    },
    {
      "cell_type": "code",
      "source": [],
      "metadata": {
        "id": "XM8qyBmFtQyG"
      },
      "execution_count": null,
      "outputs": []
    }
  ]
}