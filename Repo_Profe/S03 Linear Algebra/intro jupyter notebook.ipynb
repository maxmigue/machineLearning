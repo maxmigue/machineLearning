{
  "nbformat": 4,
  "nbformat_minor": 0,
  "metadata": {
    "colab": {
      "provenance": [],
      "authorship_tag": "ABX9TyOWyaiWXv9s6nwa788WrN90",
      "include_colab_link": true
    },
    "kernelspec": {
      "name": "python3",
      "display_name": "Python 3"
    },
    "language_info": {
      "name": "python"
    }
  },
  "cells": [
    {
      "cell_type": "markdown",
      "metadata": {
        "id": "view-in-github",
        "colab_type": "text"
      },
      "source": [
        "<a href=\"https://colab.research.google.com/github/castudil/Machine-Learning/blob/main/S03%20Linear%20Algebra/intro%20jupyter%20notebook.ipynb\" target=\"_parent\"><img src=\"https://colab.research.google.com/assets/colab-badge.svg\" alt=\"Open In Colab\"/></a>"
      ]
    },
    {
      "cell_type": "markdown",
      "source": [
        "\n",
        "\n",
        "# Que es un Jupiter notebook\n",
        "\n",
        "\n",
        "Un \"Jupyter Notebook\" (a menudo abreviado como \"Notebook\") es una aplicación interactiva que permite crear y compartir documentos que contienen código en vivo, visualizaciones, texto narrativo y más. Está diseñado principalmente para la programación en lenguajes como Python, pero también es compatible con varios otros lenguajes de programación a través de \"kernels\" específicos.\n",
        "\n",
        "\n",
        "Aquí hay algunas características clave de los Jupyter Notebooks:\n",
        "\n",
        "1. **Celdas**: Un notebook está compuesto por celdas, que pueden ser de dos tipos principales: celdas de código y celdas de texto. Las celdas de código permiten escribir y ejecutar código en vivo, mientras que las celdas de texto (escritas en Markdown o HTML) se utilizan para agregar explicaciones, documentación y contexto al código.\n",
        "\n",
        "2. **Interactividad**: Puedes ejecutar las celdas de código en cualquier orden y ver los resultados de manera inmediata. Esto hace que los notebooks sean ideales para la exploración de datos y la experimentación.\n",
        "\n",
        "3. **Visualizaciones**: Los notebooks admiten la generación de gráficos y visualizaciones interactivas, lo que facilita la representación de datos de manera efectiva.\n",
        "\n",
        "4. **Documentación enriquecida**: Los notebooks permiten la inclusión de texto, ecuaciones matemáticas, imágenes, enlaces y otros elementos que enriquecen la documentación y la presentación de tus ideas.\n",
        "\n",
        "5. **Compartir y colaborar**: Los notebooks se pueden compartir fácilmente con otras personas. Puedes exportarlos en diferentes formatos, como HTML o PDF, o compartirlos a través de servicios en línea como GitHub o JupyterHub, lo que facilita la colaboración en proyectos de programación y análisis de datos.\n",
        "\n",
        "6. **Soporte multiplataforma**: Jupyter Notebooks se pueden ejecutar en una variedad de plataformas, incluyendo Windows, macOS y Linux. También se pueden utilizar en la nube a través de servicios como Google Colab y Microsoft Azure Notebooks.\n",
        "\n",
        "En resumen, un Jupyter Notebook es una herramienta poderosa y versátil para la programación, análisis de datos, investigación científica y comunicación de resultados de una manera interactiva y documentada. Su flexibilidad y capacidad para combinar código, visualizaciones y texto lo hacen ampliamente utilizado en campos como la ciencia de datos, la ingeniería, la investigación académica y la educación.\n",
        "\n"
      ],
      "metadata": {
        "id": "UyCeBcuWTRY7"
      }
    },
    {
      "cell_type": "code",
      "execution_count": 1,
      "metadata": {
        "colab": {
          "base_uri": "https://localhost:8080/"
        },
        "id": "3_DAVyhHTHmK",
        "outputId": "5cb43f0d-18c8-40fc-d2b5-bb3abed4dca4"
      },
      "outputs": [
        {
          "output_type": "stream",
          "name": "stdout",
          "text": [
            "1\n"
          ]
        }
      ],
      "source": [
        "a= 1\n",
        "print(a)"
      ]
    },
    {
      "cell_type": "markdown",
      "source": [
        "# Paso 2: obtencion de los datos\n",
        "\n",
        "ahora vamos a descargar los datos"
      ],
      "metadata": {
        "id": "K4S-kTfcVED5"
      }
    },
    {
      "cell_type": "code",
      "source": [
        "print(\"hola mundo\")"
      ],
      "metadata": {
        "colab": {
          "base_uri": "https://localhost:8080/"
        },
        "id": "WgUZycRIVIib",
        "outputId": "ed08bfe0-173d-4805-c1f2-74d223858e42"
      },
      "execution_count": 2,
      "outputs": [
        {
          "output_type": "stream",
          "name": "stdout",
          "text": [
            "hola mundo\n"
          ]
        }
      ]
    }
  ]
}