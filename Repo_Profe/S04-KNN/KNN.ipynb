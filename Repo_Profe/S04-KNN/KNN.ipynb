{
  "nbformat": 4,
  "nbformat_minor": 0,
  "metadata": {
    "colab": {
      "name": "KNN.ipynb",
      "provenance": [],
      "authorship_tag": "ABX9TyODAvuc0vFA8g97PHTroHxf",
      "include_colab_link": true
    },
    "kernelspec": {
      "name": "python3",
      "display_name": "Python 3"
    },
    "language_info": {
      "name": "python"
    }
  },
  "cells": [
    {
      "cell_type": "markdown",
      "metadata": {
        "id": "view-in-github",
        "colab_type": "text"
      },
      "source": [
        "<a href=\"https://colab.research.google.com/github/castudil/Machine-Learning/blob/main/S04-KNN/KNN.ipynb\" target=\"_parent\"><img src=\"https://colab.research.google.com/assets/colab-badge.svg\" alt=\"Open In Colab\"/></a>"
      ]
    },
    {
      "cell_type": "markdown",
      "source": [
        "# **Reconocer dígitos escritos a mano con un clasificador de K-vecinos más cercanos**"
      ],
      "metadata": {
        "id": "GNjQ_s32_1uN"
      }
    },
    {
      "cell_type": "markdown",
      "source": [
        "1.- Importar los módulos/biblioteca:"
      ],
      "metadata": {
        "id": "7aXqbfd8ASlf"
      }
    },
    {
      "cell_type": "code",
      "execution_count": null,
      "metadata": {
        "id": "kqn-DIGX9KL2"
      },
      "outputs": [],
      "source": [
        "import numpy as np\n",
        "import sklearn\n",
        "import sklearn.datasets as ds\n",
        "import sklearn.model_selection as ms\n",
        "import sklearn.neighbors as nb\n",
        "import matplotlib.pyplot as plt\n",
        "%matplotlib inline"
      ]
    },
    {
      "cell_type": "markdown",
      "source": [
        "2.- Cargar el conjunto de datos de dígitos [*digits*]. Este conjunto de datos contiene dígitos escritos a mano que se han etiquetado de forma manual:"
      ],
      "metadata": {
        "id": "BaVahYuD_1GS"
      }
    },
    {
      "cell_type": "code",
      "source": [
        "digits = ds.load_digits()\n",
        "X = digits.data\n",
        "y = digits.target\n",
        "print((X.min(), X.max()))\n",
        "print(X.shape)"
      ],
      "metadata": {
        "colab": {
          "base_uri": "https://localhost:8080/"
        },
        "id": "EgEVp-RCAqZa",
        "outputId": "43955687-9311-48f5-c4ff-c31c603d1408"
      },
      "execution_count": null,
      "outputs": [
        {
          "output_type": "stream",
          "name": "stdout",
          "text": [
            "(0.0, 16.0)\n",
            "(1797, 64)\n"
          ]
        }
      ]
    },
    {
      "cell_type": "markdown",
      "source": [
        "En la matriz X, cada fila contiene 8*8=64 píxeles (en escala de grises, valores entre 0 y 16). \n",
        "\n",
        "3.- Mostrar algunas de las imágenes junto con sus etiquetas:"
      ],
      "metadata": {
        "id": "sbQkwpLuBPIG"
      }
    },
    {
      "cell_type": "code",
      "source": [
        "nrows, ncols = 2, 5\n",
        "fig, axes = plt.subplots(nrows, ncols,\n",
        "                         figsize=(6, 3))\n",
        "for i in range(nrows):\n",
        "    for j in range(ncols):\n",
        "        # Image index\n",
        "        k = j + i * ncols\n",
        "        ax = axes[i, j]\n",
        "        ax.matshow(digits.images[k, ...],\n",
        "                   cmap=plt.cm.gray)\n",
        "        ax.set_axis_off()\n",
        "        ax.set_title(digits.target[k])"
      ],
      "metadata": {
        "colab": {
          "base_uri": "https://localhost:8080/",
          "height": 196
        },
        "id": "F1-5PBDABY_7",
        "outputId": "43c6a883-8228-47b1-cba9-9d807b6006be"
      },
      "execution_count": null,
      "outputs": [
        {
          "output_type": "display_data",
          "data": {
            "text/plain": [
              "<Figure size 432x216 with 10 Axes>"
            ],
            "image/png": "[encoded data removed]"
          },
          "metadata": {
            "needs_background": "light"
          }
        }
      ]
    },
    {
      "cell_type": "markdown",
      "source": [
        "4.- Ahora, ajustemos un clasificador de K-vecinos más cercanos a los datos:"
      ],
      "metadata": {
        "id": "qrOEigwqBkOD"
      }
    },
    {
      "cell_type": "code",
      "source": [
        "(X_train, X_test, y_train, y_test) = \\\n",
        "    ms.train_test_split(X, y, test_size=.25)"
      ],
      "metadata": {
        "id": "PNAmK6dCBjHo"
      },
      "execution_count": null,
      "outputs": []
    },
    {
      "cell_type": "code",
      "source": [
        "knc = nb.KNeighborsClassifier()"
      ],
      "metadata": {
        "id": "OSEDX0qOBqdz"
      },
      "execution_count": null,
      "outputs": []
    },
    {
      "cell_type": "code",
      "source": [
        "knc.fit(X_train, y_train)"
      ],
      "metadata": {
        "colab": {
          "base_uri": "https://localhost:8080/"
        },
        "id": "q8X6mJkiBtL0",
        "outputId": "27f32d05-f4bf-4b1a-e7c3-7d419a6c3d1a"
      },
      "execution_count": null,
      "outputs": [
        {
          "output_type": "execute_result",
          "data": {
            "text/plain": [
              "KNeighborsClassifier()"
            ]
          },
          "metadata": {},
          "execution_count": 38
        }
      ]
    },
    {
      "cell_type": "markdown",
      "source": [
        "5.- Evalar la puntuación del clasificador entrenado en el conjunto de datos de prueba:"
      ],
      "metadata": {
        "id": "gH_Wo2vqBytk"
      }
    },
    {
      "cell_type": "code",
      "source": [
        "knc.score(X_test, y_test)"
      ],
      "metadata": {
        "colab": {
          "base_uri": "https://localhost:8080/"
        },
        "id": "CbWSfVoWB21d",
        "outputId": "5fc5fb39-bc6b-4575-82e9-f44e6391fdb1"
      },
      "execution_count": null,
      "outputs": [
        {
          "output_type": "execute_result",
          "data": {
            "text/plain": [
              "0.9822222222222222"
            ]
          },
          "metadata": {},
          "execution_count": 39
        }
      ]
    },
    {
      "cell_type": "markdown",
      "source": [
        "6.- Ahora, veamos si nuestro clasificador puede reconocer un dígito escrito a mano:"
      ],
      "metadata": {
        "id": "8gYq1n2qB88S"
      }
    },
    {
      "cell_type": "code",
      "source": [
        "# Dibujemos un 1, con los pixels\n",
        "uno = np.zeros((8, 8))\n",
        "uno[1:-1, 4] = 16  # Los valores de la imagen están en [0, 16].\n",
        "uno[2, 3] = 16"
      ],
      "metadata": {
        "id": "uvsqXXk3B-h1"
      },
      "execution_count": null,
      "outputs": []
    },
    {
      "cell_type": "code",
      "source": [
        "fig, ax = plt.subplots(1, 1, figsize=(2, 2))\n",
        "ax.imshow(one, interpolation='none',\n",
        "          cmap=plt.cm.gray)\n",
        "ax.grid(False)\n",
        "ax.set_axis_off()\n",
        "ax.set_title(\"one\")"
      ],
      "metadata": {
        "colab": {
          "base_uri": "https://localhost:8080/",
          "height": 173
        },
        "id": "J9t3rvFoCG0N",
        "outputId": "b5d02c6a-3e9a-4a1a-a0c6-32504b8a4960"
      },
      "execution_count": null,
      "outputs": [
        {
          "output_type": "execute_result",
          "data": {
            "text/plain": [
              "Text(0.5, 1.0, 'one')"
            ]
          },
          "metadata": {},
          "execution_count": 41
        },
        {
          "output_type": "display_data",
          "data": {
            "text/plain": [
              "<Figure size 144x144 with 1 Axes>"
            ],
            "image/png": "[encoded data removed]"
          },
          "metadata": {
            "needs_background": "light"
          }
        }
      ]
    },
    {
      "cell_type": "markdown",
      "source": [
        "7.- Predecimos el número dibujado"
      ],
      "metadata": {
        "id": "ZorOkfHiDNlm"
      }
    },
    {
      "cell_type": "code",
      "source": [
        "knc.predict(one.reshape((1, -1))) "
      ],
      "metadata": {
        "colab": {
          "base_uri": "https://localhost:8080/"
        },
        "id": "BKgqN-zyCVpz",
        "outputId": "38cb236e-0036-4c94-da99-b440e082928c"
      },
      "execution_count": null,
      "outputs": [
        {
          "output_type": "execute_result",
          "data": {
            "text/plain": [
              "array([1])"
            ]
          },
          "metadata": {},
          "execution_count": 42
        }
      ]
    }
  ]
}