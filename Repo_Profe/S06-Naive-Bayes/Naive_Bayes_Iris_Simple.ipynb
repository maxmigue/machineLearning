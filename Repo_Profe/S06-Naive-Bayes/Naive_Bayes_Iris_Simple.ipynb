{
  "nbformat": 4,
  "nbformat_minor": 0,
  "metadata": {
    "colab": {
      "provenance": [],
      "authorship_tag": "ABX9TyNP6+PL4qsKRm9pwGtetwzL",
      "include_colab_link": true
    },
    "kernelspec": {
      "name": "python3",
      "display_name": "Python 3"
    },
    "language_info": {
      "name": "python"
    }
  },
  "cells": [
    {
      "cell_type": "markdown",
      "metadata": {
        "id": "view-in-github",
        "colab_type": "text"
      },
      "source": [
        "<a href=\"https://colab.research.google.com/github/castudil/Machine-Learning/blob/main/S06-Naive-Bayes/Naive_Bayes_Iris_Simple.ipynb\" target=\"_parent\"><img src=\"https://colab.research.google.com/assets/colab-badge.svg\" alt=\"Open In Colab\"/></a>"
      ]
    },
    {
      "cell_type": "markdown",
      "source": [
        "# Clasificación de Iris usando Naive Bayes\n",
        "\n",
        "Para clasificar el conjunto de datos Iris utilizando el algoritmo Naive Bayes en Python, puedes usar la biblioteca `scikit-learn`, que ofrece una implementación eficiente y fácil de usar. Aquí te proporciono un ejemplo completo de cómo hacerlo:\n",
        "\n",
        "1. **Cargar el conjunto de datos Iris**: Este conjunto de datos viene incluido en `scikit-learn`, así que puedes cargarlo directamente.\n",
        "\n",
        "2. **Dividir el conjunto de datos**: Es una buena práctica dividir el conjunto de datos en un conjunto de entrenamiento y otro de prueba para evaluar el rendimiento del modelo`\n",
        "\n",
        "3. **Entrenar el modelo Naive Bayes**: Usaremos el clasificador `GaussianNB` porque asume que los datos de cada etiqueta siguen una distribución gaussiana.\n",
        "\n",
        "4. **Evaluar el modelo**: Después de entrenar el modelo, lo evaluamos usando el conjunto de prueba."
      ],
      "metadata": {
        "id": "beh2jhugmrgL"
      }
    },
    {
      "cell_type": "code",
      "execution_count": 1,
      "metadata": {
        "colab": {
          "base_uri": "https://localhost:8080/"
        },
        "id": "lyhmjehlBBfD",
        "outputId": "e510d102-1f26-45e2-8f35-bd1e28e67d1e"
      },
      "outputs": [
        {
          "output_type": "stream",
          "name": "stdout",
          "text": [
            "Accuracy: 97.78%\n"
          ]
        }
      ],
      "source": [
        "from sklearn.datasets import load_iris\n",
        "from sklearn.model_selection import train_test_split\n",
        "from sklearn.naive_bayes import GaussianNB\n",
        "from sklearn.metrics import accuracy_score\n",
        "\n",
        "# Cargar el conjunto de datos\n",
        "data = load_iris()\n",
        "X = data.data\n",
        "y = data.target\n",
        "\n",
        "# Dividir el conjunto de datos en entrenamiento y prueba\n",
        "X_train, X_test, y_train, y_test = train_test_split(X, y, test_size=0.3, random_state=42)\n",
        "\n",
        "# Crear el modelo Naive Bayes y entrenarlo\n",
        "model = GaussianNB()\n",
        "model.fit(X_train, y_train)\n",
        "\n",
        "# Realizar predicciones en el conjunto de prueba\n",
        "y_pred = model.predict(X_test)\n",
        "\n",
        "# Evaluar el modelo\n",
        "accuracy = accuracy_score(y_test, y_pred)\n",
        "print(f'Accuracy: {accuracy * 100:.2f}%')\n"
      ]
    }
  ]
}