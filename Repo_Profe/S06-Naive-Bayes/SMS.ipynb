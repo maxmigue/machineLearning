{
 "cells": [
  {
   "cell_type": "markdown",
   "metadata": {
    "vscode": {
     "languageId": "markdown"
    }
   },
   "source": [
    "### SMS Spam Detector\n",
    "\n",
    "Este notebook tiene como objetivo desarrollar un detector de spam para mensajes SMS. El proceso consiste en aplicar técnicas de procesamiento de lenguaje natural (NLP) para limpiar, transformar y analizar los datos, y posteriormente entrenar un modelo de aprendizaje automático para clasificar los mensajes como \"spam\" o \"ham\" (no spam).\n",
    "\n",
    "#### Pasos principales:\n",
    "1. **Carga y exploración de datos**: Se carga un conjunto de datos de mensajes SMS etiquetados como \"spam\" o \"ham\". Se realiza una exploración inicial para entender la estructura y calidad de los datos.\n",
    "2. **Preprocesamiento de texto**:\n",
    "    - Eliminación de palabras irrelevantes (*stop words*).\n",
    "    - Aplicación de *stemming* para reducir las palabras a su raíz.\n",
    "3. **Entrenamiento del modelo**: Se utilizarán algoritmos de aprendizaje automático para entrenar un modelo que pueda clasificar nuevos mensajes.\n",
    "4. **Evaluación del modelo**: Se evaluará el rendimiento del modelo utilizando métricas como precisión, recall y F1-score.\n",
    "\n",
    "El objetivo final es construir un modelo que pueda identificar automáticamente mensajes de spam con alta precisión."
   ]
  },
  {
   "cell_type": "code",
   "execution_count": null,
   "metadata": {},
   "outputs": [
    {
     "name": "stdout",
     "output_type": "stream",
     "text": [
      "--2025-04-07 13:24:41--  https://raw.githubusercontent.com/mohitgupta-1O1/Kaggle-SMS-Spam-Collection-Dataset-/master/spam.csv\n",
      "Resolving raw.githubusercontent.com (raw.githubusercontent.com)... 185.199.110.133, 185.199.111.133, 185.199.108.133, ...\n",
      "Connecting to raw.githubusercontent.com (raw.githubusercontent.com)|185.199.110.133|:443... connected.\n",
      "HTTP request sent, awaiting response... 200 OK\n",
      "Length: 503663 (492K) [application/octet-stream]\n",
      "Saving to: ‘spam.csv.2’\n",
      "\n",
      "spam.csv.2          100%[===================>] 491.86K  --.-KB/s    in 0.07s   \n",
      "\n",
      "2025-04-07 13:24:41 (6.80 MB/s) - ‘spam.csv.2’ saved [503663/503663]\n",
      "\n"
     ]
    }
   ],
   "source": [
    "# Descomentar la siguiente línea si se necesita descargar el archivo CSV\n",
    "#!wget https://raw.githubusercontent.com/mohitgupta-1O1/Kaggle-SMS-Spam-Collection-Dataset-/master/spam.csv\n",
    "\n"
   ]
  },
  {
   "cell_type": "code",
   "execution_count": null,
   "metadata": {},
   "outputs": [
    {
     "data": {
      "text/html": [
       "<div>\n",
       "<style scoped>\n",
       "    .dataframe tbody tr th:only-of-type {\n",
       "        vertical-align: middle;\n",
       "    }\n",
       "\n",
       "    .dataframe tbody tr th {\n",
       "        vertical-align: top;\n",
       "    }\n",
       "\n",
       "    .dataframe thead th {\n",
       "        text-align: right;\n",
       "    }\n",
       "</style>\n",
       "<table border=\"1\" class=\"dataframe\">\n",
       "  <thead>\n",
       "    <tr style=\"text-align: right;\">\n",
       "      <th></th>\n",
       "      <th>label</th>\n",
       "      <th>message</th>\n",
       "    </tr>\n",
       "  </thead>\n",
       "  <tbody>\n",
       "    <tr>\n",
       "      <th>0</th>\n",
       "      <td>ham</td>\n",
       "      <td>Go until jurong point, crazy.. Available only ...</td>\n",
       "    </tr>\n",
       "    <tr>\n",
       "      <th>1</th>\n",
       "      <td>ham</td>\n",
       "      <td>Ok lar... Joking wif u oni...</td>\n",
       "    </tr>\n",
       "    <tr>\n",
       "      <th>2</th>\n",
       "      <td>spam</td>\n",
       "      <td>Free entry in 2 a wkly comp to win FA Cup fina...</td>\n",
       "    </tr>\n",
       "    <tr>\n",
       "      <th>3</th>\n",
       "      <td>ham</td>\n",
       "      <td>U dun say so early hor... U c already then say...</td>\n",
       "    </tr>\n",
       "    <tr>\n",
       "      <th>4</th>\n",
       "      <td>ham</td>\n",
       "      <td>Nah I don't think he goes to usf, he lives aro...</td>\n",
       "    </tr>\n",
       "  </tbody>\n",
       "</table>\n",
       "</div>"
      ],
      "text/plain": [
       "  label                                            message\n",
       "0   ham  Go until jurong point, crazy.. Available only ...\n",
       "1   ham                      Ok lar... Joking wif u oni...\n",
       "2  spam  Free entry in 2 a wkly comp to win FA Cup fina...\n",
       "3   ham  U dun say so early hor... U c already then say...\n",
       "4   ham  Nah I don't think he goes to usf, he lives aro..."
      ]
     },
     "execution_count": 1,
     "metadata": {},
     "output_type": "execute_result"
    }
   ],
   "source": [
    "import pandas as pd\n",
    "\n",
    "\n",
    "# Cargar el archivo CSV\n",
    "df = pd.read_csv(\"spam.csv\", encoding='latin-1')\n",
    "\n",
    "# Seleccionar solo las columnas necesarias\n",
    "df = df[['v1', 'v2']]\n",
    "df.columns = ['label', 'message']\n",
    "\n",
    "# Vista previa\n",
    "df.head()"
   ]
  },
  {
   "cell_type": "code",
   "execution_count": 2,
   "metadata": {},
   "outputs": [
    {
     "name": "stdout",
     "output_type": "stream",
     "text": [
      "El dataset tiene 5572 filas y 2 columnas.\n",
      "Información del dataset:\n",
      "<class 'pandas.core.frame.DataFrame'>\n",
      "RangeIndex: 5572 entries, 0 to 5571\n",
      "Data columns (total 2 columns):\n",
      " #   Column   Non-Null Count  Dtype \n",
      "---  ------   --------------  ----- \n",
      " 0   label    5572 non-null   object\n",
      " 1   message  5572 non-null   object\n",
      "dtypes: object(2)\n",
      "memory usage: 87.2+ KB\n",
      "Valores nulos por columna:\n",
      "label      0\n",
      "message    0\n",
      "dtype: int64\n",
      "Duplicados por columna:\n",
      "403\n",
      "Distribución de etiquetas:\n",
      "ham     4825\n",
      "spam     747\n",
      "Name: label, dtype: int64\n"
     ]
    }
   ],
   "source": [
    "## shape\n",
    "print(f\"El dataset tiene {df.shape[0]} filas y {df.shape[1]} columnas.\")\n",
    "## info\n",
    "print(\"Información del dataset:\")\n",
    "\n",
    "df.info()\n",
    "## nulls\n",
    "print(\"Valores nulos por columna:\")\n",
    "print(df.isnull().sum())\n",
    "## duplicates\n",
    "print(\"Duplicados por columna:\")\n",
    "print(df.duplicated().sum())\n",
    "## label\n",
    "print(\"Distribución de etiquetas:\")\n",
    "print(df['label'].value_counts())\n"
   ]
  },
  {
   "cell_type": "markdown",
   "metadata": {
    "vscode": {
     "languageId": "markdown"
    }
   },
   "source": [
    "### ¿Qué son los Stop Words?\n",
    "\n",
    "Las *stop words* son palabras comunes en un idioma que suelen ser filtradas o eliminadas en tareas de procesamiento de lenguaje natural (NLP). Estas palabras, como \"el\", \"la\", \"de\", \"y\", \"en\" en español o \"the\", \"and\", \"is\", \"in\" en inglés, no aportan un significado relevante para el análisis del texto, ya que son muy frecuentes y no ayudan a diferenciar entre documentos.\n",
    "\n",
    "Por ejemplo, en tareas como la clasificación de texto o la búsqueda de información, eliminar las *stop words* puede reducir el ruido y mejorar la eficiencia del modelo al enfocarse en las palabras más significativas.\n",
    "\n",
    "En Python, la biblioteca `nltk` proporciona una lista predefinida de *stop words* para varios idiomas, que puede ser utilizada para este propósito."
   ]
  },
  {
   "cell_type": "code",
   "execution_count": 3,
   "metadata": {},
   "outputs": [
    {
     "name": "stderr",
     "output_type": "stream",
     "text": [
      "[nltk_data] Downloading package stopwords to /Users/cesar/nltk_data...\n",
      "[nltk_data]   Unzipping corpora/stopwords.zip.\n"
     ]
    },
    {
     "data": {
      "text/html": [
       "<div>\n",
       "<style scoped>\n",
       "    .dataframe tbody tr th:only-of-type {\n",
       "        vertical-align: middle;\n",
       "    }\n",
       "\n",
       "    .dataframe tbody tr th {\n",
       "        vertical-align: top;\n",
       "    }\n",
       "\n",
       "    .dataframe thead th {\n",
       "        text-align: right;\n",
       "    }\n",
       "</style>\n",
       "<table border=\"1\" class=\"dataframe\">\n",
       "  <thead>\n",
       "    <tr style=\"text-align: right;\">\n",
       "      <th></th>\n",
       "      <th>label</th>\n",
       "      <th>message</th>\n",
       "    </tr>\n",
       "  </thead>\n",
       "  <tbody>\n",
       "    <tr>\n",
       "      <th>0</th>\n",
       "      <td>ham</td>\n",
       "      <td>Go jurong point, crazy.. Available bugis n gre...</td>\n",
       "    </tr>\n",
       "    <tr>\n",
       "      <th>1</th>\n",
       "      <td>ham</td>\n",
       "      <td>Ok lar... Joking wif u oni...</td>\n",
       "    </tr>\n",
       "    <tr>\n",
       "      <th>2</th>\n",
       "      <td>spam</td>\n",
       "      <td>Free entry 2 wkly comp win FA Cup final tkts 2...</td>\n",
       "    </tr>\n",
       "    <tr>\n",
       "      <th>3</th>\n",
       "      <td>ham</td>\n",
       "      <td>U dun say early hor... U c already say...</td>\n",
       "    </tr>\n",
       "    <tr>\n",
       "      <th>4</th>\n",
       "      <td>ham</td>\n",
       "      <td>Nah think goes usf, lives around though</td>\n",
       "    </tr>\n",
       "  </tbody>\n",
       "</table>\n",
       "</div>"
      ],
      "text/plain": [
       "  label                                            message\n",
       "0   ham  Go jurong point, crazy.. Available bugis n gre...\n",
       "1   ham                      Ok lar... Joking wif u oni...\n",
       "2  spam  Free entry 2 wkly comp win FA Cup final tkts 2...\n",
       "3   ham          U dun say early hor... U c already say...\n",
       "4   ham            Nah think goes usf, lives around though"
      ]
     },
     "execution_count": 3,
     "metadata": {},
     "output_type": "execute_result"
    }
   ],
   "source": [
    "import nltk\n",
    "from nltk.corpus import stopwords\n",
    "\n",
    "# Descargar las stop words si no están descargadas\n",
    "nltk.download('stopwords')\n",
    "\n",
    "# Lista de stop words en inglés\n",
    "stop_words = set(stopwords.words('english'))\n",
    "\n",
    "# Función para eliminar stop words\n",
    "def remove_stop_words(text):\n",
    "    words = text.split()\n",
    "    filtered_words = [word for word in words if word.lower() not in stop_words]\n",
    "    return ' '.join(filtered_words)\n",
    "\n",
    "# Aplicar la función a la columna 'message'\n",
    "df['message'] = df['message'].apply(remove_stop_words)\n",
    "\n",
    "# Vista previa del dataframe\n",
    "df.head()"
   ]
  },
  {
   "cell_type": "markdown",
   "metadata": {
    "vscode": {
     "languageId": "markdown"
    }
   },
   "source": [
    "### ¿Qué es el Stemming?\n",
    "\n",
    "El *stemming* es un proceso en el que se reducen las palabras a su raíz o forma base, eliminando sufijos o terminaciones. Por ejemplo, las palabras \"running\", \"runner\" y \"ran\" se reducen a su raíz común \"run\". \n",
    "\n",
    "Este proceso es útil en tareas de procesamiento de lenguaje natural (NLP) como la búsqueda de texto o la clasificación, ya que permite tratar palabras con significados similares como equivalentes, reduciendo la dimensionalidad del texto.\n",
    "\n",
    "En Python, una herramienta comúnmente utilizada para realizar *stemming* es el `PorterStemmer` de la biblioteca `nltk`."
   ]
  },
  {
   "cell_type": "code",
   "execution_count": 5,
   "metadata": {},
   "outputs": [
    {
     "data": {
      "text/html": [
       "<div>\n",
       "<style scoped>\n",
       "    .dataframe tbody tr th:only-of-type {\n",
       "        vertical-align: middle;\n",
       "    }\n",
       "\n",
       "    .dataframe tbody tr th {\n",
       "        vertical-align: top;\n",
       "    }\n",
       "\n",
       "    .dataframe thead th {\n",
       "        text-align: right;\n",
       "    }\n",
       "</style>\n",
       "<table border=\"1\" class=\"dataframe\">\n",
       "  <thead>\n",
       "    <tr style=\"text-align: right;\">\n",
       "      <th></th>\n",
       "      <th>label</th>\n",
       "      <th>message</th>\n",
       "    </tr>\n",
       "  </thead>\n",
       "  <tbody>\n",
       "    <tr>\n",
       "      <th>0</th>\n",
       "      <td>ham</td>\n",
       "      <td>go jurong point, crazy.. avail bugi n great wo...</td>\n",
       "    </tr>\n",
       "    <tr>\n",
       "      <th>1</th>\n",
       "      <td>ham</td>\n",
       "      <td>ok lar... joke wif u oni...</td>\n",
       "    </tr>\n",
       "    <tr>\n",
       "      <th>2</th>\n",
       "      <td>spam</td>\n",
       "      <td>free entri 2 wkli comp win fa cup final tkt 21...</td>\n",
       "    </tr>\n",
       "    <tr>\n",
       "      <th>3</th>\n",
       "      <td>ham</td>\n",
       "      <td>u dun say earli hor... u c alreadi say...</td>\n",
       "    </tr>\n",
       "    <tr>\n",
       "      <th>4</th>\n",
       "      <td>ham</td>\n",
       "      <td>nah think goe usf, live around though</td>\n",
       "    </tr>\n",
       "  </tbody>\n",
       "</table>\n",
       "</div>"
      ],
      "text/plain": [
       "  label                                            message\n",
       "0   ham  go jurong point, crazy.. avail bugi n great wo...\n",
       "1   ham                        ok lar... joke wif u oni...\n",
       "2  spam  free entri 2 wkli comp win fa cup final tkt 21...\n",
       "3   ham          u dun say earli hor... u c alreadi say...\n",
       "4   ham              nah think goe usf, live around though"
      ]
     },
     "execution_count": 5,
     "metadata": {},
     "output_type": "execute_result"
    }
   ],
   "source": [
    "from nltk.stem import PorterStemmer\n",
    "\n",
    "\n",
    "# Crear un objeto PorterStemmer\n",
    "stemmer = PorterStemmer()\n",
    "\n",
    "# Función para aplicar stemming\n",
    "def apply_stemming(text):\n",
    "    words = text.split()\n",
    "    stemmed_words = [stemmer.stem(word) for word in words]\n",
    "    return ' '.join(stemmed_words)\n",
    "\n",
    "# Aplicar la función a la columna 'message'\n",
    "df['message'] = df['message'].apply(apply_stemming)\n",
    "\n",
    "# Vista previa del dataframe\n",
    "df.head()"
   ]
  },
  {
   "cell_type": "markdown",
   "metadata": {
    "vscode": {
     "languageId": "markdown"
    }
   },
   "source": [
    "### Generar conjuntos de entrenamiento y prueba\n",
    "\n",
    "En este paso, dividiremos los datos en conjuntos de entrenamiento y prueba antes de crear la Document-Term Matrix (DTM). Esto es importante porque:\n",
    "\n",
    "1. **Evitar el sesgo por fuga de datos**: Si generamos la DTM antes de dividir los datos, el vocabulario de la matriz incluirá términos de todo el conjunto de datos, incluidos los del conjunto de prueba. Esto puede causar una fuga de datos (*data leakage*), ya que el modelo tendría acceso a información del conjunto de prueba durante el entrenamiento, lo que resultaría en una evaluación poco realista.\n",
    "\n",
    "2. **Simular datos no vistos**: Dividir los datos antes de cualquier transformación asegura que el conjunto de prueba permanezca completamente separado y actúe como datos no vistos. Esto permite evaluar el rendimiento del modelo de manera más precisa y generalizable.\n",
    "\n",
    "3. **Evitar sobreajuste**: Si el modelo se entrena con un vocabulario que incluye términos del conjunto de prueba, podría ajustarse demasiado a esos datos, lo que afectaría su capacidad para generalizar a nuevos datos.\n",
    "\n",
    "Por estas razones, es fundamental realizar la división en conjuntos de entrenamiento y prueba antes de cualquier transformación, como la creación de la DTM."
   ]
  },
  {
   "cell_type": "code",
   "execution_count": 7,
   "metadata": {
    "vscode": {
     "languageId": "ruby"
    }
   },
   "outputs": [
    {
     "name": "stdout",
     "output_type": "stream",
     "text": [
      "Conjunto de entrenamiento: 4457 muestras\n",
      "Conjunto de prueba: 1115 muestras\n"
     ]
    }
   ],
   "source": [
    "from sklearn.model_selection import train_test_split\n",
    "\n",
    "# Dividir los datos en conjuntos de entrenamiento y prueba\n",
    "X_train, X_test, y_train, y_test = train_test_split(df['message'], df['label'], test_size=0.2, random_state=42)\n",
    "\n",
    "# Verificar las dimensiones de los conjuntos\n",
    "print(f\"Conjunto de entrenamiento: {X_train.shape[0]} muestras\")\n",
    "print(f\"Conjunto de prueba: {X_test.shape[0]} muestras\")"
   ]
  },
  {
   "cell_type": "markdown",
   "metadata": {
    "vscode": {
     "languageId": "markdown"
    }
   },
   "source": [
    "### ¿Qué es una Document-Term Matrix (DTM)?\n",
    "\n",
    "Una **Document-Term Matrix (DTM)** es una representación matricial de un conjunto de documentos en la que las filas representan los documentos y las columnas representan los términos (palabras únicas) presentes en esos documentos. Cada celda de la matriz contiene un valor que indica la frecuencia (o presencia) de un término en un documento específico.\n",
    "\n",
    "#### Características principales:\n",
    "- **Filas**: Cada fila corresponde a un documento en el corpus.\n",
    "- **Columnas**: Cada columna corresponde a un término único en el vocabulario del corpus.\n",
    "- **Valores**: Los valores en la matriz pueden ser:\n",
    "    - Frecuencia de la palabra en el documento.\n",
    "    - Presencia/ausencia de la palabra (1 si está presente, 0 si no lo está).\n",
    "    - Frecuencia ponderada, como el valor TF-IDF (Term Frequency-Inverse Document Frequency).\n",
    "\n",
    "#### Ejemplo:\n",
    "Si tenemos los siguientes documentos:\n",
    "1. \"El gato duerme.\"\n",
    "2. \"El perro corre.\"\n",
    "\n",
    "La DTM sería:\n",
    "\n",
    "|         | el | gato | duerme | perro | corre |\n",
    "|---------|----|------|--------|-------|-------|\n",
    "| Doc 1   |  1 |    1 |      1 |     0 |     0 |\n",
    "| Doc 2   |  1 |    0 |      0 |     1 |     1 |\n",
    "\n",
    "#### Usos comunes:\n",
    "- **Clasificación de texto**: Entrenar modelos de aprendizaje automático para clasificar documentos.\n",
    "- **Análisis de texto**: Identificar patrones y relaciones entre palabras y documentos.\n",
    "- **Búsqueda de información**: Encontrar documentos relevantes basados en términos de consulta.\n",
    "\n",
    "La DTM es una herramienta fundamental en el procesamiento de lenguaje natural (NLP) y el análisis de texto, ya que convierte datos textuales no estructurados en una forma estructurada que puede ser utilizada por algoritmos de aprendizaje automático."
   ]
  },
  {
   "cell_type": "code",
   "execution_count": 8,
   "metadata": {},
   "outputs": [
    {
     "name": "stdout",
     "output_type": "stream",
     "text": [
      "DTM de entrenamiento: (4457, 7277)\n",
      "DTM de prueba: (1115, 7277)\n"
     ]
    }
   ],
   "source": [
    "from sklearn.feature_extraction.text import CountVectorizer\n",
    "\n",
    "# Crear un objeto CountVectorizer\n",
    "vectorizer = CountVectorizer()\n",
    "\n",
    "# Ajustar y transformar los datos de entrenamiento\n",
    "X_train_dtm = vectorizer.fit_transform(X_train)\n",
    "\n",
    "# Transformar los datos de prueba\n",
    "X_test_dtm = vectorizer.transform(X_test)\n",
    "\n",
    "# Mostrar la forma de la DTM\n",
    "print(f\"DTM de entrenamiento: {X_train_dtm.shape}\")\n",
    "print(f\"DTM de prueba: {X_test_dtm.shape}\")"
   ]
  },
  {
   "cell_type": "markdown",
   "metadata": {
    "vscode": {
     "languageId": "markdown"
    }
   },
   "source": [
    "### ¿Por qué se utiliza Multinomial Naive Bayes?\n",
    "\n",
    "El algoritmo **Multinomial Naive Bayes** es una elección común para tareas de clasificación de texto, como la detección de spam, debido a las siguientes razones:\n",
    "\n",
    "1. **Modelo probabilístico simple y eficiente**:\n",
    "    - Multinomial Naive Bayes asume que las características (en este caso, las palabras) son independientes entre sí, lo que simplifica los cálculos.\n",
    "    - Este modelo calcula la probabilidad de que un mensaje pertenezca a una clase (spam o ham) basándose en la frecuencia de las palabras en el mensaje.\n",
    "\n",
    "2. **Adecuado para datos discretos**:\n",
    "    - Este algoritmo está diseñado específicamente para datos discretos, como las frecuencias de palabras en un texto, que es exactamente lo que representa la Document-Term Matrix (DTM).\n",
    "\n",
    "3. **Rendimiento sólido en clasificación de texto**:\n",
    "    - Multinomial Naive Bayes es conocido por su buen rendimiento en tareas de clasificación de texto, especialmente cuando se trabaja con datos de alta dimensionalidad como los textos.\n",
    "\n",
    "4. **Eficiencia computacional**:\n",
    "    - Es un algoritmo rápido y eficiente, lo que lo hace adecuado para conjuntos de datos grandes como el utilizado en este proyecto.\n",
    "\n",
    "5. **Interpretabilidad**:\n",
    "    - Las probabilidades calculadas por el modelo son fáciles de interpretar, lo que permite entender qué palabras contribuyen más a la clasificación de un mensaje como spam o ham.\n",
    "\n",
    "En resumen, Multinomial Naive Bayes es una opción ideal para este proyecto debido a su simplicidad, eficiencia y capacidad para manejar datos textuales representados como frecuencias de palabras."
   ]
  },
  {
   "cell_type": "code",
   "execution_count": 9,
   "metadata": {},
   "outputs": [
    {
     "name": "stdout",
     "output_type": "stream",
     "text": [
      "Accuracy: 0.9856502242152466\n",
      "\n",
      "Classification Report:\n",
      "              precision    recall  f1-score   support\n",
      "\n",
      "         ham       0.99      1.00      0.99       965\n",
      "        spam       0.98      0.91      0.94       150\n",
      "\n",
      "    accuracy                           0.99      1115\n",
      "   macro avg       0.98      0.96      0.97      1115\n",
      "weighted avg       0.99      0.99      0.99      1115\n",
      "\n"
     ]
    }
   ],
   "source": [
    "from sklearn.naive_bayes import MultinomialNB\n",
    "from sklearn.metrics import accuracy_score, classification_report\n",
    "\n",
    "# Crear el modelo de Naive Bayes\n",
    "nb_model = MultinomialNB()\n",
    "\n",
    "# Entrenar el modelo con los datos de entrenamiento\n",
    "nb_model.fit(X_train_dtm, y_train)\n",
    "\n",
    "# Predecir las etiquetas para el conjunto de prueba\n",
    "y_pred = nb_model.predict(X_test_dtm)\n",
    "\n",
    "# Evaluar el modelo\n",
    "print(f\"Accuracy: {accuracy_score(y_test, y_pred)}\")\n",
    "print(\"\\nClassification Report:\")\n",
    "print(classification_report(y_test, y_pred))"
   ]
  },
  {
   "cell_type": "code",
   "execution_count": 10,
   "metadata": {},
   "outputs": [
    {
     "data": {
      "image/png": "[encoded data removed]",
      "text/plain": [
       "<Figure size 800x600 with 2 Axes>"
      ]
     },
     "metadata": {},
     "output_type": "display_data"
    }
   ],
   "source": [
    "from sklearn.metrics import confusion_matrix\n",
    "import seaborn as sns\n",
    "\n",
    "import matplotlib.pyplot as plt\n",
    "\n",
    "# Generar la matriz de confusión\n",
    "cm = confusion_matrix(y_test, y_pred)\n",
    "\n",
    "# Visualizar la matriz de confusión\n",
    "plt.figure(figsize=(8, 6))\n",
    "sns.heatmap(cm, annot=True, fmt='d', cmap='Blues', xticklabels=['Ham', 'Spam'], yticklabels=['Ham', 'Spam'])\n",
    "plt.xlabel('Predicted Labels')\n",
    "plt.ylabel('True Labels')\n",
    "plt.title('Confusion Matrix')\n",
    "plt.show()"
   ]
  }
 ],
 "metadata": {
  "kernelspec": {
   "display_name": "Python 3",
   "language": "python",
   "name": "python3"
  },
  "language_info": {
   "codemirror_mode": {
    "name": "ipython",
    "version": 3
   },
   "file_extension": ".py",
   "mimetype": "text/x-python",
   "name": "python",
   "nbconvert_exporter": "python",
   "pygments_lexer": "ipython3",
   "version": "3.8.10"
  }
 },
 "nbformat": 4,
 "nbformat_minor": 2
}
