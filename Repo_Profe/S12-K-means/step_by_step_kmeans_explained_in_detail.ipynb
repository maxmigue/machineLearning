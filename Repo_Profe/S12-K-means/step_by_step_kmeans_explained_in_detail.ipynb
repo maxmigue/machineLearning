{
  "metadata": {
    "kernelspec": {
      "display_name": "Python 3",
      "language": "python",
      "name": "python3"
    },
    "language_info": {
      "name": "python",
      "version": "3.6.4",
      "mimetype": "text/x-python",
      "codemirror_mode": {
        "name": "ipython",
        "version": 3
      },
      "pygments_lexer": "ipython3",
      "nbconvert_exporter": "python",
      "file_extension": ".py"
    },
    "colab": {
      "provenance": [],
      "include_colab_link": true
    }
  },
  "nbformat_minor": 0,
  "nbformat": 4,
  "cells": [
    {
      "cell_type": "markdown",
      "metadata": {
        "id": "view-in-github",
        "colab_type": "text"
      },
      "source": [
        "<a href=\"https://colab.research.google.com/github/castudil/Machine-Learning/blob/main/S12_K_means/step_by_step_kmeans_explained_in_detail.ipynb\" target=\"_parent\"><img src=\"https://colab.research.google.com/assets/colab-badge.svg\" alt=\"Open In Colab\"/></a>"
      ]
    },
    {
      "cell_type": "markdown",
      "source": [
        "![](http://cdn-images-1.medium.com/max/2400/1*PRC6tdXpTekQ6X7qdUDehg.jpeg)"
      ],
      "metadata": {
        "id": "W8ROgdyuf_k1"
      }
    },
    {
      "cell_type": "markdown",
      "source": [
        "## Super Data Science and Udemy! Big Thanks! \n",
        "\n",
        "![](https://preview.redd.it/o4mshdf4hui01.jpg?width=750&auto=webp&s=2d647d5d30a1f1b7507411929ff077e1df967e00)"
      ],
      "metadata": {
        "id": "rPCWE6k2f_k3"
      }
    },
    {
      "cell_type": "markdown",
      "source": [
        "### *Table of content*\n",
        "\n",
        "[1. What does KMeans do?](#1)\n",
        "\n",
        "\n",
        "[2. Applications](#2)\n",
        "\n",
        "\n",
        "[3. Working](#3)\n",
        "\n",
        "\n",
        "[4. Choosing the right K](#4)\n",
        "\n",
        "\n",
        "\n",
        "[5. Centroid Random Initialisation Trap](#5)\n",
        "\n",
        "\n",
        "\n",
        "[6. Implemention](#6)\n",
        "\n",
        "\n",
        "\n",
        "[7. Visualisation](#7)"
      ],
      "metadata": {
        "id": "GnfSZ5ROf_k4"
      }
    },
    {
      "cell_type": "markdown",
      "source": [
        "<a id=\"1\"></a>\n",
        "## 1. What does KMeans do?\n",
        "\n",
        "K-means clustering is a type of unsupervised learning, which is used when you have unlabeled data (i.e., data without defined categories or groups). The goal of this algorithm is to find groups in the data, with the number of groups represented by the variable K. The algorithm works iteratively to assign each data point to one of K groups based on the features that are provided. Data points are clustered based on feature similarity. The results of the K-means clustering algorithm are:\n",
        "\n",
        "* The centroids of the K clusters, which can be used to label new data\n",
        "* Labels for the training data (each data point is assigned to a single cluster)"
      ],
      "metadata": {
        "id": "A46Wch7nf_k5"
      }
    },
    {
      "cell_type": "markdown",
      "source": [
        "![](https://imgur.com/a/wVDJPuZ)"
      ],
      "metadata": {
        "id": "cyCiU8Cmf_k5"
      }
    },
    {
      "cell_type": "markdown",
      "source": [
        "![](https://i.imgur.com/rwkQNbv.png)"
      ],
      "metadata": {
        "id": "tzy5dq_Cf_k6"
      }
    },
    {
      "cell_type": "markdown",
      "source": [
        "<a id=\"2\"></a>\n",
        "## 2. Applications\n",
        "The K-means clustering algorithm is used to find groups which have not been explicitly labeled in the data. This can be used to confirm business assumptions about what types of groups exist or to identify unknown groups in complex data sets. Once the algorithm has been run and the groups are defined, any new data can be easily assigned to the correct group.\n",
        "\n",
        "This is a versatile algorithm that can be used for any type of grouping. Some examples of use cases are:\n",
        "\n",
        "* Behavioral segmentation:\n",
        "* * Segment by purchase history\n",
        "* * Segment by activities on application, website, or platform\n",
        "* * Define personas based on interests\n",
        "* * Create profiles based on activity monitoring\n",
        "* Inventory categorization:\n",
        "* * Group inventory by sales activity\n",
        "* * Group inventory by manufacturing metrics\n",
        "* Sorting sensor measurements:\n",
        "* * Detect activity types in motion sensors\n",
        "* * Group images\n",
        "* * Separate audio\n",
        "* * Identify groups in health monitoring\n",
        "* Detecting bots or anomalies:\n",
        "* * Separate valid activity groups from bots"
      ],
      "metadata": {
        "id": "fXBjHIIGf_k6"
      }
    },
    {
      "cell_type": "markdown",
      "source": [
        "<a id=\"3\"></a>\n",
        "## 3. Working\n",
        "\n",
        "Let's now discuss the working of KMeans algorithm. The aim is to break the explanation down in the simplest way possible. \n",
        "\n",
        "\n",
        "#### It begins with choosing the number of K clusters. The K signifies the number of clusters that the algorithm would find in the dataset. Now choosing the right K is very important. Sometimes the K is clearly visible from the dataset when visualized. However most of the times this is not the case and in a short time we'll see about how to choose the right K value.\n",
        "\n",
        "\n",
        "\n",
        "![](https://i.imgur.com/RBK4dtA.png)\n"
      ],
      "metadata": {
        "id": "SPXBAvQjf_k7"
      }
    },
    {
      "cell_type": "markdown",
      "source": [
        "#### The second step is to allocate K random points as centroids. These K points could be points from the dataset or outside. There's one thing to note however. The random initialisation of centroids can sometimes cause random initialisation trap which we would see in this section soon.\n",
        "\n",
        "![](https://i.imgur.com/LfI2qfl.png)"
      ],
      "metadata": {
        "id": "ZtkHVUgEf_k7"
      }
    },
    {
      "cell_type": "markdown",
      "source": [
        "#### In the third step the dataset points would be allocated to the centroid which is closest to them.\n",
        "\n",
        "\n",
        "\n",
        "![](https://i.imgur.com/9I5JH3m.png)\n"
      ],
      "metadata": {
        "id": "xoE9_86hf_k7"
      }
    },
    {
      "cell_type": "markdown",
      "source": [
        "#### The fourth step is to calculate the centroid of the individual clusters and place the old centroid there.\n",
        "\n",
        "\n",
        "\n",
        "\n",
        "![](https://i.imgur.com/FyIeKuA.png)"
      ],
      "metadata": {
        "id": "A6E7netLf_k8"
      }
    },
    {
      "cell_type": "markdown",
      "source": [
        "#### The fifth step is to reassign points like we did in step 3. If reassignment takes place then we need to go back to step four. If no reassignment takes place then we can say that our model has converged and its ready.\n",
        "\n",
        "\n",
        "\n",
        "\n",
        "![](https://i.imgur.com/aRaGcKB.png)"
      ],
      "metadata": {
        "id": "F5dGhrdAf_k8"
      }
    },
    {
      "cell_type": "markdown",
      "source": [
        "## Step Summary\n",
        "### To summarise the steps we can say :\n",
        "![](https://i.imgur.com/3jTk7Y0.png)"
      ],
      "metadata": {
        "id": "2qcwR1QHf_k8"
      }
    },
    {
      "cell_type": "markdown",
      "source": [
        "<a id=\"4\"></a>\n",
        "## 4. Choosing the right K\n",
        "\n",
        "The way to evaluate the choice of K is made using a parameter known as WCSS. WCSS stands for **Within Cluster Sum of Squares**.\n",
        "It should be low. Here's the formula representation for example when K = 3\n",
        "\n",
        "Summation Distance(p,c) is the sum of distance of points in a cluster from the centroid.\n",
        "\n",
        "\n",
        "![](https://i.imgur.com/5W63xul.png)"
      ],
      "metadata": {
        "id": "jr6vysqbf_k9"
      }
    },
    {
      "cell_type": "markdown",
      "source": [
        "The Elbow Method is then used to choose the best K value. In the depiction below we can see that after 3 there's no significant decrease in WCSS so 3 is the best here. Therefore there's an elbow shape that forms and it is usually a good idea to pick the number where this elbow is formed. There would be many times when the graph wouldn't be this intuitive but with practice it becomes easier.\n",
        "\n",
        "![](https://i.imgur.com/gi9p7V5.png)"
      ],
      "metadata": {
        "id": "nsmpMiPkf_k9"
      }
    },
    {
      "cell_type": "markdown",
      "source": [
        "<a id=\"5\"></a>\n",
        "## 5. Centroid Random Initialisation Trap\n",
        "\n",
        "Through these images let's see how two different random initialisations can cause a totally different outcome.\n",
        "\n",
        "### Init 1\n",
        "\n",
        "\n",
        "\n",
        "![](https://i.imgur.com/zsC9z0z.png)\n",
        "\n",
        "\n",
        "\n",
        "\n",
        "### Init 2\n",
        "\n",
        "\n",
        "\n",
        "![](https://i.imgur.com/kU5BX6j.png)"
      ],
      "metadata": {
        "id": "LmLOFaWtf_k-"
      }
    },
    {
      "cell_type": "markdown",
      "source": [
        "So we saw that even with clear distinction possible visually, wrong randomisation can produce wrong results.\n",
        "There have been researches carried out and one of the most famous ways to initialise centroids is KMeans++.\n",
        "The best thing is that the whole algorithm remains the same but the only difference is that we provide an argument to SKlearn to use KMeans++ for initialisation. There are many papers explaining the KMeans++ but the explanation is beyond this notebook for now. :)"
      ],
      "metadata": {
        "id": "FTm5QfUdf_k-"
      }
    },
    {
      "cell_type": "markdown",
      "source": [
        "![](https://cdn-images-1.medium.com/max/1200/1*x7P7gqjo8k2_bj2rTQWAfg.jpeg)"
      ],
      "metadata": {
        "id": "znGeUKjNf_k_"
      }
    },
    {
      "cell_type": "markdown",
      "source": [
        "<a id=\"6\"></a>\n",
        "## 6. Implementation"
      ],
      "metadata": {
        "id": "9RNrn0myf_k_"
      }
    },
    {
      "cell_type": "code",
      "source": [
        "import numpy as np # linear algebra\n",
        "import pandas as pd # data processing, CSV file I/O (e.g. pd.read_csv)\n",
        "import os\n",
        "import matplotlib.pyplot as plt\n",
        "import seaborn as sns\n",
        "sns.set(context=\"notebook\", palette=\"Spectral\", style = 'darkgrid' ,font_scale = 1.5, color_codes=True)\n",
        "#print(os.listdir(\"/content\"))"
      ],
      "metadata": {
        "_uuid": "8f2839f25d086af736a60e9eeb907d3b93b6e0e5",
        "_cell_guid": "b1076dfc-b9ad-4769-8c92-a6c4dae69d19",
        "trusted": true,
        "id": "wacIgNQkf_lA"
      },
      "execution_count": null,
      "outputs": []
    },
    {
      "cell_type": "code",
      "source": [
        "#https://towardsdatascience.com/3-ways-to-load-csv-files-into-colab-7c14fcbdcb92\n",
        "from google.colab import files\n",
        "uploaded = files.upload()"
      ],
      "metadata": {
        "colab": {
          "base_uri": "https://localhost:8080/",
          "height": 73
        },
        "id": "LJemQ2KbxQmq",
        "outputId": "6834d8be-70f9-4626-8ac2-aa006dfe30d5"
      },
      "execution_count": null,
      "outputs": [
        {
          "output_type": "display_data",
          "data": {
            "text/plain": [
              "<IPython.core.display.HTML object>"
            ],
            "text/html": [
              "\n",
              "     <input type=\"file\" id=\"files-6fbdef58-974c-47c2-ada9-0a505dc6ee09\" name=\"files[]\" multiple disabled\n",
              "        style=\"border:none\" />\n",
              "     <output id=\"result-6fbdef58-974c-47c2-ada9-0a505dc6ee09\">\n",
              "      Upload widget is only available when the cell has been executed in the\n",
              "      current browser session. Please rerun this cell to enable.\n",
              "      </output>\n",
              "      <script>// Copyright 2017 Google LLC\n",
              "//\n",
              "// Licensed under the Apache License, Version 2.0 (the \"License\");\n",
              "// you may not use this file except in compliance with the License.\n",
              "// You may obtain a copy of the License at\n",
              "//\n",
              "//      http://www.apache.org/licenses/LICENSE-2.0\n",
              "//\n",
              "// Unless required by applicable law or agreed to in writing, software\n",
              "// distributed under the License is distributed on an \"AS IS\" BASIS,\n",
              "// WITHOUT WARRANTIES OR CONDITIONS OF ANY KIND, either express or implied.\n",
              "// See the License for the specific language governing permissions and\n",
              "// limitations under the License.\n",
              "\n",
              "/**\n",
              " * @fileoverview Helpers for google.colab Python module.\n",
              " */\n",
              "(function(scope) {\n",
              "function span(text, styleAttributes = {}) {\n",
              "  const element = document.createElement('span');\n",
              "  element.textContent = text;\n",
              "  for (const key of Object.keys(styleAttributes)) {\n",
              "    element.style[key] = styleAttributes[key];\n",
              "  }\n",
              "  return element;\n",
              "}\n",
              "\n",
              "// Max number of bytes which will be uploaded at a time.\n",
              "const MAX_PAYLOAD_SIZE = 100 * 1024;\n",
              "\n",
              "function _uploadFiles(inputId, outputId) {\n",
              "  const steps = uploadFilesStep(inputId, outputId);\n",
              "  const outputElement = document.getElementById(outputId);\n",
              "  // Cache steps on the outputElement to make it available for the next call\n",
              "  // to uploadFilesContinue from Python.\n",
              "  outputElement.steps = steps;\n",
              "\n",
              "  return _uploadFilesContinue(outputId);\n",
              "}\n",
              "\n",
              "// This is roughly an async generator (not supported in the browser yet),\n",
              "// where there are multiple asynchronous steps and the Python side is going\n",
              "// to poll for completion of each step.\n",
              "// This uses a Promise to block the python side on completion of each step,\n",
              "// then passes the result of the previous step as the input to the next step.\n",
              "function _uploadFilesContinue(outputId) {\n",
              "  const outputElement = document.getElementById(outputId);\n",
              "  const steps = outputElement.steps;\n",
              "\n",
              "  const next = steps.next(outputElement.lastPromiseValue);\n",
              "  return Promise.resolve(next.value.promise).then((value) => {\n",
              "    // Cache the last promise value to make it available to the next\n",
              "    // step of the generator.\n",
              "    outputElement.lastPromiseValue = value;\n",
              "    return next.value.response;\n",
              "  });\n",
              "}\n",
              "\n",
              "/**\n",
              " * Generator function which is called between each async step of the upload\n",
              " * process.\n",
              " * @param {string} inputId Element ID of the input file picker element.\n",
              " * @param {string} outputId Element ID of the output display.\n",
              " * @return {!Iterable<!Object>} Iterable of next steps.\n",
              " */\n",
              "function* uploadFilesStep(inputId, outputId) {\n",
              "  const inputElement = document.getElementById(inputId);\n",
              "  inputElement.disabled = false;\n",
              "\n",
              "  const outputElement = document.getElementById(outputId);\n",
              "  outputElement.innerHTML = '';\n",
              "\n",
              "  const pickedPromise = new Promise((resolve) => {\n",
              "    inputElement.addEventListener('change', (e) => {\n",
              "      resolve(e.target.files);\n",
              "    });\n",
              "  });\n",
              "\n",
              "  const cancel = document.createElement('button');\n",
              "  inputElement.parentElement.appendChild(cancel);\n",
              "  cancel.textContent = 'Cancel upload';\n",
              "  const cancelPromise = new Promise((resolve) => {\n",
              "    cancel.onclick = () => {\n",
              "      resolve(null);\n",
              "    };\n",
              "  });\n",
              "\n",
              "  // Wait for the user to pick the files.\n",
              "  const files = yield {\n",
              "    promise: Promise.race([pickedPromise, cancelPromise]),\n",
              "    response: {\n",
              "      action: 'starting',\n",
              "    }\n",
              "  };\n",
              "\n",
              "  cancel.remove();\n",
              "\n",
              "  // Disable the input element since further picks are not allowed.\n",
              "  inputElement.disabled = true;\n",
              "\n",
              "  if (!files) {\n",
              "    return {\n",
              "      response: {\n",
              "        action: 'complete',\n",
              "      }\n",
              "    };\n",
              "  }\n",
              "\n",
              "  for (const file of files) {\n",
              "    const li = document.createElement('li');\n",
              "    li.append(span(file.name, {fontWeight: 'bold'}));\n",
              "    li.append(span(\n",
              "        `(${file.type || 'n/a'}) - ${file.size} bytes, ` +\n",
              "        `last modified: ${\n",
              "            file.lastModifiedDate ? file.lastModifiedDate.toLocaleDateString() :\n",
              "                                    'n/a'} - `));\n",
              "    const percent = span('0% done');\n",
              "    li.appendChild(percent);\n",
              "\n",
              "    outputElement.appendChild(li);\n",
              "\n",
              "    const fileDataPromise = new Promise((resolve) => {\n",
              "      const reader = new FileReader();\n",
              "      reader.onload = (e) => {\n",
              "        resolve(e.target.result);\n",
              "      };\n",
              "      reader.readAsArrayBuffer(file);\n",
              "    });\n",
              "    // Wait for the data to be ready.\n",
              "    let fileData = yield {\n",
              "      promise: fileDataPromise,\n",
              "      response: {\n",
              "        action: 'continue',\n",
              "      }\n",
              "    };\n",
              "\n",
              "    // Use a chunked sending to avoid message size limits. See b/62115660.\n",
              "    let position = 0;\n",
              "    do {\n",
              "      const length = Math.min(fileData.byteLength - position, MAX_PAYLOAD_SIZE);\n",
              "      const chunk = new Uint8Array(fileData, position, length);\n",
              "      position += length;\n",
              "\n",
              "      const base64 = btoa(String.fromCharCode.apply(null, chunk));\n",
              "      yield {\n",
              "        response: {\n",
              "          action: 'append',\n",
              "          file: file.name,\n",
              "          data: base64,\n",
              "        },\n",
              "      };\n",
              "\n",
              "      let percentDone = fileData.byteLength === 0 ?\n",
              "          100 :\n",
              "          Math.round((position / fileData.byteLength) * 100);\n",
              "      percent.textContent = `${percentDone}% done`;\n",
              "\n",
              "    } while (position < fileData.byteLength);\n",
              "  }\n",
              "\n",
              "  // All done.\n",
              "  yield {\n",
              "    response: {\n",
              "      action: 'complete',\n",
              "    }\n",
              "  };\n",
              "}\n",
              "\n",
              "scope.google = scope.google || {};\n",
              "scope.google.colab = scope.google.colab || {};\n",
              "scope.google.colab._files = {\n",
              "  _uploadFiles,\n",
              "  _uploadFilesContinue,\n",
              "};\n",
              "})(self);\n",
              "</script> "
            ]
          },
          "metadata": {}
        },
        {
          "output_type": "stream",
          "name": "stdout",
          "text": [
            "Saving Mall_Customers.csv to Mall_Customers.csv\n"
          ]
        }
      ]
    },
    {
      "cell_type": "code",
      "source": [
        "import io\n",
        "dataset = pd.read_csv(io.BytesIO(uploaded['Mall_Customers.csv']))\n",
        "# Dataset is now stored in a Pandas Dataframe"
      ],
      "metadata": {
        "id": "daCQaGd3hCyg"
      },
      "execution_count": null,
      "outputs": []
    },
    {
      "cell_type": "code",
      "source": [
        "dataset.head()"
      ],
      "metadata": {
        "trusted": true,
        "colab": {
          "base_uri": "https://localhost:8080/",
          "height": 204
        },
        "id": "ZXlim8ZSf_lB",
        "outputId": "8ac25c94-20ee-420f-aab8-cd130418332d"
      },
      "execution_count": null,
      "outputs": [
        {
          "output_type": "execute_result",
          "data": {
            "text/plain": [
              "   CustomerID   Genre  Age  Annual_Income_(k$)  Spending_Score\n",
              "0           1    Male   19                  15              39\n",
              "1           2    Male   21                  15              81\n",
              "2           3  Female   20                  16               6\n",
              "3           4  Female   23                  16              77\n",
              "4           5  Female   31                  17              40"
            ],
            "text/html": [
              "\n",
              "  <div id=\"df-e447660e-f9b5-455b-b789-529ed5347758\">\n",
              "    <div class=\"colab-df-container\">\n",
              "      <div>\n",
              "<style scoped>\n",
              "    .dataframe tbody tr th:only-of-type {\n",
              "        vertical-align: middle;\n",
              "    }\n",
              "\n",
              "    .dataframe tbody tr th {\n",
              "        vertical-align: top;\n",
              "    }\n",
              "\n",
              "    .dataframe thead th {\n",
              "        text-align: right;\n",
              "    }\n",
              "</style>\n",
              "<table border=\"1\" class=\"dataframe\">\n",
              "  <thead>\n",
              "    <tr style=\"text-align: right;\">\n",
              "      <th></th>\n",
              "      <th>CustomerID</th>\n",
              "      <th>Genre</th>\n",
              "      <th>Age</th>\n",
              "      <th>Annual_Income_(k$)</th>\n",
              "      <th>Spending_Score</th>\n",
              "    </tr>\n",
              "  </thead>\n",
              "  <tbody>\n",
              "    <tr>\n",
              "      <th>0</th>\n",
              "      <td>1</td>\n",
              "      <td>Male</td>\n",
              "      <td>19</td>\n",
              "      <td>15</td>\n",
              "      <td>39</td>\n",
              "    </tr>\n",
              "    <tr>\n",
              "      <th>1</th>\n",
              "      <td>2</td>\n",
              "      <td>Male</td>\n",
              "      <td>21</td>\n",
              "      <td>15</td>\n",
              "      <td>81</td>\n",
              "    </tr>\n",
              "    <tr>\n",
              "      <th>2</th>\n",
              "      <td>3</td>\n",
              "      <td>Female</td>\n",
              "      <td>20</td>\n",
              "      <td>16</td>\n",
              "      <td>6</td>\n",
              "    </tr>\n",
              "    <tr>\n",
              "      <th>3</th>\n",
              "      <td>4</td>\n",
              "      <td>Female</td>\n",
              "      <td>23</td>\n",
              "      <td>16</td>\n",
              "      <td>77</td>\n",
              "    </tr>\n",
              "    <tr>\n",
              "      <th>4</th>\n",
              "      <td>5</td>\n",
              "      <td>Female</td>\n",
              "      <td>31</td>\n",
              "      <td>17</td>\n",
              "      <td>40</td>\n",
              "    </tr>\n",
              "  </tbody>\n",
              "</table>\n",
              "</div>\n",
              "      <button class=\"colab-df-convert\" onclick=\"convertToInteractive('df-e447660e-f9b5-455b-b789-529ed5347758')\"\n",
              "              title=\"Convert this dataframe to an interactive table.\"\n",
              "              style=\"display:none;\">\n",
              "        \n",
              "  <svg xmlns=\"http://www.w3.org/2000/svg\" height=\"24px\"viewBox=\"0 0 24 24\"\n",
              "       width=\"24px\">\n",
              "    <path d=\"M0 0h24v24H0V0z\" fill=\"none\"/>\n",
              "    <path d=\"M18.56 5.44l.94 2.06.94-2.06 2.06-.94-2.06-.94-.94-2.06-.94 2.06-2.06.94zm-11 1L8.5 8.5l.94-2.06 2.06-.94-2.06-.94L8.5 2.5l-.94 2.06-2.06.94zm10 10l.94 2.06.94-2.06 2.06-.94-2.06-.94-.94-2.06-.94 2.06-2.06.94z\"/><path d=\"M17.41 7.96l-1.37-1.37c-.4-.4-.92-.59-1.43-.59-.52 0-1.04.2-1.43.59L10.3 9.45l-7.72 7.72c-.78.78-.78 2.05 0 2.83L4 21.41c.39.39.9.59 1.41.59.51 0 1.02-.2 1.41-.59l7.78-7.78 2.81-2.81c.8-.78.8-2.07 0-2.86zM5.41 20L4 18.59l7.72-7.72 1.47 1.35L5.41 20z\"/>\n",
              "  </svg>\n",
              "      </button>\n",
              "      \n",
              "  <style>\n",
              "    .colab-df-container {\n",
              "      display:flex;\n",
              "      flex-wrap:wrap;\n",
              "      gap: 12px;\n",
              "    }\n",
              "\n",
              "    .colab-df-convert {\n",
              "      background-color: #E8F0FE;\n",
              "      border: none;\n",
              "      border-radius: 50%;\n",
              "      cursor: pointer;\n",
              "      display: none;\n",
              "      fill: #1967D2;\n",
              "      height: 32px;\n",
              "      padding: 0 0 0 0;\n",
              "      width: 32px;\n",
              "    }\n",
              "\n",
              "    .colab-df-convert:hover {\n",
              "      background-color: #E2EBFA;\n",
              "      box-shadow: 0px 1px 2px rgba(60, 64, 67, 0.3), 0px 1px 3px 1px rgba(60, 64, 67, 0.15);\n",
              "      fill: #174EA6;\n",
              "    }\n",
              "\n",
              "    [theme=dark] .colab-df-convert {\n",
              "      background-color: #3B4455;\n",
              "      fill: #D2E3FC;\n",
              "    }\n",
              "\n",
              "    [theme=dark] .colab-df-convert:hover {\n",
              "      background-color: #434B5C;\n",
              "      box-shadow: 0px 1px 3px 1px rgba(0, 0, 0, 0.15);\n",
              "      filter: drop-shadow(0px 1px 2px rgba(0, 0, 0, 0.3));\n",
              "      fill: #FFFFFF;\n",
              "    }\n",
              "  </style>\n",
              "\n",
              "      <script>\n",
              "        const buttonEl =\n",
              "          document.querySelector('#df-e447660e-f9b5-455b-b789-529ed5347758 button.colab-df-convert');\n",
              "        buttonEl.style.display =\n",
              "          google.colab.kernel.accessAllowed ? 'block' : 'none';\n",
              "\n",
              "        async function convertToInteractive(key) {\n",
              "          const element = document.querySelector('#df-e447660e-f9b5-455b-b789-529ed5347758');\n",
              "          const dataTable =\n",
              "            await google.colab.kernel.invokeFunction('convertToInteractive',\n",
              "                                                     [key], {});\n",
              "          if (!dataTable) return;\n",
              "\n",
              "          const docLinkHtml = 'Like what you see? Visit the ' +\n",
              "            '<a target=\"_blank\" href=https://colab.research.google.com/notebooks/data_table.ipynb>data table notebook</a>'\n",
              "            + ' to learn more about interactive tables.';\n",
              "          element.innerHTML = '';\n",
              "          dataTable['output_type'] = 'display_data';\n",
              "          await google.colab.output.renderOutput(dataTable, element);\n",
              "          const docLink = document.createElement('div');\n",
              "          docLink.innerHTML = docLinkHtml;\n",
              "          element.appendChild(docLink);\n",
              "        }\n",
              "      </script>\n",
              "    </div>\n",
              "  </div>\n",
              "  "
            ]
          },
          "metadata": {},
          "execution_count": 13
        }
      ]
    },
    {
      "cell_type": "code",
      "source": [
        "dataset.info()"
      ],
      "metadata": {
        "trusted": true,
        "colab": {
          "base_uri": "https://localhost:8080/"
        },
        "id": "Yu7pPVxDf_lC",
        "outputId": "9609e393-aa38-4313-b82f-4b7bedbc08c1"
      },
      "execution_count": null,
      "outputs": [
        {
          "output_type": "stream",
          "name": "stdout",
          "text": [
            "<class 'pandas.core.frame.DataFrame'>\n",
            "RangeIndex: 200 entries, 0 to 199\n",
            "Data columns (total 5 columns):\n",
            " #   Column              Non-Null Count  Dtype \n",
            "---  ------              --------------  ----- \n",
            " 0   CustomerID          200 non-null    int64 \n",
            " 1   Genre               200 non-null    object\n",
            " 2   Age                 200 non-null    int64 \n",
            " 3   Annual_Income_(k$)  200 non-null    int64 \n",
            " 4   Spending_Score      200 non-null    int64 \n",
            "dtypes: int64(4), object(1)\n",
            "memory usage: 7.9+ KB\n"
          ]
        }
      ]
    },
    {
      "cell_type": "code",
      "source": [
        "dataset.describe()"
      ],
      "metadata": {
        "trusted": true,
        "colab": {
          "base_uri": "https://localhost:8080/",
          "height": 297
        },
        "id": "sUsdfQLef_lC",
        "outputId": "1ee0fc9c-5225-4abd-c2f4-e4fb829baff7"
      },
      "execution_count": null,
      "outputs": [
        {
          "output_type": "execute_result",
          "data": {
            "text/plain": [
              "       CustomerID         Age  Annual_Income_(k$)  Spending_Score\n",
              "count  200.000000  200.000000          200.000000      200.000000\n",
              "mean   100.500000   38.850000           60.560000       50.200000\n",
              "std     57.879185   13.969007           26.264721       25.823522\n",
              "min      1.000000   18.000000           15.000000        1.000000\n",
              "25%     50.750000   28.750000           41.500000       34.750000\n",
              "50%    100.500000   36.000000           61.500000       50.000000\n",
              "75%    150.250000   49.000000           78.000000       73.000000\n",
              "max    200.000000   70.000000          137.000000       99.000000"
            ],
            "text/html": [
              "\n",
              "  <div id=\"df-ebf076b2-448a-42fd-9a04-132d60df0f41\">\n",
              "    <div class=\"colab-df-container\">\n",
              "      <div>\n",
              "<style scoped>\n",
              "    .dataframe tbody tr th:only-of-type {\n",
              "        vertical-align: middle;\n",
              "    }\n",
              "\n",
              "    .dataframe tbody tr th {\n",
              "        vertical-align: top;\n",
              "    }\n",
              "\n",
              "    .dataframe thead th {\n",
              "        text-align: right;\n",
              "    }\n",
              "</style>\n",
              "<table border=\"1\" class=\"dataframe\">\n",
              "  <thead>\n",
              "    <tr style=\"text-align: right;\">\n",
              "      <th></th>\n",
              "      <th>CustomerID</th>\n",
              "      <th>Age</th>\n",
              "      <th>Annual_Income_(k$)</th>\n",
              "      <th>Spending_Score</th>\n",
              "    </tr>\n",
              "  </thead>\n",
              "  <tbody>\n",
              "    <tr>\n",
              "      <th>count</th>\n",
              "      <td>200.000000</td>\n",
              "      <td>200.000000</td>\n",
              "      <td>200.000000</td>\n",
              "      <td>200.000000</td>\n",
              "    </tr>\n",
              "    <tr>\n",
              "      <th>mean</th>\n",
              "      <td>100.500000</td>\n",
              "      <td>38.850000</td>\n",
              "      <td>60.560000</td>\n",
              "      <td>50.200000</td>\n",
              "    </tr>\n",
              "    <tr>\n",
              "      <th>std</th>\n",
              "      <td>57.879185</td>\n",
              "      <td>13.969007</td>\n",
              "      <td>26.264721</td>\n",
              "      <td>25.823522</td>\n",
              "    </tr>\n",
              "    <tr>\n",
              "      <th>min</th>\n",
              "      <td>1.000000</td>\n",
              "      <td>18.000000</td>\n",
              "      <td>15.000000</td>\n",
              "      <td>1.000000</td>\n",
              "    </tr>\n",
              "    <tr>\n",
              "      <th>25%</th>\n",
              "      <td>50.750000</td>\n",
              "      <td>28.750000</td>\n",
              "      <td>41.500000</td>\n",
              "      <td>34.750000</td>\n",
              "    </tr>\n",
              "    <tr>\n",
              "      <th>50%</th>\n",
              "      <td>100.500000</td>\n",
              "      <td>36.000000</td>\n",
              "      <td>61.500000</td>\n",
              "      <td>50.000000</td>\n",
              "    </tr>\n",
              "    <tr>\n",
              "      <th>75%</th>\n",
              "      <td>150.250000</td>\n",
              "      <td>49.000000</td>\n",
              "      <td>78.000000</td>\n",
              "      <td>73.000000</td>\n",
              "    </tr>\n",
              "    <tr>\n",
              "      <th>max</th>\n",
              "      <td>200.000000</td>\n",
              "      <td>70.000000</td>\n",
              "      <td>137.000000</td>\n",
              "      <td>99.000000</td>\n",
              "    </tr>\n",
              "  </tbody>\n",
              "</table>\n",
              "</div>\n",
              "      <button class=\"colab-df-convert\" onclick=\"convertToInteractive('df-ebf076b2-448a-42fd-9a04-132d60df0f41')\"\n",
              "              title=\"Convert this dataframe to an interactive table.\"\n",
              "              style=\"display:none;\">\n",
              "        \n",
              "  <svg xmlns=\"http://www.w3.org/2000/svg\" height=\"24px\"viewBox=\"0 0 24 24\"\n",
              "       width=\"24px\">\n",
              "    <path d=\"M0 0h24v24H0V0z\" fill=\"none\"/>\n",
              "    <path d=\"M18.56 5.44l.94 2.06.94-2.06 2.06-.94-2.06-.94-.94-2.06-.94 2.06-2.06.94zm-11 1L8.5 8.5l.94-2.06 2.06-.94-2.06-.94L8.5 2.5l-.94 2.06-2.06.94zm10 10l.94 2.06.94-2.06 2.06-.94-2.06-.94-.94-2.06-.94 2.06-2.06.94z\"/><path d=\"M17.41 7.96l-1.37-1.37c-.4-.4-.92-.59-1.43-.59-.52 0-1.04.2-1.43.59L10.3 9.45l-7.72 7.72c-.78.78-.78 2.05 0 2.83L4 21.41c.39.39.9.59 1.41.59.51 0 1.02-.2 1.41-.59l7.78-7.78 2.81-2.81c.8-.78.8-2.07 0-2.86zM5.41 20L4 18.59l7.72-7.72 1.47 1.35L5.41 20z\"/>\n",
              "  </svg>\n",
              "      </button>\n",
              "      \n",
              "  <style>\n",
              "    .colab-df-container {\n",
              "      display:flex;\n",
              "      flex-wrap:wrap;\n",
              "      gap: 12px;\n",
              "    }\n",
              "\n",
              "    .colab-df-convert {\n",
              "      background-color: #E8F0FE;\n",
              "      border: none;\n",
              "      border-radius: 50%;\n",
              "      cursor: pointer;\n",
              "      display: none;\n",
              "      fill: #1967D2;\n",
              "      height: 32px;\n",
              "      padding: 0 0 0 0;\n",
              "      width: 32px;\n",
              "    }\n",
              "\n",
              "    .colab-df-convert:hover {\n",
              "      background-color: #E2EBFA;\n",
              "      box-shadow: 0px 1px 2px rgba(60, 64, 67, 0.3), 0px 1px 3px 1px rgba(60, 64, 67, 0.15);\n",
              "      fill: #174EA6;\n",
              "    }\n",
              "\n",
              "    [theme=dark] .colab-df-convert {\n",
              "      background-color: #3B4455;\n",
              "      fill: #D2E3FC;\n",
              "    }\n",
              "\n",
              "    [theme=dark] .colab-df-convert:hover {\n",
              "      background-color: #434B5C;\n",
              "      box-shadow: 0px 1px 3px 1px rgba(0, 0, 0, 0.15);\n",
              "      filter: drop-shadow(0px 1px 2px rgba(0, 0, 0, 0.3));\n",
              "      fill: #FFFFFF;\n",
              "    }\n",
              "  </style>\n",
              "\n",
              "      <script>\n",
              "        const buttonEl =\n",
              "          document.querySelector('#df-ebf076b2-448a-42fd-9a04-132d60df0f41 button.colab-df-convert');\n",
              "        buttonEl.style.display =\n",
              "          google.colab.kernel.accessAllowed ? 'block' : 'none';\n",
              "\n",
              "        async function convertToInteractive(key) {\n",
              "          const element = document.querySelector('#df-ebf076b2-448a-42fd-9a04-132d60df0f41');\n",
              "          const dataTable =\n",
              "            await google.colab.kernel.invokeFunction('convertToInteractive',\n",
              "                                                     [key], {});\n",
              "          if (!dataTable) return;\n",
              "\n",
              "          const docLinkHtml = 'Like what you see? Visit the ' +\n",
              "            '<a target=\"_blank\" href=https://colab.research.google.com/notebooks/data_table.ipynb>data table notebook</a>'\n",
              "            + ' to learn more about interactive tables.';\n",
              "          element.innerHTML = '';\n",
              "          dataTable['output_type'] = 'display_data';\n",
              "          await google.colab.output.renderOutput(dataTable, element);\n",
              "          const docLink = document.createElement('div');\n",
              "          docLink.innerHTML = docLinkHtml;\n",
              "          element.appendChild(docLink);\n",
              "        }\n",
              "      </script>\n",
              "    </div>\n",
              "  </div>\n",
              "  "
            ]
          },
          "metadata": {},
          "execution_count": 15
        }
      ]
    },
    {
      "cell_type": "code",
      "source": [
        "dataset.isnull().sum()"
      ],
      "metadata": {
        "trusted": true,
        "id": "BcjsLyiAf_lD",
        "outputId": "8d18d9dd-dd84-498a-de2b-0750f59a7c05"
      },
      "execution_count": null,
      "outputs": [
        {
          "output_type": "execute_result",
          "execution_count": 6,
          "data": {
            "text/plain": "Genre                 0\nAge                   0\nAnnual_Income_(k$)    0\nSpending_Score        0\ndtype: int64"
          },
          "metadata": {}
        }
      ]
    },
    {
      "cell_type": "markdown",
      "source": [
        "No Nans found! Great.\n",
        "\n",
        "Not a number (NAN) es una sigla usada para identificar valores nulos."
      ],
      "metadata": {
        "id": "xDoLPPYMf_lD"
      }
    },
    {
      "cell_type": "code",
      "source": [
        "dataset.drop_duplicates(inplace=True)\n",
        "#dataset.describe()"
      ],
      "metadata": {
        "trusted": true,
        "id": "82gB1Fdff_lD"
      },
      "execution_count": null,
      "outputs": []
    },
    {
      "cell_type": "code",
      "source": [
        "# using only Spending_Score and income variable for easy visualisation\n",
        "# REALMENTE estamos seleccionando edad e income\n",
        "X = dataset.iloc[:, [2, 3]].values"
      ],
      "metadata": {
        "trusted": true,
        "id": "ql2BEJiqf_lE"
      },
      "execution_count": null,
      "outputs": []
    },
    {
      "cell_type": "code",
      "source": [
        "X"
      ],
      "metadata": {
        "colab": {
          "base_uri": "https://localhost:8080/"
        },
        "id": "VZfA64gJzJAI",
        "outputId": "88742535-0c08-4f52-9da6-34ddc6e5cbc7"
      },
      "execution_count": null,
      "outputs": [
        {
          "output_type": "execute_result",
          "data": {
            "text/plain": [
              "array([[ 19,  15],\n",
              "       [ 21,  15],\n",
              "       [ 20,  16],\n",
              "       [ 23,  16],\n",
              "       [ 31,  17],\n",
              "       [ 22,  17],\n",
              "       [ 35,  18],\n",
              "       [ 23,  18],\n",
              "       [ 64,  19],\n",
              "       [ 30,  19],\n",
              "       [ 67,  19],\n",
              "       [ 35,  19],\n",
              "       [ 58,  20],\n",
              "       [ 24,  20],\n",
              "       [ 37,  20],\n",
              "       [ 22,  20],\n",
              "       [ 35,  21],\n",
              "       [ 20,  21],\n",
              "       [ 52,  23],\n",
              "       [ 35,  23],\n",
              "       [ 35,  24],\n",
              "       [ 25,  24],\n",
              "       [ 46,  25],\n",
              "       [ 31,  25],\n",
              "       [ 54,  28],\n",
              "       [ 29,  28],\n",
              "       [ 45,  28],\n",
              "       [ 35,  28],\n",
              "       [ 40,  29],\n",
              "       [ 23,  29],\n",
              "       [ 60,  30],\n",
              "       [ 21,  30],\n",
              "       [ 53,  33],\n",
              "       [ 18,  33],\n",
              "       [ 49,  33],\n",
              "       [ 21,  33],\n",
              "       [ 42,  34],\n",
              "       [ 30,  34],\n",
              "       [ 36,  37],\n",
              "       [ 20,  37],\n",
              "       [ 65,  38],\n",
              "       [ 24,  38],\n",
              "       [ 48,  39],\n",
              "       [ 31,  39],\n",
              "       [ 49,  39],\n",
              "       [ 24,  39],\n",
              "       [ 50,  40],\n",
              "       [ 27,  40],\n",
              "       [ 29,  40],\n",
              "       [ 31,  40],\n",
              "       [ 49,  42],\n",
              "       [ 33,  42],\n",
              "       [ 31,  43],\n",
              "       [ 59,  43],\n",
              "       [ 50,  43],\n",
              "       [ 47,  43],\n",
              "       [ 51,  44],\n",
              "       [ 69,  44],\n",
              "       [ 27,  46],\n",
              "       [ 53,  46],\n",
              "       [ 70,  46],\n",
              "       [ 19,  46],\n",
              "       [ 67,  47],\n",
              "       [ 54,  47],\n",
              "       [ 63,  48],\n",
              "       [ 18,  48],\n",
              "       [ 43,  48],\n",
              "       [ 68,  48],\n",
              "       [ 19,  48],\n",
              "       [ 32,  48],\n",
              "       [ 70,  49],\n",
              "       [ 47,  49],\n",
              "       [ 60,  50],\n",
              "       [ 60,  50],\n",
              "       [ 59,  54],\n",
              "       [ 26,  54],\n",
              "       [ 45,  54],\n",
              "       [ 40,  54],\n",
              "       [ 23,  54],\n",
              "       [ 49,  54],\n",
              "       [ 57,  54],\n",
              "       [ 38,  54],\n",
              "       [ 67,  54],\n",
              "       [ 46,  54],\n",
              "       [ 21,  54],\n",
              "       [ 48,  54],\n",
              "       [ 55,  57],\n",
              "       [ 22,  57],\n",
              "       [ 34,  58],\n",
              "       [ 50,  58],\n",
              "       [ 68,  59],\n",
              "       [ 18,  59],\n",
              "       [ 48,  60],\n",
              "       [ 40,  60],\n",
              "       [ 32,  60],\n",
              "       [ 24,  60],\n",
              "       [ 47,  60],\n",
              "       [ 27,  60],\n",
              "       [ 48,  61],\n",
              "       [ 20,  61],\n",
              "       [ 23,  62],\n",
              "       [ 49,  62],\n",
              "       [ 67,  62],\n",
              "       [ 26,  62],\n",
              "       [ 49,  62],\n",
              "       [ 21,  62],\n",
              "       [ 66,  63],\n",
              "       [ 54,  63],\n",
              "       [ 68,  63],\n",
              "       [ 66,  63],\n",
              "       [ 65,  63],\n",
              "       [ 19,  63],\n",
              "       [ 38,  64],\n",
              "       [ 19,  64],\n",
              "       [ 18,  65],\n",
              "       [ 19,  65],\n",
              "       [ 63,  65],\n",
              "       [ 49,  65],\n",
              "       [ 51,  67],\n",
              "       [ 50,  67],\n",
              "       [ 27,  67],\n",
              "       [ 38,  67],\n",
              "       [ 40,  69],\n",
              "       [ 39,  69],\n",
              "       [ 23,  70],\n",
              "       [ 31,  70],\n",
              "       [ 43,  71],\n",
              "       [ 40,  71],\n",
              "       [ 59,  71],\n",
              "       [ 38,  71],\n",
              "       [ 47,  71],\n",
              "       [ 39,  71],\n",
              "       [ 25,  72],\n",
              "       [ 31,  72],\n",
              "       [ 20,  73],\n",
              "       [ 29,  73],\n",
              "       [ 44,  73],\n",
              "       [ 32,  73],\n",
              "       [ 19,  74],\n",
              "       [ 35,  74],\n",
              "       [ 57,  75],\n",
              "       [ 32,  75],\n",
              "       [ 28,  76],\n",
              "       [ 32,  76],\n",
              "       [ 25,  77],\n",
              "       [ 28,  77],\n",
              "       [ 48,  77],\n",
              "       [ 32,  77],\n",
              "       [ 34,  78],\n",
              "       [ 34,  78],\n",
              "       [ 43,  78],\n",
              "       [ 39,  78],\n",
              "       [ 44,  78],\n",
              "       [ 38,  78],\n",
              "       [ 47,  78],\n",
              "       [ 27,  78],\n",
              "       [ 37,  78],\n",
              "       [ 30,  78],\n",
              "       [ 34,  78],\n",
              "       [ 30,  78],\n",
              "       [ 56,  79],\n",
              "       [ 29,  79],\n",
              "       [ 19,  81],\n",
              "       [ 31,  81],\n",
              "       [ 50,  85],\n",
              "       [ 36,  85],\n",
              "       [ 42,  86],\n",
              "       [ 33,  86],\n",
              "       [ 36,  87],\n",
              "       [ 32,  87],\n",
              "       [ 40,  87],\n",
              "       [ 28,  87],\n",
              "       [ 36,  87],\n",
              "       [ 36,  87],\n",
              "       [ 52,  88],\n",
              "       [ 30,  88],\n",
              "       [ 58,  88],\n",
              "       [ 27,  88],\n",
              "       [ 59,  93],\n",
              "       [ 35,  93],\n",
              "       [ 37,  97],\n",
              "       [ 32,  97],\n",
              "       [ 46,  98],\n",
              "       [ 29,  98],\n",
              "       [ 41,  99],\n",
              "       [ 30,  99],\n",
              "       [ 54, 101],\n",
              "       [ 28, 101],\n",
              "       [ 41, 103],\n",
              "       [ 36, 103],\n",
              "       [ 34, 103],\n",
              "       [ 32, 103],\n",
              "       [ 33, 113],\n",
              "       [ 38, 113],\n",
              "       [ 47, 120],\n",
              "       [ 35, 120],\n",
              "       [ 45, 126],\n",
              "       [ 32, 126],\n",
              "       [ 32, 137],\n",
              "       [ 30, 137]])"
            ]
          },
          "metadata": {},
          "execution_count": 22
        }
      ]
    },
    {
      "cell_type": "code",
      "source": [
        "# Using the elbow method to find the optimal number of clusters\n",
        "from sklearn.cluster import KMeans\n",
        "wcss = []\n",
        "for i in range(1, 11):\n",
        "    kmeans = KMeans(n_clusters = i, init = 'k-means++', random_state = 42)\n",
        "    kmeans.fit(X)\n",
        "    # inertia method returns wcss for that model\n",
        "    wcss.append(kmeans.inertia_)"
      ],
      "metadata": {
        "_cell_guid": "79c7e3d0-c299-4dcb-8224-4455121ee9b0",
        "_uuid": "d629ff2d2480ee46fbb7e2d37f6b5fab8052498a",
        "trusted": true,
        "id": "gzNXxcTSf_lE"
      },
      "execution_count": null,
      "outputs": []
    },
    {
      "cell_type": "code",
      "source": [
        "plt.figure(figsize=(10,5))\n",
        "sns.lineplot(range(1, 11), wcss,marker='o',color='red')\n",
        "plt.title('The Elbow Method')\n",
        "plt.xlabel('Number of clusters')\n",
        "plt.ylabel('WCSS')\n",
        "plt.show()\n"
      ],
      "metadata": {
        "trusted": true,
        "colab": {
          "base_uri": "https://localhost:8080/",
          "height": 426
        },
        "id": "iSyz2ejrf_lE",
        "outputId": "af671476-8626-45c9-aa19-61578dc3fe78"
      },
      "execution_count": null,
      "outputs": [
        {
          "output_type": "stream",
          "name": "stderr",
          "text": [
            "/usr/local/lib/python3.7/dist-packages/seaborn/_decorators.py:43: FutureWarning: Pass the following variables as keyword args: x, y. From version 0.12, the only valid positional argument will be `data`, and passing other arguments without an explicit keyword will result in an error or misinterpretation.\n",
            "  FutureWarning\n"
          ]
        },
        {
          "output_type": "display_data",
          "data": {
            "text/plain": [
              "<Figure size 720x360 with 1 Axes>"
            ],
            "image/png": "[encoded data removed]"
          },
          "metadata": {}
        }
      ]
    },
    {
      "cell_type": "code",
      "source": [
        "# Fitting K-Means to the dataset\n",
        "kmeans = KMeans(n_clusters = 5, init = 'k-means++', random_state = 42)\n",
        "y_kmeans = kmeans.fit_predict(X)\n",
        "y_kmeans"
      ],
      "metadata": {
        "trusted": true,
        "colab": {
          "base_uri": "https://localhost:8080/"
        },
        "id": "B5ao0q5lf_lF",
        "outputId": "d6b292f5-ab84-480e-971d-f4fb7f72c431"
      },
      "execution_count": null,
      "outputs": [
        {
          "output_type": "execute_result",
          "data": {
            "text/plain": [
              "array([1, 1, 1, 1, 1, 1, 1, 1, 3, 1, 3, 1, 1, 1, 1, 1, 1, 1, 1, 1, 1, 1,\n",
              "       1, 1, 3, 1, 1, 1, 1, 1, 3, 1, 3, 1, 3, 1, 1, 1, 1, 1, 3, 1, 3, 1,\n",
              "       3, 1, 3, 1, 1, 1, 3, 1, 1, 3, 3, 3, 3, 3, 4, 3, 3, 4, 3, 3, 3, 4,\n",
              "       3, 3, 4, 4, 3, 3, 3, 3, 3, 4, 3, 4, 4, 3, 3, 4, 3, 3, 4, 3, 3, 4,\n",
              "       4, 3, 3, 4, 3, 4, 4, 4, 3, 4, 3, 4, 4, 3, 3, 4, 3, 4, 3, 3, 3, 3,\n",
              "       3, 4, 2, 4, 4, 4, 3, 2, 2, 2, 4, 2, 2, 2, 4, 2, 2, 2, 2, 2, 2, 2,\n",
              "       4, 2, 4, 2, 2, 2, 4, 2, 2, 2, 2, 2, 2, 2, 2, 2, 2, 2, 2, 2, 2, 2,\n",
              "       2, 2, 2, 2, 2, 2, 2, 2, 2, 2, 2, 2, 2, 2, 2, 2, 2, 2, 2, 2, 2, 2,\n",
              "       2, 2, 2, 2, 0, 0, 0, 0, 0, 0, 0, 0, 0, 0, 0, 0, 0, 0, 0, 0, 0, 0,\n",
              "       0, 0], dtype=int32)"
            ]
          },
          "metadata": {},
          "execution_count": 26
        }
      ]
    },
    {
      "cell_type": "markdown",
      "source": [
        "<a id=\"7\"></a>\n",
        "## 7. Visualisation"
      ],
      "metadata": {
        "id": "JpxZAFI0f_lF"
      }
    },
    {
      "cell_type": "code",
      "source": [
        "# Visualising the clusters\n",
        "plt.figure(figsize=(15,7))\n",
        "sns.scatterplot(X[y_kmeans == 0, 0], X[y_kmeans == 0, 1], color = 'yellow', label = 'Cluster 1',s=50)\n",
        "sns.scatterplot(X[y_kmeans == 1, 0], X[y_kmeans == 1, 1], color = 'blue', label = 'Cluster 2',s=50)\n",
        "sns.scatterplot(X[y_kmeans == 2, 0], X[y_kmeans == 2, 1], color = 'green', label = 'Cluster 3',s=50)\n",
        "sns.scatterplot(X[y_kmeans == 3, 0], X[y_kmeans == 3, 1], color = 'grey', label = 'Cluster 4',s=50)\n",
        "sns.scatterplot(X[y_kmeans == 4, 0], X[y_kmeans == 4, 1], color = 'orange', label = 'Cluster 5',s=50)\n",
        "sns.scatterplot(kmeans.cluster_centers_[:, 0], kmeans.cluster_centers_[:, 1], color = 'red', \n",
        "                label = 'Centroids',s=300,marker=',')\n",
        "plt.grid(False)\n",
        "plt.title('Clusters of customers')\n",
        "plt.xlabel('Annual Income (k$)')\n",
        "plt.ylabel('Spending Score (1-100)')\n",
        "plt.legend()\n",
        "plt.show()"
      ],
      "metadata": {
        "trusted": true,
        "colab": {
          "base_uri": "https://localhost:8080/",
          "height": 705
        },
        "id": "fGhmkxl0f_lF",
        "outputId": "c80ac7a9-b0db-48ec-ca26-1fae41218cee"
      },
      "execution_count": null,
      "outputs": [
        {
          "output_type": "stream",
          "name": "stderr",
          "text": [
            "/usr/local/lib/python3.7/dist-packages/seaborn/_decorators.py:43: FutureWarning: Pass the following variables as keyword args: x, y. From version 0.12, the only valid positional argument will be `data`, and passing other arguments without an explicit keyword will result in an error or misinterpretation.\n",
            "  FutureWarning\n",
            "/usr/local/lib/python3.7/dist-packages/seaborn/_decorators.py:43: FutureWarning: Pass the following variables as keyword args: x, y. From version 0.12, the only valid positional argument will be `data`, and passing other arguments without an explicit keyword will result in an error or misinterpretation.\n",
            "  FutureWarning\n",
            "/usr/local/lib/python3.7/dist-packages/seaborn/_decorators.py:43: FutureWarning: Pass the following variables as keyword args: x, y. From version 0.12, the only valid positional argument will be `data`, and passing other arguments without an explicit keyword will result in an error or misinterpretation.\n",
            "  FutureWarning\n",
            "/usr/local/lib/python3.7/dist-packages/seaborn/_decorators.py:43: FutureWarning: Pass the following variables as keyword args: x, y. From version 0.12, the only valid positional argument will be `data`, and passing other arguments without an explicit keyword will result in an error or misinterpretation.\n",
            "  FutureWarning\n",
            "/usr/local/lib/python3.7/dist-packages/seaborn/_decorators.py:43: FutureWarning: Pass the following variables as keyword args: x, y. From version 0.12, the only valid positional argument will be `data`, and passing other arguments without an explicit keyword will result in an error or misinterpretation.\n",
            "  FutureWarning\n",
            "/usr/local/lib/python3.7/dist-packages/seaborn/_decorators.py:43: FutureWarning: Pass the following variables as keyword args: x, y. From version 0.12, the only valid positional argument will be `data`, and passing other arguments without an explicit keyword will result in an error or misinterpretation.\n",
            "  FutureWarning\n"
          ]
        },
        {
          "output_type": "display_data",
          "data": {
            "text/plain": [
              "<Figure size 1080x504 with 1 Axes>"
            ],
            "image/png": "[encoded data removed]"
          },
          "metadata": {}
        }
      ]
    },
    {
      "cell_type": "markdown",
      "source": [
        "Big Thanks to:\n",
        "\n",
        "* https://www.datascience.com/blog/k-means-clustering\n",
        "* https://www.superdatascience.com\n",
        "* https://www.udemy.com\n"
      ],
      "metadata": {
        "trusted": true,
        "id": "jW0Sn2YNf_lF"
      }
    },
    {
      "cell_type": "code",
      "source": [],
      "metadata": {
        "trusted": true,
        "id": "s51Orep5f_lG"
      },
      "execution_count": null,
      "outputs": []
    }
  ]
}