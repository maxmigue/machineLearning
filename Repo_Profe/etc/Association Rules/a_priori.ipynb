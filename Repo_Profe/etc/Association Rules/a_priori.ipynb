{
  "nbformat": 4,
  "nbformat_minor": 0,
  "metadata": {
    "colab": {
      "name": "a priori.ipynb",
      "provenance": [],
      "authorship_tag": "ABX9TyNcJTFp3PcOlNPqIMO/dJLz",
      "include_colab_link": true
    },
    "kernelspec": {
      "name": "python3",
      "display_name": "Python 3"
    },
    "language_info": {
      "name": "python"
    }
  },
  "cells": [
    {
      "cell_type": "markdown",
      "metadata": {
        "id": "view-in-github",
        "colab_type": "text"
      },
      "source": [
        "<a href=\"https://colab.research.google.com/github/castudil/Machine-Learning/blob/main/a_priori.ipynb\" target=\"_parent\"><img src=\"https://colab.research.google.com/assets/colab-badge.svg\" alt=\"Open In Colab\"/></a>"
      ]
    },
    {
      "cell_type": "markdown",
      "metadata": {
        "id": "G0qxZRvKuFG-"
      },
      "source": [
        "Ejemplo del algoritmo a priori en python\n",
        "\n",
        "En primer lugar vamos a construir el conjunto de transacciones.\n",
        "\n",
        "contamos con una variable que se llama transaccion. entre corchetes se declaran una serie de tuplas. estas tuplas son una serie de transacciones. en Python las tuplas son inmutables, lo que quiere decir que son objetos cuyo vlaor no se puede modificar posteriormente. los valores que declaramos seran constantes durante toda su existencia.\n",
        "\n",
        "En este caso hay 20 transacciones de distintos productos ficticios. Intentaremos encontrar reglas de asociation de productos que tienden a comprarse de manera conjunta.\n",
        "\n",
        "\n",
        "\n"
      ]
    },
    {
      "cell_type": "code",
      "metadata": {
        "id": "lCEYrkowCl4j"
      },
      "source": [
        "# store the item sets as tuples of strings in a list\n",
        "transactions = [\n",
        "    (\"beer\", \"wine\", \"cheese\"),\n",
        "    (\"beer\", \"potato chips\"),\n",
        "    (\"eggs\", \"flour\", \"butter\", \"cheese\"),\n",
        "    (\"eggs\", \"flour\", \"butter\", \"beer\", \"potato chips\"),\n",
        "    (\"wine\", \"cheese\"),\n",
        "    (\"potato chips\"),\n",
        "    (\"eggs\", \"flour\", \"butter\", \"wine\", \"cheese\"),\n",
        "    (\"eggs\", \"flour\", \"butter\", \"beer\", \"potato chips\"),\n",
        "    (\"wine\", \"beer\"),\n",
        "    (\"beer\", \"potato chips\"),\n",
        "    (\"butter\", \"eggs\"),\n",
        "    (\"beer\", \"potato chips\"),\n",
        "    (\"flour\", \"eggs\"),\n",
        "    (\"beer\", \"potato chips\"),\n",
        "    (\"eggs\", \"flour\", \"butter\", \"wine\", \"cheese\"),\n",
        "    (\"beer\", \"wine\", \"potato chips\", \"cheese\"),\n",
        "    (\"wine\", \"cheese\"),\n",
        "    (\"beer\", \"potato chips\"),\n",
        "    (\"wine\", \"cheese\"),\n",
        "    (\"beer\", \"potato chips\"),\n",
        "]"
      ],
      "execution_count": 1,
      "outputs": []
    },
    {
      "cell_type": "markdown",
      "metadata": {
        "id": "6DVFGW_CccYW"
      },
      "source": [
        " Podemos revisar los detalles que estan almacenados en el objeto transaccion."
      ]
    },
    {
      "cell_type": "code",
      "metadata": {
        "colab": {
          "base_uri": "https://localhost:8080/"
        },
        "id": "gh3fXmXWuucw",
        "outputId": "f18c42e5-a375-40af-fd42-f04d98fc6c4c"
      },
      "source": [
        "transactions"
      ],
      "execution_count": 2,
      "outputs": [
        {
          "output_type": "execute_result",
          "data": {
            "text/plain": [
              "[('beer', 'wine', 'cheese'),\n",
              " ('beer', 'potato chips'),\n",
              " ('eggs', 'flour', 'butter', 'cheese'),\n",
              " ('eggs', 'flour', 'butter', 'beer', 'potato chips'),\n",
              " ('wine', 'cheese'),\n",
              " 'potato chips',\n",
              " ('eggs', 'flour', 'butter', 'wine', 'cheese'),\n",
              " ('eggs', 'flour', 'butter', 'beer', 'potato chips'),\n",
              " ('wine', 'beer'),\n",
              " ('beer', 'potato chips'),\n",
              " ('butter', 'eggs'),\n",
              " ('beer', 'potato chips'),\n",
              " ('flour', 'eggs'),\n",
              " ('beer', 'potato chips'),\n",
              " ('eggs', 'flour', 'butter', 'wine', 'cheese'),\n",
              " ('beer', 'wine', 'potato chips', 'cheese'),\n",
              " ('wine', 'cheese'),\n",
              " ('beer', 'potato chips'),\n",
              " ('wine', 'cheese'),\n",
              " ('beer', 'potato chips')]"
            ]
          },
          "metadata": {},
          "execution_count": 2
        }
      ]
    },
    {
      "cell_type": "markdown",
      "metadata": {
        "id": "0ogZEAPHchB6"
      },
      "source": [
        " Ahora procedemos a instalar la biblioteca [efficient-apriori](https://pypi.org/project/efficient-apriori/). Esta libreria promete ser una implementacion rápida y eficiente del algoritmo *a priori*. POdemos facilmente inciporara la posibilidad de analizar reglas de asociacion en python."
      ]
    },
    {
      "cell_type": "code",
      "metadata": {
        "colab": {
          "base_uri": "https://localhost:8080/"
        },
        "id": "S5bid2raC4Hd",
        "outputId": "7d29c5d1-2357-4075-e059-eef7bb1d4e2c"
      },
      "source": [
        "!pip install efficient-apriori"
      ],
      "execution_count": 3,
      "outputs": [
        {
          "output_type": "stream",
          "name": "stdout",
          "text": [
            "Collecting efficient-apriori\n",
            "  Downloading efficient_apriori-2.0.1-py3-none-any.whl (14 kB)\n",
            "Installing collected packages: efficient-apriori\n",
            "Successfully installed efficient-apriori-2.0.1\n"
          ]
        }
      ]
    },
    {
      "cell_type": "markdown",
      "metadata": {
        "id": "wLt6WTYJdPmU"
      },
      "source": [
        "Especificamos el numero de ocurrencias minimo como 7.\n",
        "Este valor lo utilizamos para calcular el soporte minimo, que es un porcentaje asociado a la frecuencia de elementos presentes en las transacciones.\n",
        "\n",
        "Ademas especificamos una confianza minima.\n",
        " "
      ]
    },
    {
      "cell_type": "code",
      "metadata": {
        "id": "KMBxynnACncF"
      },
      "source": [
        "from efficient_apriori import apriori\n",
        "\n",
        "# our min support is 7, but it has to be expressed as a percentage for efficient-apriori\n",
        "min_support = 7/len(transactions) \n",
        "\n",
        "# min confidence allows you to delete rules with low confidence.\n",
        "# For now set min_confidence = 0 to obtain all the rules\n",
        "min_confidence = 0\n",
        "itemsets, rules = apriori(transactions, min_support=min_support, min_confidence=min_confidence)\n"
      ],
      "execution_count": 4,
      "outputs": []
    },
    {
      "cell_type": "markdown",
      "metadata": {
        "id": "eM5OaW05dii7"
      },
      "source": [
        "la funcion apriori retorna dos objetos. el primero es un diccionario, que asocia lementos de la transaccion y su respectivo soporte. en este diccionario (o tambien llamado tabla de simbolos), podemos encontrar items individuales y tambiem pares de items. "
      ]
    },
    {
      "cell_type": "code",
      "metadata": {
        "colab": {
          "base_uri": "https://localhost:8080/"
        },
        "id": "AGSYQcYrDD_5",
        "outputId": "9078a2b8-1824-492a-a0f8-3ac6184dcceb"
      },
      "source": [
        "print(itemsets)"
      ],
      "execution_count": 5,
      "outputs": [
        {
          "output_type": "stream",
          "name": "stdout",
          "text": [
            "{1: {('beer',): 11, ('wine',): 8, ('cheese',): 8, ('potato chips',): 9, ('eggs',): 7}, 2: {('beer', 'potato chips'): 9, ('cheese', 'wine'): 7}}\n"
          ]
        }
      ]
    },
    {
      "cell_type": "markdown",
      "metadata": {
        "id": "lJEGdL54d88b"
      },
      "source": [
        "las reglas de asocaicion son varias y es necesario iterar. el objeto rules es una lista de reglas. Accedemos a las reglas individuales a traves de un ciclo. En este caso se muestra 4 reglas de asociación.\n",
        "\n",
        "rule asume la primera regla, y se imprime el detalle. Luego en la segunda iteracion, rule asume el valor de la siguiente regla, y asi sucesivamente."
      ]
    },
    {
      "cell_type": "code",
      "metadata": {
        "colab": {
          "base_uri": "https://localhost:8080/"
        },
        "id": "BcJtH5D_DO_B",
        "outputId": "d06526c4-f5a0-4611-fe2e-1b6f92888300"
      },
      "source": [
        "for rule in rules:\n",
        "  print(rule)"
      ],
      "execution_count": 6,
      "outputs": [
        {
          "output_type": "stream",
          "name": "stdout",
          "text": [
            "{potato chips} -> {beer} (conf: 1.000, supp: 0.450, lift: 1.818, conv: 450000000.000)\n",
            "{beer} -> {potato chips} (conf: 0.818, supp: 0.450, lift: 1.818, conv: 3.025)\n",
            "{wine} -> {cheese} (conf: 0.875, supp: 0.350, lift: 2.188, conv: 4.800)\n",
            "{cheese} -> {wine} (conf: 0.875, supp: 0.350, lift: 2.188, conv: 4.800)\n"
          ]
        }
      ]
    },
    {
      "cell_type": "markdown",
      "metadata": {
        "id": "REMULAmADazr"
      },
      "source": [
        "Se entrega detalles de las reglas y una serie de metricas, como el soporte, confianza, empuje, entre otros.\n",
        "\n",
        "por ejemplo se aprecia un confianza maxima entre papas fritas y cerveza, los que quiere decir que cada vez que se compra papas fritas, tambien de compra cerveza.\n",
        "\n",
        "En conclusión a estos datos, podríamos argumentar que el levantamiento reglas {wine} -> {cheese} y {cheese} -> {wine} es muy alto.\n",
        "\n",
        "El propietario de esta tienda  probablemente quiera poner al queso y al vino cerca el uno del otro.\n",
        "\n",
        "La asociación {potato chips} -> {beer} y {beer} -> {potato chips}\n",
        " es un poco menos fuerte, pero lo suficientemente alta como para poner también cerveza y papas fritas en el mismo lugar de la tienda."
      ]
    }
  ]
}
